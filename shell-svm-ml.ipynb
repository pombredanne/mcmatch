{
 "cells": [
  {
   "cell_type": "code",
   "execution_count": 13,
   "metadata": {
    "collapsed": false
   },
   "outputs": [],
   "source": [
    "%matplotlib inline\n",
    "from sklearn.neighbors import NearestNeighbors, KDTree\n",
    "\n",
    "from mcmatch import cluster\n",
    "from mcmatch.db.pg_database import PgFunDB\n",
    "from mcmatch.util import extract_funname, signature_to_fname_heuristic\n",
    "from mcmatch.feature.counter import counter_features, relative_counter_features\n",
    "from mcmatch.feature import all_features, textlength_features\n",
    "from mcmatch.feature.aggregator import MetricAggregator\n",
    "from sklearn import preprocessing\n",
    "import pprint\n",
    "import matplotlib.pyplot as plt\n",
    "\n",
    "metr_aggr = MetricAggregator([counter_features[m] for m in ['arithmetic']] + [textlength_features[m] for m in textlength_features])\n",
    "metr_aggr_rel = MetricAggregator([relative_counter_features[m] for m in relative_counter_features] + [textlength_features[m] for m in textlength_features])\n",
    "metr_aggr_tl = MetricAggregator([textlength_features[m] for m in textlength_features])\n",
    "fdb = PgFunDB()\n"
   ]
  },
  {
   "cell_type": "code",
   "execution_count": null,
   "metadata": {
    "collapsed": false
   },
   "outputs": [],
   "source": []
  },
  {
   "cell_type": "code",
   "execution_count": 14,
   "metadata": {
    "collapsed": false
   },
   "outputs": [],
   "source": [
    "def print_analysis(predictions, test_fun_fids, fid_names):\n",
    "    good = 0\n",
    "    nf = 0\n",
    "    f = 0\n",
    "    for i, v in enumerate(predictions):\n",
    "        #if v == 'i2a' or v == 'dummy':\n",
    "        #    continue\n",
    "        fb = signature_to_fname_heuristic(test_fun_fids[i][1])\n",
    "        if v == fb:\n",
    "            good += 1\n",
    "            print \"**********\", i, v, fb\n",
    "        elif fb not in fid_names:\n",
    "            nf += 1\n",
    "            #print \"!!\", fb, \"not in fid_names\"\n",
    "        #print i, v, fb\n",
    "    \n",
    "    print good, \"of\", len(predictions), float(good)/len(predictions)\n",
    "    if nf != len(predictions):\n",
    "        print good, \"of\", len(predictions)-nf, float(good)/(len(predictions)-nf)"
   ]
  },
  {
   "cell_type": "code",
   "execution_count": 15,
   "metadata": {
    "collapsed": true
   },
   "outputs": [],
   "source": [
    "def run_test(fdb, metr_aggr, clf, trainset, transformMode=0):\n",
    "    print \"start\"\n",
    "    fids, train_data = fdb.get_features_np(metr_aggr, in_repositories=trainset)\n",
    "    fid_names = map(lambda z: signature_to_fname_heuristic(z[1]), fids)\n",
    "    test_fun_fids, test_fun_data = fdb.get_features_np(metr_aggr, in_repositories=['t-dietlibc'])\n",
    "    test_fun_names = map(lambda z: signature_to_fname_heuristic(z[1]), test_fun_fids)\n",
    "    train_data, fid_names = cluster.filter_classes(train_data, fid_names, test_fun_names)\n",
    "    ppl = cluster.TransformPipeline(transformMode)\n",
    "    train_data = ppl.transform_trainingset(train_data, labels=fid_names)\n",
    "    print \"Fit\"\n",
    "    clf.fit(train_data, fid_names)\n",
    "    del train_data\n",
    "    test_fun_data = ppl.transform_testset(test_fun_data)\n",
    "    predictions = clf.predict(test_fun_data)\n",
    "    print_analysis(predictions, test_fun_fids, fid_names)\n"
   ]
  },
  {
   "cell_type": "code",
   "execution_count": 16,
   "metadata": {
    "collapsed": false
   },
   "outputs": [],
   "source": [
    "trainset1 = ['glibc', 'musl-1.1.6']\n",
    "trainset2 = ['musl-1.1.6']\n",
    "#trainset_tmu = ['t-musl']\n",
    "#trainset = ['glibc']\n",
    "#trainset2 = trainset_tmu\n",
    "\n",
    "from sklearn import svm\n",
    "from sklearn import tree\n",
    "from sklearn import ensemble\n",
    "from sklearn.naive_bayes import GaussianNB, MultinomialNB, BernoulliNB\n",
    "from sklearn.ensemble import AdaBoostClassifier, BaggingClassifier, ExtraTreesClassifier, GradientBoostingClassifier, RandomForestClassifier\n",
    "from sklearn.neighbors import KNeighborsClassifier\n"
   ]
  },
  {
   "cell_type": "code",
   "execution_count": 17,
   "metadata": {
    "collapsed": false,
    "scrolled": true
   },
   "outputs": [
    {
     "name": "stdout",
     "output_type": "stream",
     "text": [
      "start\n",
      "['dl_iterate_phdr' 'getdtablesize' 'ftw' ..., 'strerror' 'atexit'\n",
      " 'posix_fallocate']\n",
      "[   0.    1.    2. ...,  335.  338.  339.]\n"
     ]
    },
    {
     "ename": "AssertionError",
     "evalue": "not enough class labels for specified k (smallest class has 3)",
     "output_type": "error",
     "traceback": [
      "\u001b[1;31m---------------------------------------------------------------------------\u001b[0m",
      "\u001b[1;31mAssertionError\u001b[0m                            Traceback (most recent call last)",
      "\u001b[1;32m<ipython-input-17-10be0f98436d>\u001b[0m in \u001b[0;36m<module>\u001b[1;34m()\u001b[0m\n\u001b[1;32m----> 1\u001b[1;33m \u001b[0mrun_test\u001b[0m\u001b[1;33m(\u001b[0m\u001b[0mfdb\u001b[0m\u001b[1;33m,\u001b[0m \u001b[0mmetr_aggr\u001b[0m\u001b[1;33m,\u001b[0m \u001b[0msvm\u001b[0m\u001b[1;33m.\u001b[0m\u001b[0mSVC\u001b[0m\u001b[1;33m(\u001b[0m\u001b[1;33m)\u001b[0m\u001b[1;33m,\u001b[0m \u001b[0mtrainset2\u001b[0m\u001b[1;33m,\u001b[0m \u001b[1;36m16\u001b[0m\u001b[1;33m)\u001b[0m\u001b[1;33m\u001b[0m\u001b[0m\n\u001b[0m",
      "\u001b[1;32m<ipython-input-15-28f17e9c9926>\u001b[0m in \u001b[0;36mrun_test\u001b[1;34m(fdb, metr_aggr, clf, trainset, transformMode)\u001b[0m\n\u001b[0;32m      7\u001b[0m     \u001b[0mtrain_data\u001b[0m\u001b[1;33m,\u001b[0m \u001b[0mfid_names\u001b[0m \u001b[1;33m=\u001b[0m \u001b[0mcluster\u001b[0m\u001b[1;33m.\u001b[0m\u001b[0mfilter_classes\u001b[0m\u001b[1;33m(\u001b[0m\u001b[0mtrain_data\u001b[0m\u001b[1;33m,\u001b[0m \u001b[0mfid_names\u001b[0m\u001b[1;33m,\u001b[0m \u001b[0mtest_fun_names\u001b[0m\u001b[1;33m)\u001b[0m\u001b[1;33m\u001b[0m\u001b[0m\n\u001b[0;32m      8\u001b[0m     \u001b[0mppl\u001b[0m \u001b[1;33m=\u001b[0m \u001b[0mcluster\u001b[0m\u001b[1;33m.\u001b[0m\u001b[0mTransformPipeline\u001b[0m\u001b[1;33m(\u001b[0m\u001b[0mtransformMode\u001b[0m\u001b[1;33m)\u001b[0m\u001b[1;33m\u001b[0m\u001b[0m\n\u001b[1;32m----> 9\u001b[1;33m     \u001b[0mtrain_data\u001b[0m \u001b[1;33m=\u001b[0m \u001b[0mppl\u001b[0m\u001b[1;33m.\u001b[0m\u001b[0mtransform_trainingset\u001b[0m\u001b[1;33m(\u001b[0m\u001b[0mtrain_data\u001b[0m\u001b[1;33m,\u001b[0m \u001b[0mlabels\u001b[0m\u001b[1;33m=\u001b[0m\u001b[0mfid_names\u001b[0m\u001b[1;33m)\u001b[0m\u001b[1;33m\u001b[0m\u001b[0m\n\u001b[0m\u001b[0;32m     10\u001b[0m     \u001b[1;32mprint\u001b[0m \u001b[1;34m\"Fit\"\u001b[0m\u001b[1;33m\u001b[0m\u001b[0m\n\u001b[0;32m     11\u001b[0m     \u001b[0mclf\u001b[0m\u001b[1;33m.\u001b[0m\u001b[0mfit\u001b[0m\u001b[1;33m(\u001b[0m\u001b[0mtrain_data\u001b[0m\u001b[1;33m,\u001b[0m \u001b[0mfid_names\u001b[0m\u001b[1;33m)\u001b[0m\u001b[1;33m\u001b[0m\u001b[0m\n",
      "\u001b[1;32m/home/niko/workspace/ma-scripts/mcmatch/cluster.py\u001b[0m in \u001b[0;36mtransform_trainingset\u001b[1;34m(self, ts, labels)\u001b[0m\n\u001b[0;32m    129\u001b[0m \u001b[1;33m\u001b[0m\u001b[0m\n\u001b[0;32m    130\u001b[0m     \u001b[1;32mfor\u001b[0m \u001b[0mp\u001b[0m \u001b[1;32min\u001b[0m \u001b[0mself\u001b[0m\u001b[1;33m.\u001b[0m\u001b[0msupervised_pipeline\u001b[0m\u001b[1;33m:\u001b[0m\u001b[1;33m\u001b[0m\u001b[0m\n\u001b[1;32m--> 131\u001b[1;33m       \u001b[0mp\u001b[0m\u001b[1;33m.\u001b[0m\u001b[0mfit\u001b[0m\u001b[1;33m(\u001b[0m\u001b[0mts\u001b[0m\u001b[1;33m,\u001b[0m \u001b[0mlabels\u001b[0m\u001b[1;33m)\u001b[0m\u001b[1;33m\u001b[0m\u001b[0m\n\u001b[0m\u001b[0;32m    132\u001b[0m       \u001b[0mts\u001b[0m \u001b[1;33m=\u001b[0m \u001b[0mp\u001b[0m\u001b[1;33m.\u001b[0m\u001b[0mtransform\u001b[0m\u001b[1;33m(\u001b[0m\u001b[0mts\u001b[0m\u001b[1;33m)\u001b[0m\u001b[1;33m\u001b[0m\u001b[0m\n\u001b[0;32m    133\u001b[0m \u001b[1;33m\u001b[0m\u001b[0m\n",
      "\u001b[1;32m/usr/lib/python2.7/site-packages/metric_learn-0.1.0-py2.7.egg/metric_learn/lmnn.pyc\u001b[0m in \u001b[0;36mfit\u001b[1;34m(self, X, labels, verbose)\u001b[0m\n\u001b[0;32m     53\u001b[0m     \u001b[0mconvergence_tol\u001b[0m \u001b[1;33m=\u001b[0m \u001b[0mself\u001b[0m\u001b[1;33m.\u001b[0m\u001b[0mparams\u001b[0m\u001b[1;33m[\u001b[0m\u001b[1;34m'convergence_tol'\u001b[0m\u001b[1;33m]\u001b[0m\u001b[1;33m\u001b[0m\u001b[0m\n\u001b[0;32m     54\u001b[0m     \u001b[0mmin_iter\u001b[0m \u001b[1;33m=\u001b[0m \u001b[0mself\u001b[0m\u001b[1;33m.\u001b[0m\u001b[0mparams\u001b[0m\u001b[1;33m[\u001b[0m\u001b[1;34m'min_iter'\u001b[0m\u001b[1;33m]\u001b[0m\u001b[1;33m\u001b[0m\u001b[0m\n\u001b[1;32m---> 55\u001b[1;33m     \u001b[0mself\u001b[0m\u001b[1;33m.\u001b[0m\u001b[0m_process_inputs\u001b[0m\u001b[1;33m(\u001b[0m\u001b[0mX\u001b[0m\u001b[1;33m,\u001b[0m \u001b[0mlabels\u001b[0m\u001b[1;33m)\u001b[0m\u001b[1;33m\u001b[0m\u001b[0m\n\u001b[0m\u001b[0;32m     56\u001b[0m \u001b[1;33m\u001b[0m\u001b[0m\n\u001b[0;32m     57\u001b[0m     \u001b[0mtarget_neighbors\u001b[0m \u001b[1;33m=\u001b[0m \u001b[0mself\u001b[0m\u001b[1;33m.\u001b[0m\u001b[0m_select_targets\u001b[0m\u001b[1;33m(\u001b[0m\u001b[1;33m)\u001b[0m\u001b[1;33m\u001b[0m\u001b[0m\n",
      "\u001b[1;32m/usr/lib/python2.7/site-packages/metric_learn-0.1.0-py2.7.egg/metric_learn/lmnn.pyc\u001b[0m in \u001b[0;36m_process_inputs\u001b[1;34m(self, X, labels)\u001b[0m\n\u001b[0;32m     45\u001b[0m     \u001b[0mk\u001b[0m \u001b[1;33m=\u001b[0m \u001b[0mself\u001b[0m\u001b[1;33m.\u001b[0m\u001b[0mparams\u001b[0m\u001b[1;33m[\u001b[0m\u001b[1;34m'k'\u001b[0m\u001b[1;33m]\u001b[0m\u001b[1;33m\u001b[0m\u001b[0m\n\u001b[0;32m     46\u001b[0m     assert k <= required_k, ('not enough class labels for specified k' +\n\u001b[1;32m---> 47\u001b[1;33m                              ' (smallest class has %d)' % required_k)\n\u001b[0m\u001b[0;32m     48\u001b[0m \u001b[1;33m\u001b[0m\u001b[0m\n\u001b[0;32m     49\u001b[0m   \u001b[1;32mdef\u001b[0m \u001b[0mfit\u001b[0m\u001b[1;33m(\u001b[0m\u001b[0mself\u001b[0m\u001b[1;33m,\u001b[0m \u001b[0mX\u001b[0m\u001b[1;33m,\u001b[0m \u001b[0mlabels\u001b[0m\u001b[1;33m,\u001b[0m \u001b[0mverbose\u001b[0m\u001b[1;33m=\u001b[0m\u001b[0mFalse\u001b[0m\u001b[1;33m)\u001b[0m\u001b[1;33m:\u001b[0m\u001b[1;33m\u001b[0m\u001b[0m\n",
      "\u001b[1;31mAssertionError\u001b[0m: not enough class labels for specified k (smallest class has 3)"
     ]
    }
   ],
   "source": [
    "run_test(fdb, metr_aggr, svm.SVC(), trainset2, 16)"
   ]
  },
  {
   "cell_type": "code",
   "execution_count": 5,
   "metadata": {
    "collapsed": false
   },
   "outputs": [
    {
     "name": "stdout",
     "output_type": "stream",
     "text": [
      "start\n"
     ]
    },
    {
     "ename": "MemoryError",
     "evalue": "",
     "output_type": "error",
     "traceback": [
      "\u001b[1;31m---------------------------------------------------------------------------\u001b[0m",
      "\u001b[1;31mMemoryError\u001b[0m                               Traceback (most recent call last)",
      "\u001b[1;32m<ipython-input-5-10be0f98436d>\u001b[0m in \u001b[0;36m<module>\u001b[1;34m()\u001b[0m\n\u001b[1;32m----> 1\u001b[1;33m \u001b[0mrun_test\u001b[0m\u001b[1;33m(\u001b[0m\u001b[0mfdb\u001b[0m\u001b[1;33m,\u001b[0m \u001b[0mmetr_aggr\u001b[0m\u001b[1;33m,\u001b[0m \u001b[0msvm\u001b[0m\u001b[1;33m.\u001b[0m\u001b[0mSVC\u001b[0m\u001b[1;33m(\u001b[0m\u001b[1;33m)\u001b[0m\u001b[1;33m,\u001b[0m \u001b[0mtrainset2\u001b[0m\u001b[1;33m,\u001b[0m \u001b[1;36m16\u001b[0m\u001b[1;33m)\u001b[0m\u001b[1;33m\u001b[0m\u001b[0m\n\u001b[0m",
      "\u001b[1;32m<ipython-input-3-b40a712aae88>\u001b[0m in \u001b[0;36mrun_test\u001b[1;34m(fdb, metr_aggr, clf, trainset, transformMode)\u001b[0m\n\u001b[0;32m      4\u001b[0m     \u001b[0mfid_names\u001b[0m \u001b[1;33m=\u001b[0m \u001b[0mmap\u001b[0m\u001b[1;33m(\u001b[0m\u001b[1;32mlambda\u001b[0m \u001b[0mz\u001b[0m\u001b[1;33m:\u001b[0m \u001b[0msignature_to_fname_heuristic\u001b[0m\u001b[1;33m(\u001b[0m\u001b[0mz\u001b[0m\u001b[1;33m[\u001b[0m\u001b[1;36m1\u001b[0m\u001b[1;33m]\u001b[0m\u001b[1;33m)\u001b[0m\u001b[1;33m,\u001b[0m \u001b[0mfids\u001b[0m\u001b[1;33m)\u001b[0m\u001b[1;33m\u001b[0m\u001b[0m\n\u001b[0;32m      5\u001b[0m     \u001b[0mppl\u001b[0m \u001b[1;33m=\u001b[0m \u001b[0mcluster\u001b[0m\u001b[1;33m.\u001b[0m\u001b[0mTransformPipeline\u001b[0m\u001b[1;33m(\u001b[0m\u001b[0mtransformMode\u001b[0m\u001b[1;33m)\u001b[0m\u001b[1;33m\u001b[0m\u001b[0m\n\u001b[1;32m----> 6\u001b[1;33m     \u001b[0mtrain_data\u001b[0m \u001b[1;33m=\u001b[0m \u001b[0mppl\u001b[0m\u001b[1;33m.\u001b[0m\u001b[0mtransform_trainingset\u001b[0m\u001b[1;33m(\u001b[0m\u001b[0mtrain_data\u001b[0m\u001b[1;33m,\u001b[0m \u001b[0mlabels\u001b[0m\u001b[1;33m=\u001b[0m\u001b[0mfid_names\u001b[0m\u001b[1;33m)\u001b[0m\u001b[1;33m\u001b[0m\u001b[0m\n\u001b[0m\u001b[0;32m      7\u001b[0m     \u001b[1;32mprint\u001b[0m \u001b[1;34m\"Fit\"\u001b[0m\u001b[1;33m\u001b[0m\u001b[0m\n\u001b[0;32m      8\u001b[0m     \u001b[0mclf\u001b[0m\u001b[1;33m.\u001b[0m\u001b[0mfit\u001b[0m\u001b[1;33m(\u001b[0m\u001b[0mtrain_data\u001b[0m\u001b[1;33m,\u001b[0m \u001b[0mfid_names\u001b[0m\u001b[1;33m)\u001b[0m\u001b[1;33m\u001b[0m\u001b[0m\n",
      "\u001b[1;32m/home/niko/workspace/ma-scripts/mcmatch/cluster.pyc\u001b[0m in \u001b[0;36mtransform_trainingset\u001b[1;34m(self, ts, labels)\u001b[0m\n\u001b[0;32m    123\u001b[0m \u001b[1;33m\u001b[0m\u001b[0m\n\u001b[0;32m    124\u001b[0m     \u001b[1;32mfor\u001b[0m \u001b[0mp\u001b[0m \u001b[1;32min\u001b[0m \u001b[0mself\u001b[0m\u001b[1;33m.\u001b[0m\u001b[0msupervised_pipeline\u001b[0m\u001b[1;33m:\u001b[0m\u001b[1;33m\u001b[0m\u001b[0m\n\u001b[1;32m--> 125\u001b[1;33m       \u001b[0mp\u001b[0m\u001b[1;33m.\u001b[0m\u001b[0mfit\u001b[0m\u001b[1;33m(\u001b[0m\u001b[0mfiltered_ts\u001b[0m\u001b[1;33m,\u001b[0m \u001b[0mfiltered_labels\u001b[0m\u001b[1;33m)\u001b[0m\u001b[1;33m\u001b[0m\u001b[0m\n\u001b[0m\u001b[0;32m    126\u001b[0m       \u001b[0mts\u001b[0m \u001b[1;33m=\u001b[0m \u001b[0mp\u001b[0m\u001b[1;33m.\u001b[0m\u001b[0mtransform\u001b[0m\u001b[1;33m(\u001b[0m\u001b[0mts\u001b[0m\u001b[1;33m)\u001b[0m\u001b[1;33m\u001b[0m\u001b[0m\n\u001b[0;32m    127\u001b[0m \u001b[1;33m\u001b[0m\u001b[0m\n",
      "\u001b[1;32m/usr/lib/python2.7/site-packages/metric_learn-0.1.0-py2.7.egg/metric_learn/lmnn.pyc\u001b[0m in \u001b[0;36mfit\u001b[1;34m(self, X, labels, verbose)\u001b[0m\n\u001b[0;32m     83\u001b[0m       \u001b[1;31m# Compute pairwise distances under current feature\u001b[0m\u001b[1;33m\u001b[0m\u001b[1;33m\u001b[0m\u001b[0m\n\u001b[0;32m     84\u001b[0m       \u001b[0mLx\u001b[0m \u001b[1;33m=\u001b[0m \u001b[0mL\u001b[0m\u001b[1;33m.\u001b[0m\u001b[0mdot\u001b[0m\u001b[1;33m(\u001b[0m\u001b[0mself\u001b[0m\u001b[1;33m.\u001b[0m\u001b[0mX\u001b[0m\u001b[1;33m.\u001b[0m\u001b[0mT\u001b[0m\u001b[1;33m)\u001b[0m\u001b[1;33m.\u001b[0m\u001b[0mT\u001b[0m\u001b[1;33m\u001b[0m\u001b[0m\n\u001b[1;32m---> 85\u001b[1;33m       \u001b[0mg0\u001b[0m \u001b[1;33m=\u001b[0m \u001b[0m_pairwise_L2\u001b[0m\u001b[1;33m(\u001b[0m\u001b[1;33m*\u001b[0m\u001b[0mLx\u001b[0m\u001b[1;33m[\u001b[0m\u001b[0mimpostors\u001b[0m\u001b[1;33m]\u001b[0m\u001b[1;33m)\u001b[0m\u001b[1;33m\u001b[0m\u001b[0m\n\u001b[0m\u001b[0;32m     86\u001b[0m       \u001b[0mNi\u001b[0m \u001b[1;33m=\u001b[0m \u001b[1;33m(\u001b[0m\u001b[1;33m(\u001b[0m\u001b[0mLx\u001b[0m\u001b[1;33m[\u001b[0m\u001b[1;33m:\u001b[0m\u001b[1;33m,\u001b[0m\u001b[0mNone\u001b[0m\u001b[1;33m,\u001b[0m\u001b[1;33m:\u001b[0m\u001b[1;33m]\u001b[0m \u001b[1;33m-\u001b[0m \u001b[0mLx\u001b[0m\u001b[1;33m[\u001b[0m\u001b[0mtarget_neighbors\u001b[0m\u001b[1;33m]\u001b[0m\u001b[1;33m)\u001b[0m\u001b[1;33m**\u001b[0m\u001b[1;36m2\u001b[0m\u001b[1;33m)\u001b[0m\u001b[1;33m.\u001b[0m\u001b[0msum\u001b[0m\u001b[1;33m(\u001b[0m\u001b[0maxis\u001b[0m\u001b[1;33m=\u001b[0m\u001b[1;36m2\u001b[0m\u001b[1;33m)\u001b[0m \u001b[1;33m+\u001b[0m \u001b[1;36m1\u001b[0m\u001b[1;33m\u001b[0m\u001b[0m\n\u001b[0;32m     87\u001b[0m       \u001b[0mg1\u001b[0m\u001b[1;33m,\u001b[0m\u001b[0mg2\u001b[0m \u001b[1;33m=\u001b[0m \u001b[0mNi\u001b[0m\u001b[1;33m[\u001b[0m\u001b[0mimpostors\u001b[0m\u001b[1;33m]\u001b[0m\u001b[1;33m\u001b[0m\u001b[0m\n",
      "\u001b[1;31mMemoryError\u001b[0m: "
     ]
    }
   ],
   "source": [
    "run_test(fdb, metr_aggr, svm.SVC(), trainset2, 16)"
   ]
  },
  {
   "cell_type": "code",
   "execution_count": 5,
   "metadata": {
    "collapsed": false
   },
   "outputs": [
    {
     "name": "stdout",
     "output_type": "stream",
     "text": [
      "start\n",
      "Fit\n",
      "********** 274 getpriority getpriority\n",
      "1 of 596 0.00167785234899\n",
      "1 of 371 0.00269541778976\n"
     ]
    }
   ],
   "source": [
    "run_test(fdb, metr_aggr, tree.DecisionTreeClassifier(criterion=\"gini\"), trainset2, 16)"
   ]
  },
  {
   "cell_type": "code",
   "execution_count": 6,
   "metadata": {
    "collapsed": false
   },
   "outputs": [
    {
     "name": "stdout",
     "output_type": "stream",
     "text": [
      "start\n",
      "Fit\n",
      "********** 44 getgrent getgrent\n",
      "1 of 596 0.00167785234899\n",
      "1 of 371 0.00269541778976\n"
     ]
    }
   ],
   "source": [
    "run_test(fdb, metr_aggr, tree.DecisionTreeClassifier(criterion=\"entropy\"), trainset2, 16)"
   ]
  },
  {
   "cell_type": "code",
   "execution_count": 7,
   "metadata": {
    "collapsed": false
   },
   "outputs": [
    {
     "name": "stdout",
     "output_type": "stream",
     "text": [
      "start\n",
      "Fit\n",
      "********** 274 getpriority getpriority\n",
      "********** 293 cfmakeraw cfmakeraw\n",
      "********** 301 tcsetattr tcsetattr\n",
      "********** 526 iconv iconv\n",
      "********** 553 wcscmp wcscmp\n",
      "5 of 596 0.00838926174497\n",
      "5 of 371 0.0134770889488\n"
     ]
    }
   ],
   "source": [
    "run_test(fdb, metr_aggr, RandomForestClassifier(n_estimators=6), trainset2, 16)"
   ]
  },
  {
   "cell_type": "code",
   "execution_count": 9,
   "metadata": {
    "collapsed": false
   },
   "outputs": [
    {
     "name": "stdout",
     "output_type": "stream",
     "text": [
      "start\n",
      "Fit\n",
      "********** 274 getpriority getpriority\n",
      "********** 328 get_current_dir_name get_current_dir_name\n",
      "********** 526 iconv iconv\n",
      "********** 553 wcscmp wcscmp\n",
      "4 of 596 0.00671140939597\n",
      "4 of 371 0.010781671159\n"
     ]
    }
   ],
   "source": [
    "run_test(fdb, metr_aggr, RandomForestClassifier(n_estimators=10), trainset2, 16)"
   ]
  },
  {
   "cell_type": "code",
   "execution_count": 10,
   "metadata": {
    "collapsed": false
   },
   "outputs": [
    {
     "name": "stdout",
     "output_type": "stream",
     "text": [
      "start\n",
      "Fit\n",
      "********** 146 siginterrupt siginterrupt\n",
      "********** 274 getpriority getpriority\n",
      "********** 293 cfmakeraw cfmakeraw\n",
      "********** 377 wcscpy wcscpy\n",
      "********** 526 iconv iconv\n",
      "5 of 596 0.00838926174497\n",
      "5 of 371 0.0134770889488\n"
     ]
    }
   ],
   "source": [
    "run_test(fdb, metr_aggr, RandomForestClassifier(n_estimators=14), trainset2, 16)"
   ]
  },
  {
   "cell_type": "code",
   "execution_count": 8,
   "metadata": {
    "collapsed": false
   },
   "outputs": [
    {
     "name": "stdout",
     "output_type": "stream",
     "text": [
      "start\n",
      "Fit\n",
      "********** 14 isalnum isalnum\n",
      "********** 51 iconv_open iconv_open\n",
      "********** 274 getpriority getpriority\n",
      "********** 293 cfmakeraw cfmakeraw\n",
      "********** 544 ldiv ldiv\n",
      "5 of 596 0.00838926174497\n",
      "5 of 371 0.0134770889488\n"
     ]
    }
   ],
   "source": [
    "run_test(fdb, metr_aggr, RandomForestClassifier(n_estimators=10), trainset2, 0)"
   ]
  },
  {
   "cell_type": "markdown",
   "metadata": {
    "collapsed": true
   },
   "source": [
    "----------- NEW STUFF --------------"
   ]
  },
  {
   "cell_type": "code",
   "execution_count": 14,
   "metadata": {
    "collapsed": false
   },
   "outputs": [
    {
     "name": "stdout",
     "output_type": "stream",
     "text": [
      "0 rel gini full\n",
      "start\n",
      "Fit\n",
      "********** 2 isblank isblank\n",
      "********** 144 isalnum isalnum\n",
      "********** 197 abs abs\n",
      "********** 253 isblank isblank\n",
      "********** 307 iconv_open iconv_open\n",
      "********** 340 flbf flbf\n",
      "********** 361 mkfifo mkfifo\n",
      "********** 380 usleep usleep\n",
      "********** 456 isalpha isalpha\n",
      "********** 484 sigdelset sigdelset\n",
      "********** 501 bsearch bsearch\n",
      "********** 526 cfmakeraw cfmakeraw\n",
      "********** 535 getopt getopt\n",
      "********** 537 lockf lockf\n",
      "********** 549 wcswidth wcswidth\n",
      "********** 571 to64 to64\n",
      "16 of 596 0.0268456375839\n",
      "16 of 419 0.0381861575179\n",
      "0 rel gini musl\n",
      "start\n",
      "Fit\n",
      "********** 6 getgrent getgrent\n",
      "********** 278 iconv iconv\n",
      "2 of 596 0.00335570469799\n",
      "2 of 371 0.00539083557951\n",
      "0 rel entropy full\n",
      "start\n",
      "Fit\n",
      "********** 2 isblank isblank\n",
      "********** 31 sigaddset sigaddset\n",
      "********** 71 cfsetospeed cfsetospeed\n",
      "********** 144 isalnum isalnum\n",
      "********** 197 abs abs\n",
      "********** 253 isblank isblank\n",
      "********** 340 flbf flbf\n",
      "********** 361 mkfifo mkfifo\n",
      "********** 456 isalpha isalpha\n",
      "********** 484 sigdelset sigdelset\n",
      "********** 526 cfmakeraw cfmakeraw\n",
      "11 of 596 0.0184563758389\n",
      "11 of 419 0.0262529832936\n",
      "0 rel entropy musl\n",
      "start\n",
      "Fit\n",
      "********** 45 vsnprintf vsnprintf\n",
      "********** 520 getpriority getpriority\n",
      "2 of 596 0.00335570469799\n",
      "2 of 371 0.00539083557951\n",
      "0 ctr gini full\n",
      "start\n",
      "Fit\n",
      "********** 14 isalnum isalnum\n",
      "********** 15 isalpha isalpha\n",
      "********** 17 isblank isblank\n",
      "********** 51 iconv_open iconv_open\n",
      "********** 67 md5crypt md5crypt\n",
      "********** 112 getpwent getpwent\n",
      "********** 141 sigaddset sigaddset\n",
      "********** 143 sigdelset sigdelset\n",
      "********** 197 flbf flbf\n",
      "********** 202 abs abs\n",
      "********** 205 atoi atoi\n",
      "********** 207 bsearch bsearch\n",
      "********** 284 mkfifo mkfifo\n",
      "********** 293 cfmakeraw cfmakeraw\n",
      "********** 334 getopt getopt\n",
      "********** 352 usleep usleep\n",
      "********** 385 wmemcmp wmemcmp\n",
      "********** 438 isblank isblank\n",
      "********** 550 memcmp memcmp\n",
      "19 of 596 0.0318791946309\n",
      "19 of 419 0.0453460620525\n",
      "0 ctr gini musl\n",
      "start\n",
      "Fit\n",
      "********** 193 vsnprintf vsnprintf\n",
      "********** 274 getpriority getpriority\n",
      "2 of 596 0.00335570469799\n",
      "2 of 371 0.00539083557951\n",
      "0 ctr entropy full\n",
      "start\n",
      "Fit\n",
      "********** 14 isalnum isalnum\n",
      "********** 15 isalpha isalpha\n",
      "********** 17 isblank isblank\n",
      "********** 83 gethostbyaddr_r gethostbyaddr_r\n",
      "********** 141 sigaddset sigaddset\n",
      "********** 197 flbf flbf\n",
      "********** 202 abs abs\n",
      "********** 284 mkfifo mkfifo\n",
      "********** 293 cfmakeraw cfmakeraw\n",
      "********** 296 cfsetospeed cfsetospeed\n",
      "********** 334 getopt getopt\n",
      "********** 438 isblank isblank\n",
      "********** 468 to64 to64\n",
      "********** 589 getgrouplist getgrouplist\n",
      "14 of 596 0.0234899328859\n",
      "14 of 419 0.0334128878282\n",
      "0 ctr entropy musl\n",
      "start\n",
      "Fit\n",
      "********** 44 getgrent getgrent\n",
      "1 of 596 0.00167785234899\n",
      "1 of 371 0.00269541778976\n",
      "16 rel gini full\n",
      "start\n"
     ]
    },
    {
     "ename": "MemoryError",
     "evalue": "",
     "output_type": "error",
     "traceback": [
      "\u001b[1;31m---------------------------------------------------------------------------\u001b[0m",
      "\u001b[1;31mMemoryError\u001b[0m                               Traceback (most recent call last)",
      "\u001b[1;32m<ipython-input-14-afebe41aa44a>\u001b[0m in \u001b[0;36m<module>\u001b[1;34m()\u001b[0m\n\u001b[0;32m      8\u001b[0m \u001b[1;32mfor\u001b[0m \u001b[0mtfm\u001b[0m\u001b[1;33m,\u001b[0m \u001b[0mmetr_key\u001b[0m\u001b[1;33m,\u001b[0m \u001b[0mdtf\u001b[0m\u001b[1;33m,\u001b[0m \u001b[0mts\u001b[0m \u001b[1;32min\u001b[0m \u001b[0mproduct\u001b[0m\u001b[1;33m(\u001b[0m\u001b[0mtfms\u001b[0m\u001b[1;33m,\u001b[0m \u001b[0mmetra\u001b[0m\u001b[1;33m,\u001b[0m \u001b[0mdtfc\u001b[0m\u001b[1;33m,\u001b[0m \u001b[0mtrainset\u001b[0m\u001b[1;33m)\u001b[0m\u001b[1;33m:\u001b[0m\u001b[1;33m\u001b[0m\u001b[0m\n\u001b[0;32m      9\u001b[0m     \u001b[1;32mprint\u001b[0m \u001b[0mtfm\u001b[0m\u001b[1;33m,\u001b[0m \u001b[0mmetr_key\u001b[0m\u001b[1;33m,\u001b[0m \u001b[0mdtf\u001b[0m\u001b[1;33m,\u001b[0m \u001b[0mts\u001b[0m\u001b[1;33m\u001b[0m\u001b[0m\n\u001b[1;32m---> 10\u001b[1;33m     \u001b[0mrun_test\u001b[0m\u001b[1;33m(\u001b[0m\u001b[0mfdb\u001b[0m\u001b[1;33m,\u001b[0m \u001b[0mmetra\u001b[0m\u001b[1;33m[\u001b[0m\u001b[0mmetr_key\u001b[0m\u001b[1;33m]\u001b[0m\u001b[1;33m,\u001b[0m \u001b[0mtree\u001b[0m\u001b[1;33m.\u001b[0m\u001b[0mDecisionTreeClassifier\u001b[0m\u001b[1;33m(\u001b[0m\u001b[0mcriterion\u001b[0m\u001b[1;33m=\u001b[0m\u001b[0mdtf\u001b[0m\u001b[1;33m)\u001b[0m\u001b[1;33m,\u001b[0m \u001b[0mtrainset\u001b[0m\u001b[1;33m[\u001b[0m\u001b[0mts\u001b[0m\u001b[1;33m]\u001b[0m\u001b[1;33m,\u001b[0m \u001b[0mtfm\u001b[0m\u001b[1;33m)\u001b[0m\u001b[1;33m\u001b[0m\u001b[0m\n\u001b[0m",
      "\u001b[1;32m<ipython-input-5-b40a712aae88>\u001b[0m in \u001b[0;36mrun_test\u001b[1;34m(fdb, metr_aggr, clf, trainset, transformMode)\u001b[0m\n\u001b[0;32m      4\u001b[0m     \u001b[0mfid_names\u001b[0m \u001b[1;33m=\u001b[0m \u001b[0mmap\u001b[0m\u001b[1;33m(\u001b[0m\u001b[1;32mlambda\u001b[0m \u001b[0mz\u001b[0m\u001b[1;33m:\u001b[0m \u001b[0msignature_to_fname_heuristic\u001b[0m\u001b[1;33m(\u001b[0m\u001b[0mz\u001b[0m\u001b[1;33m[\u001b[0m\u001b[1;36m1\u001b[0m\u001b[1;33m]\u001b[0m\u001b[1;33m)\u001b[0m\u001b[1;33m,\u001b[0m \u001b[0mfids\u001b[0m\u001b[1;33m)\u001b[0m\u001b[1;33m\u001b[0m\u001b[0m\n\u001b[0;32m      5\u001b[0m     \u001b[0mppl\u001b[0m \u001b[1;33m=\u001b[0m \u001b[0mcluster\u001b[0m\u001b[1;33m.\u001b[0m\u001b[0mTransformPipeline\u001b[0m\u001b[1;33m(\u001b[0m\u001b[0mtransformMode\u001b[0m\u001b[1;33m)\u001b[0m\u001b[1;33m\u001b[0m\u001b[0m\n\u001b[1;32m----> 6\u001b[1;33m     \u001b[0mtrain_data\u001b[0m \u001b[1;33m=\u001b[0m \u001b[0mppl\u001b[0m\u001b[1;33m.\u001b[0m\u001b[0mtransform_trainingset\u001b[0m\u001b[1;33m(\u001b[0m\u001b[0mtrain_data\u001b[0m\u001b[1;33m,\u001b[0m \u001b[0mlabels\u001b[0m\u001b[1;33m=\u001b[0m\u001b[0mfid_names\u001b[0m\u001b[1;33m)\u001b[0m\u001b[1;33m\u001b[0m\u001b[0m\n\u001b[0m\u001b[0;32m      7\u001b[0m     \u001b[1;32mprint\u001b[0m \u001b[1;34m\"Fit\"\u001b[0m\u001b[1;33m\u001b[0m\u001b[0m\n\u001b[0;32m      8\u001b[0m     \u001b[0mclf\u001b[0m\u001b[1;33m.\u001b[0m\u001b[0mfit\u001b[0m\u001b[1;33m(\u001b[0m\u001b[0mtrain_data\u001b[0m\u001b[1;33m,\u001b[0m \u001b[0mfid_names\u001b[0m\u001b[1;33m)\u001b[0m\u001b[1;33m\u001b[0m\u001b[0m\n",
      "\u001b[1;32m/home/niko/workspace/ma-scripts/mcmatch/cluster.pyc\u001b[0m in \u001b[0;36mtransform_trainingset\u001b[1;34m(self, ts, labels)\u001b[0m\n\u001b[0;32m    123\u001b[0m \u001b[1;33m\u001b[0m\u001b[0m\n\u001b[0;32m    124\u001b[0m     \u001b[1;32mfor\u001b[0m \u001b[0mp\u001b[0m \u001b[1;32min\u001b[0m \u001b[0mself\u001b[0m\u001b[1;33m.\u001b[0m\u001b[0msupervised_pipeline\u001b[0m\u001b[1;33m:\u001b[0m\u001b[1;33m\u001b[0m\u001b[0m\n\u001b[1;32m--> 125\u001b[1;33m       \u001b[0mp\u001b[0m\u001b[1;33m.\u001b[0m\u001b[0mfit\u001b[0m\u001b[1;33m(\u001b[0m\u001b[0mfiltered_ts\u001b[0m\u001b[1;33m,\u001b[0m \u001b[0mfiltered_labels\u001b[0m\u001b[1;33m)\u001b[0m\u001b[1;33m\u001b[0m\u001b[0m\n\u001b[0m\u001b[0;32m    126\u001b[0m       \u001b[0mts\u001b[0m \u001b[1;33m=\u001b[0m \u001b[0mp\u001b[0m\u001b[1;33m.\u001b[0m\u001b[0mtransform\u001b[0m\u001b[1;33m(\u001b[0m\u001b[0mts\u001b[0m\u001b[1;33m)\u001b[0m\u001b[1;33m\u001b[0m\u001b[0m\n\u001b[0;32m    127\u001b[0m \u001b[1;33m\u001b[0m\u001b[0m\n",
      "\u001b[1;32m/usr/lib/python2.7/site-packages/metric_learn-0.1.0-py2.7.egg/metric_learn/lmnn.pyc\u001b[0m in \u001b[0;36mfit\u001b[1;34m(self, X, labels, verbose)\u001b[0m\n\u001b[0;32m     56\u001b[0m \u001b[1;33m\u001b[0m\u001b[0m\n\u001b[0;32m     57\u001b[0m     \u001b[0mtarget_neighbors\u001b[0m \u001b[1;33m=\u001b[0m \u001b[0mself\u001b[0m\u001b[1;33m.\u001b[0m\u001b[0m_select_targets\u001b[0m\u001b[1;33m(\u001b[0m\u001b[1;33m)\u001b[0m\u001b[1;33m\u001b[0m\u001b[0m\n\u001b[1;32m---> 58\u001b[1;33m     \u001b[0mimpostors\u001b[0m \u001b[1;33m=\u001b[0m \u001b[0mself\u001b[0m\u001b[1;33m.\u001b[0m\u001b[0m_find_impostors\u001b[0m\u001b[1;33m(\u001b[0m\u001b[0mtarget_neighbors\u001b[0m\u001b[1;33m[\u001b[0m\u001b[1;33m:\u001b[0m\u001b[1;33m,\u001b[0m\u001b[1;33m-\u001b[0m\u001b[1;36m1\u001b[0m\u001b[1;33m]\u001b[0m\u001b[1;33m)\u001b[0m\u001b[1;33m\u001b[0m\u001b[0m\n\u001b[0m\u001b[0;32m     59\u001b[0m \u001b[1;33m\u001b[0m\u001b[0m\n\u001b[0;32m     60\u001b[0m     \u001b[1;31m# sum outer products\u001b[0m\u001b[1;33m\u001b[0m\u001b[1;33m\u001b[0m\u001b[0m\n",
      "\u001b[1;32m/usr/lib/python2.7/site-packages/metric_learn-0.1.0-py2.7.egg/metric_learn/lmnn.pyc\u001b[0m in \u001b[0;36m_find_impostors\u001b[1;34m(self, furthest_neighbors)\u001b[0m\n\u001b[0;32m    197\u001b[0m       \u001b[0mi\u001b[0m\u001b[1;33m,\u001b[0m\u001b[0mj\u001b[0m \u001b[1;33m=\u001b[0m \u001b[0mnp\u001b[0m\u001b[1;33m.\u001b[0m\u001b[0matleast_2d\u001b[0m\u001b[1;33m(\u001b[0m\u001b[0mind\u001b[0m\u001b[1;33m)\u001b[0m\u001b[1;33m.\u001b[0m\u001b[0mT\u001b[0m\u001b[1;33m\u001b[0m\u001b[0m\n\u001b[0;32m    198\u001b[0m       \u001b[0mimpostors\u001b[0m\u001b[1;33m.\u001b[0m\u001b[0mappend\u001b[0m\u001b[1;33m(\u001b[0m\u001b[0mnp\u001b[0m\u001b[1;33m.\u001b[0m\u001b[0mvstack\u001b[0m\u001b[1;33m(\u001b[0m\u001b[1;33m(\u001b[0m\u001b[0min_inds\u001b[0m\u001b[1;33m[\u001b[0m\u001b[0mj\u001b[0m\u001b[1;33m]\u001b[0m\u001b[1;33m,\u001b[0m \u001b[0mout_inds\u001b[0m\u001b[1;33m[\u001b[0m\u001b[0mi\u001b[0m\u001b[1;33m]\u001b[0m\u001b[1;33m)\u001b[0m\u001b[1;33m)\u001b[0m\u001b[1;33m)\u001b[0m\u001b[1;33m\u001b[0m\u001b[0m\n\u001b[1;32m--> 199\u001b[1;33m     \u001b[1;32mreturn\u001b[0m \u001b[0mnp\u001b[0m\u001b[1;33m.\u001b[0m\u001b[0mhstack\u001b[0m\u001b[1;33m(\u001b[0m\u001b[0mimpostors\u001b[0m\u001b[1;33m)\u001b[0m\u001b[1;33m\u001b[0m\u001b[0m\n\u001b[0m\u001b[0;32m    200\u001b[0m \u001b[1;33m\u001b[0m\u001b[0m\n\u001b[0;32m    201\u001b[0m \u001b[1;33m\u001b[0m\u001b[0m\n",
      "\u001b[1;32m/usr/lib/python2.7/site-packages/numpy/core/shape_base.pyc\u001b[0m in \u001b[0;36mhstack\u001b[1;34m(tup)\u001b[0m\n\u001b[0;32m    275\u001b[0m         \u001b[1;32mreturn\u001b[0m \u001b[0m_nx\u001b[0m\u001b[1;33m.\u001b[0m\u001b[0mconcatenate\u001b[0m\u001b[1;33m(\u001b[0m\u001b[0marrs\u001b[0m\u001b[1;33m,\u001b[0m \u001b[1;36m0\u001b[0m\u001b[1;33m)\u001b[0m\u001b[1;33m\u001b[0m\u001b[0m\n\u001b[0;32m    276\u001b[0m     \u001b[1;32melse\u001b[0m\u001b[1;33m:\u001b[0m\u001b[1;33m\u001b[0m\u001b[0m\n\u001b[1;32m--> 277\u001b[1;33m         \u001b[1;32mreturn\u001b[0m \u001b[0m_nx\u001b[0m\u001b[1;33m.\u001b[0m\u001b[0mconcatenate\u001b[0m\u001b[1;33m(\u001b[0m\u001b[0marrs\u001b[0m\u001b[1;33m,\u001b[0m \u001b[1;36m1\u001b[0m\u001b[1;33m)\u001b[0m\u001b[1;33m\u001b[0m\u001b[0m\n\u001b[0m",
      "\u001b[1;31mMemoryError\u001b[0m: "
     ]
    }
   ],
   "source": [
    "from itertools import product\n",
    "\n",
    "tfms = [0, 16]\n",
    "metra = {'ctr': metr_aggr, 'rel': metr_aggr_rel}\n",
    "trainset = {'musl': trainset2}\n",
    "dtfc = ['gini', 'entropy']\n",
    "\n",
    "for tfm, metr_key, dtf, ts in product(tfms, metra, dtfc, trainset):\n",
    "    print tfm, metr_key, dtf, ts\n",
    "    run_test(fdb, metra[metr_key], tree.DecisionTreeClassifier(criterion=dtf), trainset[ts], tfm)"
   ]
  },
  {
   "cell_type": "code",
   "execution_count": 5,
   "metadata": {
    "collapsed": false
   },
   "outputs": [
    {
     "name": "stdout",
     "output_type": "stream",
     "text": [
      "0 rel gini musl\n",
      "start\n",
      "Fit\n",
      "********** 209 strtok_r strtok_r\n",
      "********** 278 iconv iconv\n",
      "2 of 596 0.00335570469799\n",
      "2 of 371 0.00539083557951\n",
      "0 rel entropy musl\n",
      "start\n",
      "Fit\n",
      "0 of 596 0.0\n",
      "0 of 371 0.0\n",
      "0 ctr gini musl\n",
      "start\n",
      "Fit\n",
      "********** 279 gai_strerror gai_strerror\n",
      "********** 526 iconv iconv\n",
      "2 of 596 0.00335570469799\n",
      "2 of 371 0.00539083557951\n",
      "0 ctr entropy musl\n",
      "start\n",
      "Fit\n",
      "********** 44 getgrent getgrent\n",
      "1 of 596 0.00167785234899\n",
      "1 of 371 0.00269541778976\n",
      "16 rel gini musl\n",
      "start\n",
      "Fit\n",
      "********** 144 isalnum isalnum\n",
      "1 of 596 0.00167785234899\n",
      "1 of 371 0.00269541778976\n",
      "16 rel entropy musl\n",
      "start\n",
      "Fit\n",
      "0 of 596 0.0\n",
      "0 of 371 0.0\n",
      "16 ctr gini musl\n",
      "start\n",
      "Fit\n",
      "********** 51 iconv_open iconv_open\n",
      "1 of 596 0.00167785234899\n",
      "1 of 371 0.00269541778976\n",
      "16 ctr entropy musl\n",
      "start\n",
      "Fit\n",
      "********** 44 getgrent getgrent\n",
      "********** 315 localtime_r localtime_r\n",
      "2 of 596 0.00335570469799\n",
      "2 of 371 0.00539083557951\n"
     ]
    }
   ],
   "source": [
    "from itertools import product\n",
    "\n",
    "tfms = [0, 16]\n",
    "metra = {'ctr': metr_aggr, 'rel': metr_aggr_rel}\n",
    "trainset = {'musl': trainset2}\n",
    "dtfc = ['gini', 'entropy']\n",
    "\n",
    "for tfm, metr_key, dtf, ts in product(tfms, metra, dtfc, trainset):\n",
    "    print tfm, metr_key, dtf, ts\n",
    "    run_test(fdb, metra[metr_key], tree.DecisionTreeClassifier(criterion=dtf), trainset[ts], tfm)"
   ]
  },
  {
   "cell_type": "code",
   "execution_count": 6,
   "metadata": {
    "collapsed": false
   },
   "outputs": [
    {
     "name": "stdout",
     "output_type": "stream",
     "text": [
      "0 rel gini full\n",
      "start\n",
      "Fit\n",
      "********** 2 isblank isblank\n",
      "********** 144 isalnum isalnum\n",
      "********** 197 abs abs\n",
      "********** 253 isblank isblank\n",
      "********** 307 iconv_open iconv_open\n",
      "********** 340 flbf flbf\n",
      "********** 361 mkfifo mkfifo\n",
      "********** 456 isalpha isalpha\n",
      "********** 501 bsearch bsearch\n",
      "********** 524 ftime ftime\n",
      "********** 526 cfmakeraw cfmakeraw\n",
      "********** 535 getopt getopt\n",
      "********** 549 wcswidth wcswidth\n",
      "********** 571 to64 to64\n",
      "14 of 596 0.0234899328859\n",
      "14 of 419 0.0334128878282\n",
      "0 rel entropy full\n",
      "start\n",
      "Fit\n",
      "********** 2 isblank isblank\n",
      "********** 31 sigaddset sigaddset\n",
      "********** 71 cfsetospeed cfsetospeed\n",
      "********** 144 isalnum isalnum\n",
      "********** 197 abs abs\n",
      "********** 253 isblank isblank\n",
      "********** 340 flbf flbf\n",
      "********** 361 mkfifo mkfifo\n",
      "********** 456 isalpha isalpha\n",
      "********** 484 sigdelset sigdelset\n",
      "********** 526 cfmakeraw cfmakeraw\n",
      "11 of 596 0.0184563758389\n",
      "11 of 419 0.0262529832936\n",
      "0 ctr gini full\n",
      "start\n",
      "Fit\n",
      "********** 14 isalnum isalnum\n",
      "********** 15 isalpha isalpha\n",
      "********** 17 isblank isblank\n",
      "********** 44 getgrent getgrent\n",
      "********** 51 iconv_open iconv_open\n",
      "********** 67 md5crypt md5crypt\n",
      "********** 141 sigaddset sigaddset\n",
      "********** 197 flbf flbf\n",
      "********** 202 abs abs\n",
      "********** 205 atoi atoi\n",
      "********** 207 bsearch bsearch\n",
      "********** 284 mkfifo mkfifo\n",
      "********** 293 cfmakeraw cfmakeraw\n",
      "********** 301 tcsetattr tcsetattr\n",
      "********** 323 execl execl\n",
      "********** 334 getopt getopt\n",
      "********** 352 usleep usleep\n",
      "********** 385 wmemcmp wmemcmp\n",
      "********** 438 isblank isblank\n",
      "19 of 596 0.0318791946309\n",
      "19 of 419 0.0453460620525\n",
      "0 ctr entropy full\n",
      "start\n",
      "Fit\n",
      "********** 14 isalnum isalnum\n",
      "********** 15 isalpha isalpha\n",
      "********** 17 isblank isblank\n",
      "********** 141 sigaddset sigaddset\n",
      "********** 143 sigdelset sigdelset\n",
      "********** 197 flbf flbf\n",
      "********** 202 abs abs\n",
      "********** 284 mkfifo mkfifo\n",
      "********** 293 cfmakeraw cfmakeraw\n",
      "********** 438 isblank isblank\n",
      "********** 589 getgrouplist getgrouplist\n",
      "11 of 596 0.0184563758389\n",
      "11 of 419 0.0262529832936\n",
      "16 rel gini full\n",
      "start\n"
     ]
    },
    {
     "ename": "MemoryError",
     "evalue": "",
     "output_type": "error",
     "traceback": [
      "\u001b[1;31m---------------------------------------------------------------------------\u001b[0m",
      "\u001b[1;31mMemoryError\u001b[0m                               Traceback (most recent call last)",
      "\u001b[1;32m<ipython-input-6-c504d1f90a29>\u001b[0m in \u001b[0;36m<module>\u001b[1;34m()\u001b[0m\n\u001b[0;32m      8\u001b[0m \u001b[1;32mfor\u001b[0m \u001b[0mtfm\u001b[0m\u001b[1;33m,\u001b[0m \u001b[0mmetr_key\u001b[0m\u001b[1;33m,\u001b[0m \u001b[0mdtf\u001b[0m\u001b[1;33m,\u001b[0m \u001b[0mts\u001b[0m \u001b[1;32min\u001b[0m \u001b[0mproduct\u001b[0m\u001b[1;33m(\u001b[0m\u001b[0mtfms\u001b[0m\u001b[1;33m,\u001b[0m \u001b[0mmetra\u001b[0m\u001b[1;33m,\u001b[0m \u001b[0mdtfc\u001b[0m\u001b[1;33m,\u001b[0m \u001b[0mtrainset\u001b[0m\u001b[1;33m)\u001b[0m\u001b[1;33m:\u001b[0m\u001b[1;33m\u001b[0m\u001b[0m\n\u001b[0;32m      9\u001b[0m     \u001b[1;32mprint\u001b[0m \u001b[0mtfm\u001b[0m\u001b[1;33m,\u001b[0m \u001b[0mmetr_key\u001b[0m\u001b[1;33m,\u001b[0m \u001b[0mdtf\u001b[0m\u001b[1;33m,\u001b[0m \u001b[0mts\u001b[0m\u001b[1;33m\u001b[0m\u001b[0m\n\u001b[1;32m---> 10\u001b[1;33m     \u001b[0mrun_test\u001b[0m\u001b[1;33m(\u001b[0m\u001b[0mfdb\u001b[0m\u001b[1;33m,\u001b[0m \u001b[0mmetra\u001b[0m\u001b[1;33m[\u001b[0m\u001b[0mmetr_key\u001b[0m\u001b[1;33m]\u001b[0m\u001b[1;33m,\u001b[0m \u001b[0mtree\u001b[0m\u001b[1;33m.\u001b[0m\u001b[0mDecisionTreeClassifier\u001b[0m\u001b[1;33m(\u001b[0m\u001b[0mcriterion\u001b[0m\u001b[1;33m=\u001b[0m\u001b[0mdtf\u001b[0m\u001b[1;33m)\u001b[0m\u001b[1;33m,\u001b[0m \u001b[0mtrainset\u001b[0m\u001b[1;33m[\u001b[0m\u001b[0mts\u001b[0m\u001b[1;33m]\u001b[0m\u001b[1;33m,\u001b[0m \u001b[0mtfm\u001b[0m\u001b[1;33m)\u001b[0m\u001b[1;33m\u001b[0m\u001b[0m\n\u001b[0m",
      "\u001b[1;32m<ipython-input-3-b40a712aae88>\u001b[0m in \u001b[0;36mrun_test\u001b[1;34m(fdb, metr_aggr, clf, trainset, transformMode)\u001b[0m\n\u001b[0;32m      4\u001b[0m     \u001b[0mfid_names\u001b[0m \u001b[1;33m=\u001b[0m \u001b[0mmap\u001b[0m\u001b[1;33m(\u001b[0m\u001b[1;32mlambda\u001b[0m \u001b[0mz\u001b[0m\u001b[1;33m:\u001b[0m \u001b[0msignature_to_fname_heuristic\u001b[0m\u001b[1;33m(\u001b[0m\u001b[0mz\u001b[0m\u001b[1;33m[\u001b[0m\u001b[1;36m1\u001b[0m\u001b[1;33m]\u001b[0m\u001b[1;33m)\u001b[0m\u001b[1;33m,\u001b[0m \u001b[0mfids\u001b[0m\u001b[1;33m)\u001b[0m\u001b[1;33m\u001b[0m\u001b[0m\n\u001b[0;32m      5\u001b[0m     \u001b[0mppl\u001b[0m \u001b[1;33m=\u001b[0m \u001b[0mcluster\u001b[0m\u001b[1;33m.\u001b[0m\u001b[0mTransformPipeline\u001b[0m\u001b[1;33m(\u001b[0m\u001b[0mtransformMode\u001b[0m\u001b[1;33m)\u001b[0m\u001b[1;33m\u001b[0m\u001b[0m\n\u001b[1;32m----> 6\u001b[1;33m     \u001b[0mtrain_data\u001b[0m \u001b[1;33m=\u001b[0m \u001b[0mppl\u001b[0m\u001b[1;33m.\u001b[0m\u001b[0mtransform_trainingset\u001b[0m\u001b[1;33m(\u001b[0m\u001b[0mtrain_data\u001b[0m\u001b[1;33m,\u001b[0m \u001b[0mlabels\u001b[0m\u001b[1;33m=\u001b[0m\u001b[0mfid_names\u001b[0m\u001b[1;33m)\u001b[0m\u001b[1;33m\u001b[0m\u001b[0m\n\u001b[0m\u001b[0;32m      7\u001b[0m     \u001b[1;32mprint\u001b[0m \u001b[1;34m\"Fit\"\u001b[0m\u001b[1;33m\u001b[0m\u001b[0m\n\u001b[0;32m      8\u001b[0m     \u001b[0mclf\u001b[0m\u001b[1;33m.\u001b[0m\u001b[0mfit\u001b[0m\u001b[1;33m(\u001b[0m\u001b[0mtrain_data\u001b[0m\u001b[1;33m,\u001b[0m \u001b[0mfid_names\u001b[0m\u001b[1;33m)\u001b[0m\u001b[1;33m\u001b[0m\u001b[0m\n",
      "\u001b[1;32m/home/niko/workspace/ma-scripts/mcmatch/cluster.pyc\u001b[0m in \u001b[0;36mtransform_trainingset\u001b[1;34m(self, ts, labels)\u001b[0m\n\u001b[0;32m    123\u001b[0m \u001b[1;33m\u001b[0m\u001b[0m\n\u001b[0;32m    124\u001b[0m     \u001b[1;32mfor\u001b[0m \u001b[0mp\u001b[0m \u001b[1;32min\u001b[0m \u001b[0mself\u001b[0m\u001b[1;33m.\u001b[0m\u001b[0msupervised_pipeline\u001b[0m\u001b[1;33m:\u001b[0m\u001b[1;33m\u001b[0m\u001b[0m\n\u001b[1;32m--> 125\u001b[1;33m       \u001b[0mp\u001b[0m\u001b[1;33m.\u001b[0m\u001b[0mfit\u001b[0m\u001b[1;33m(\u001b[0m\u001b[0mfiltered_ts\u001b[0m\u001b[1;33m,\u001b[0m \u001b[0mfiltered_labels\u001b[0m\u001b[1;33m)\u001b[0m\u001b[1;33m\u001b[0m\u001b[0m\n\u001b[0m\u001b[0;32m    126\u001b[0m       \u001b[0mts\u001b[0m \u001b[1;33m=\u001b[0m \u001b[0mp\u001b[0m\u001b[1;33m.\u001b[0m\u001b[0mtransform\u001b[0m\u001b[1;33m(\u001b[0m\u001b[0mts\u001b[0m\u001b[1;33m)\u001b[0m\u001b[1;33m\u001b[0m\u001b[0m\n\u001b[0;32m    127\u001b[0m \u001b[1;33m\u001b[0m\u001b[0m\n",
      "\u001b[1;32m/usr/lib/python2.7/site-packages/metric_learn-0.1.0-py2.7.egg/metric_learn/lmnn.pyc\u001b[0m in \u001b[0;36mfit\u001b[1;34m(self, X, labels, verbose)\u001b[0m\n\u001b[0;32m     83\u001b[0m       \u001b[1;31m# Compute pairwise distances under current feature\u001b[0m\u001b[1;33m\u001b[0m\u001b[1;33m\u001b[0m\u001b[0m\n\u001b[0;32m     84\u001b[0m       \u001b[0mLx\u001b[0m \u001b[1;33m=\u001b[0m \u001b[0mL\u001b[0m\u001b[1;33m.\u001b[0m\u001b[0mdot\u001b[0m\u001b[1;33m(\u001b[0m\u001b[0mself\u001b[0m\u001b[1;33m.\u001b[0m\u001b[0mX\u001b[0m\u001b[1;33m.\u001b[0m\u001b[0mT\u001b[0m\u001b[1;33m)\u001b[0m\u001b[1;33m.\u001b[0m\u001b[0mT\u001b[0m\u001b[1;33m\u001b[0m\u001b[0m\n\u001b[1;32m---> 85\u001b[1;33m       \u001b[0mg0\u001b[0m \u001b[1;33m=\u001b[0m \u001b[0m_pairwise_L2\u001b[0m\u001b[1;33m(\u001b[0m\u001b[1;33m*\u001b[0m\u001b[0mLx\u001b[0m\u001b[1;33m[\u001b[0m\u001b[0mimpostors\u001b[0m\u001b[1;33m]\u001b[0m\u001b[1;33m)\u001b[0m\u001b[1;33m\u001b[0m\u001b[0m\n\u001b[0m\u001b[0;32m     86\u001b[0m       \u001b[0mNi\u001b[0m \u001b[1;33m=\u001b[0m \u001b[1;33m(\u001b[0m\u001b[1;33m(\u001b[0m\u001b[0mLx\u001b[0m\u001b[1;33m[\u001b[0m\u001b[1;33m:\u001b[0m\u001b[1;33m,\u001b[0m\u001b[0mNone\u001b[0m\u001b[1;33m,\u001b[0m\u001b[1;33m:\u001b[0m\u001b[1;33m]\u001b[0m \u001b[1;33m-\u001b[0m \u001b[0mLx\u001b[0m\u001b[1;33m[\u001b[0m\u001b[0mtarget_neighbors\u001b[0m\u001b[1;33m]\u001b[0m\u001b[1;33m)\u001b[0m\u001b[1;33m**\u001b[0m\u001b[1;36m2\u001b[0m\u001b[1;33m)\u001b[0m\u001b[1;33m.\u001b[0m\u001b[0msum\u001b[0m\u001b[1;33m(\u001b[0m\u001b[0maxis\u001b[0m\u001b[1;33m=\u001b[0m\u001b[1;36m2\u001b[0m\u001b[1;33m)\u001b[0m \u001b[1;33m+\u001b[0m \u001b[1;36m1\u001b[0m\u001b[1;33m\u001b[0m\u001b[0m\n\u001b[0;32m     87\u001b[0m       \u001b[0mg1\u001b[0m\u001b[1;33m,\u001b[0m\u001b[0mg2\u001b[0m \u001b[1;33m=\u001b[0m \u001b[0mNi\u001b[0m\u001b[1;33m[\u001b[0m\u001b[0mimpostors\u001b[0m\u001b[1;33m]\u001b[0m\u001b[1;33m\u001b[0m\u001b[0m\n",
      "\u001b[1;31mMemoryError\u001b[0m: "
     ]
    }
   ],
   "source": [
    "from itertools import product\n",
    "\n",
    "tfms = [0, 16]\n",
    "metra = {'ctr': metr_aggr, 'rel': metr_aggr_rel}\n",
    "trainset = {'full': trainset1}\n",
    "dtfc = ['gini', 'entropy']\n",
    "\n",
    "for tfm, metr_key, dtf, ts in product(tfms, metra, dtfc, trainset):\n",
    "    print tfm, metr_key, dtf, ts\n",
    "    run_test(fdb, metra[metr_key], tree.DecisionTreeClassifier(criterion=dtf), trainset[ts], tfm)"
   ]
  },
  {
   "cell_type": "code",
   "execution_count": 14,
   "metadata": {
    "collapsed": false
   },
   "outputs": [
    {
     "name": "stdout",
     "output_type": "stream",
     "text": [
      "16 ctr gini full\n",
      "start\n"
     ]
    },
    {
     "ename": "MemoryError",
     "evalue": "",
     "output_type": "error",
     "traceback": [
      "\u001b[1;31m---------------------------------------------------------------------------\u001b[0m",
      "\u001b[1;31mMemoryError\u001b[0m                               Traceback (most recent call last)",
      "\u001b[1;32m<ipython-input-14-dd418e48f748>\u001b[0m in \u001b[0;36m<module>\u001b[1;34m()\u001b[0m\n\u001b[0;32m      8\u001b[0m \u001b[1;32mfor\u001b[0m \u001b[0mtfm\u001b[0m\u001b[1;33m,\u001b[0m \u001b[0mmetr_key\u001b[0m\u001b[1;33m,\u001b[0m \u001b[0mdtf\u001b[0m\u001b[1;33m,\u001b[0m \u001b[0mts\u001b[0m \u001b[1;32min\u001b[0m \u001b[0mproduct\u001b[0m\u001b[1;33m(\u001b[0m\u001b[0mtfms\u001b[0m\u001b[1;33m,\u001b[0m \u001b[0mmetra\u001b[0m\u001b[1;33m,\u001b[0m \u001b[0mdtfc\u001b[0m\u001b[1;33m,\u001b[0m \u001b[0mtrainset\u001b[0m\u001b[1;33m)\u001b[0m\u001b[1;33m:\u001b[0m\u001b[1;33m\u001b[0m\u001b[0m\n\u001b[0;32m      9\u001b[0m     \u001b[1;32mprint\u001b[0m \u001b[0mtfm\u001b[0m\u001b[1;33m,\u001b[0m \u001b[0mmetr_key\u001b[0m\u001b[1;33m,\u001b[0m \u001b[0mdtf\u001b[0m\u001b[1;33m,\u001b[0m \u001b[0mts\u001b[0m\u001b[1;33m\u001b[0m\u001b[0m\n\u001b[1;32m---> 10\u001b[1;33m     \u001b[0mrun_test\u001b[0m\u001b[1;33m(\u001b[0m\u001b[0mfdb\u001b[0m\u001b[1;33m,\u001b[0m \u001b[0mmetra\u001b[0m\u001b[1;33m[\u001b[0m\u001b[0mmetr_key\u001b[0m\u001b[1;33m]\u001b[0m\u001b[1;33m,\u001b[0m \u001b[0mtree\u001b[0m\u001b[1;33m.\u001b[0m\u001b[0mDecisionTreeClassifier\u001b[0m\u001b[1;33m(\u001b[0m\u001b[0mcriterion\u001b[0m\u001b[1;33m=\u001b[0m\u001b[0mdtf\u001b[0m\u001b[1;33m)\u001b[0m\u001b[1;33m,\u001b[0m \u001b[0mtrainset\u001b[0m\u001b[1;33m[\u001b[0m\u001b[0mts\u001b[0m\u001b[1;33m]\u001b[0m\u001b[1;33m,\u001b[0m \u001b[0mtfm\u001b[0m\u001b[1;33m)\u001b[0m\u001b[1;33m\u001b[0m\u001b[0m\n\u001b[0m",
      "\u001b[1;32m<ipython-input-12-28f17e9c9926>\u001b[0m in \u001b[0;36mrun_test\u001b[1;34m(fdb, metr_aggr, clf, trainset, transformMode)\u001b[0m\n\u001b[0;32m      7\u001b[0m     \u001b[0mtrain_data\u001b[0m\u001b[1;33m,\u001b[0m \u001b[0mfid_names\u001b[0m \u001b[1;33m=\u001b[0m \u001b[0mcluster\u001b[0m\u001b[1;33m.\u001b[0m\u001b[0mfilter_classes\u001b[0m\u001b[1;33m(\u001b[0m\u001b[0mtrain_data\u001b[0m\u001b[1;33m,\u001b[0m \u001b[0mfid_names\u001b[0m\u001b[1;33m,\u001b[0m \u001b[0mtest_fun_names\u001b[0m\u001b[1;33m)\u001b[0m\u001b[1;33m\u001b[0m\u001b[0m\n\u001b[0;32m      8\u001b[0m     \u001b[0mppl\u001b[0m \u001b[1;33m=\u001b[0m \u001b[0mcluster\u001b[0m\u001b[1;33m.\u001b[0m\u001b[0mTransformPipeline\u001b[0m\u001b[1;33m(\u001b[0m\u001b[0mtransformMode\u001b[0m\u001b[1;33m)\u001b[0m\u001b[1;33m\u001b[0m\u001b[0m\n\u001b[1;32m----> 9\u001b[1;33m     \u001b[0mtrain_data\u001b[0m \u001b[1;33m=\u001b[0m \u001b[0mppl\u001b[0m\u001b[1;33m.\u001b[0m\u001b[0mtransform_trainingset\u001b[0m\u001b[1;33m(\u001b[0m\u001b[0mtrain_data\u001b[0m\u001b[1;33m,\u001b[0m \u001b[0mlabels\u001b[0m\u001b[1;33m=\u001b[0m\u001b[0mfid_names\u001b[0m\u001b[1;33m)\u001b[0m\u001b[1;33m\u001b[0m\u001b[0m\n\u001b[0m\u001b[0;32m     10\u001b[0m     \u001b[1;32mprint\u001b[0m \u001b[1;34m\"Fit\"\u001b[0m\u001b[1;33m\u001b[0m\u001b[0m\n\u001b[0;32m     11\u001b[0m     \u001b[0mclf\u001b[0m\u001b[1;33m.\u001b[0m\u001b[0mfit\u001b[0m\u001b[1;33m(\u001b[0m\u001b[0mtrain_data\u001b[0m\u001b[1;33m,\u001b[0m \u001b[0mfid_names\u001b[0m\u001b[1;33m)\u001b[0m\u001b[1;33m\u001b[0m\u001b[0m\n",
      "\u001b[1;32m/home/niko/workspace/ma-scripts/mcmatch/cluster.py\u001b[0m in \u001b[0;36mtransform_trainingset\u001b[1;34m(self, ts, labels)\u001b[0m\n\u001b[0;32m    127\u001b[0m \u001b[1;33m\u001b[0m\u001b[0m\n\u001b[0;32m    128\u001b[0m     \u001b[1;32mfor\u001b[0m \u001b[0mp\u001b[0m \u001b[1;32min\u001b[0m \u001b[0mself\u001b[0m\u001b[1;33m.\u001b[0m\u001b[0msupervised_pipeline\u001b[0m\u001b[1;33m:\u001b[0m\u001b[1;33m\u001b[0m\u001b[0m\n\u001b[1;32m--> 129\u001b[1;33m       \u001b[0mp\u001b[0m\u001b[1;33m.\u001b[0m\u001b[0mfit\u001b[0m\u001b[1;33m(\u001b[0m\u001b[0mfiltered_ts\u001b[0m\u001b[1;33m,\u001b[0m \u001b[0mfiltered_labels\u001b[0m\u001b[1;33m)\u001b[0m\u001b[1;33m\u001b[0m\u001b[0m\n\u001b[0m\u001b[0;32m    130\u001b[0m       \u001b[0mts\u001b[0m \u001b[1;33m=\u001b[0m \u001b[0mp\u001b[0m\u001b[1;33m.\u001b[0m\u001b[0mtransform\u001b[0m\u001b[1;33m(\u001b[0m\u001b[0mts\u001b[0m\u001b[1;33m)\u001b[0m\u001b[1;33m\u001b[0m\u001b[0m\n\u001b[0;32m    131\u001b[0m \u001b[1;33m\u001b[0m\u001b[0m\n",
      "\u001b[1;32m/usr/lib/python2.7/site-packages/metric_learn-0.1.0-py2.7.egg/metric_learn/lmnn.pyc\u001b[0m in \u001b[0;36mfit\u001b[1;34m(self, X, labels, verbose)\u001b[0m\n\u001b[0;32m     83\u001b[0m       \u001b[1;31m# Compute pairwise distances under current feature\u001b[0m\u001b[1;33m\u001b[0m\u001b[1;33m\u001b[0m\u001b[0m\n\u001b[0;32m     84\u001b[0m       \u001b[0mLx\u001b[0m \u001b[1;33m=\u001b[0m \u001b[0mL\u001b[0m\u001b[1;33m.\u001b[0m\u001b[0mdot\u001b[0m\u001b[1;33m(\u001b[0m\u001b[0mself\u001b[0m\u001b[1;33m.\u001b[0m\u001b[0mX\u001b[0m\u001b[1;33m.\u001b[0m\u001b[0mT\u001b[0m\u001b[1;33m)\u001b[0m\u001b[1;33m.\u001b[0m\u001b[0mT\u001b[0m\u001b[1;33m\u001b[0m\u001b[0m\n\u001b[1;32m---> 85\u001b[1;33m       \u001b[0mg0\u001b[0m \u001b[1;33m=\u001b[0m \u001b[0m_pairwise_L2\u001b[0m\u001b[1;33m(\u001b[0m\u001b[1;33m*\u001b[0m\u001b[0mLx\u001b[0m\u001b[1;33m[\u001b[0m\u001b[0mimpostors\u001b[0m\u001b[1;33m]\u001b[0m\u001b[1;33m)\u001b[0m\u001b[1;33m\u001b[0m\u001b[0m\n\u001b[0m\u001b[0;32m     86\u001b[0m       \u001b[0mNi\u001b[0m \u001b[1;33m=\u001b[0m \u001b[1;33m(\u001b[0m\u001b[1;33m(\u001b[0m\u001b[0mLx\u001b[0m\u001b[1;33m[\u001b[0m\u001b[1;33m:\u001b[0m\u001b[1;33m,\u001b[0m\u001b[0mNone\u001b[0m\u001b[1;33m,\u001b[0m\u001b[1;33m:\u001b[0m\u001b[1;33m]\u001b[0m \u001b[1;33m-\u001b[0m \u001b[0mLx\u001b[0m\u001b[1;33m[\u001b[0m\u001b[0mtarget_neighbors\u001b[0m\u001b[1;33m]\u001b[0m\u001b[1;33m)\u001b[0m\u001b[1;33m**\u001b[0m\u001b[1;36m2\u001b[0m\u001b[1;33m)\u001b[0m\u001b[1;33m.\u001b[0m\u001b[0msum\u001b[0m\u001b[1;33m(\u001b[0m\u001b[0maxis\u001b[0m\u001b[1;33m=\u001b[0m\u001b[1;36m2\u001b[0m\u001b[1;33m)\u001b[0m \u001b[1;33m+\u001b[0m \u001b[1;36m1\u001b[0m\u001b[1;33m\u001b[0m\u001b[0m\n\u001b[0;32m     87\u001b[0m       \u001b[0mg1\u001b[0m\u001b[1;33m,\u001b[0m\u001b[0mg2\u001b[0m \u001b[1;33m=\u001b[0m \u001b[0mNi\u001b[0m\u001b[1;33m[\u001b[0m\u001b[0mimpostors\u001b[0m\u001b[1;33m]\u001b[0m\u001b[1;33m\u001b[0m\u001b[0m\n",
      "\u001b[1;32m/usr/lib/python2.7/site-packages/metric_learn-0.1.0-py2.7.egg/metric_learn/lmnn.pyc\u001b[0m in \u001b[0;36m_pairwise_L2\u001b[1;34m(A, B)\u001b[0m\n\u001b[0;32m    201\u001b[0m \u001b[1;33m\u001b[0m\u001b[0m\n\u001b[0;32m    202\u001b[0m \u001b[1;32mdef\u001b[0m \u001b[0m_pairwise_L2\u001b[0m\u001b[1;33m(\u001b[0m\u001b[0mA\u001b[0m\u001b[1;33m,\u001b[0m \u001b[0mB\u001b[0m\u001b[1;33m)\u001b[0m\u001b[1;33m:\u001b[0m\u001b[1;33m\u001b[0m\u001b[0m\n\u001b[1;32m--> 203\u001b[1;33m   \u001b[1;32mreturn\u001b[0m \u001b[1;33m(\u001b[0m\u001b[1;33m(\u001b[0m\u001b[0mA\u001b[0m\u001b[1;33m-\u001b[0m\u001b[0mB\u001b[0m\u001b[1;33m)\u001b[0m\u001b[1;33m**\u001b[0m\u001b[1;36m2\u001b[0m\u001b[1;33m)\u001b[0m\u001b[1;33m.\u001b[0m\u001b[0msum\u001b[0m\u001b[1;33m(\u001b[0m\u001b[0maxis\u001b[0m\u001b[1;33m=\u001b[0m\u001b[1;36m1\u001b[0m\u001b[1;33m)\u001b[0m\u001b[1;33m\u001b[0m\u001b[0m\n\u001b[0m\u001b[0;32m    204\u001b[0m \u001b[1;33m\u001b[0m\u001b[0m\n\u001b[0;32m    205\u001b[0m \u001b[1;33m\u001b[0m\u001b[0m\n",
      "\u001b[1;31mMemoryError\u001b[0m: "
     ]
    }
   ],
   "source": [
    "from itertools import product\n",
    "\n",
    "tfms = [16]\n",
    "metra = {'ctr': metr_aggr}\n",
    "trainset = {'full': trainset1}\n",
    "dtfc = ['gini', 'entropy']\n",
    "\n",
    "for tfm, metr_key, dtf, ts in product(tfms, metra, dtfc, trainset):\n",
    "    print tfm, metr_key, dtf, ts\n",
    "    run_test(fdb, metra[metr_key], tree.DecisionTreeClassifier(criterion=dtf), trainset[ts], tfm)"
   ]
  },
  {
   "cell_type": "code",
   "execution_count": null,
   "metadata": {
    "collapsed": true
   },
   "outputs": [],
   "source": []
  }
 ],
 "metadata": {
  "kernelspec": {
   "display_name": "Python 2",
   "language": "python",
   "name": "python2"
  },
  "language_info": {
   "codemirror_mode": {
    "name": "ipython",
    "version": 2
   },
   "file_extension": ".py",
   "mimetype": "text/x-python",
   "name": "python",
   "nbconvert_exporter": "python",
   "pygments_lexer": "ipython2",
   "version": "2.7.9"
  }
 },
 "nbformat": 4,
 "nbformat_minor": 0
}
