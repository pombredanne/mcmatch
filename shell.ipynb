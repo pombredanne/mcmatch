{
 "cells": [
  {
   "cell_type": "code",
   "execution_count": null,
   "metadata": {
    "collapsed": false
   },
   "outputs": [],
   "source": [
    "from mcmatch.db.pg_database import PgFunDB\n",
    "from mcmatch import cluster\n",
    "from mcmatch.metric.counter import counter_metrics\n",
    "from mcmatch.metric.aggregator import MetricAggregator\n",
    "all_metrics = MetricAggregator([counter_metrics[c] for c in counter_metrics])\n",
    "\n",
    "fdb = PgFunDB()\n",
    "\n"
   ]
  },
  {
   "cell_type": "code",
   "execution_count": null,
   "metadata": {
    "collapsed": false
   },
   "outputs": [],
   "source": []
  }
 ],
 "metadata": {
  "kernelspec": {
   "display_name": "Python 2",
   "language": "python",
   "name": "python2"
  },
  "language_info": {
   "codemirror_mode": {
    "name": "ipython",
    "version": 2
   },
   "file_extension": ".py",
   "mimetype": "text/x-python",
   "name": "python",
   "nbconvert_exporter": "python",
   "pygments_lexer": "ipython2",
   "version": "2.7.9"
  }
 },
 "nbformat": 4,
 "nbformat_minor": 0
}
