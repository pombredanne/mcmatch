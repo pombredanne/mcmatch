{
 "cells": [
  {
   "cell_type": "code",
   "execution_count": 1,
   "metadata": {
    "collapsed": false
   },
   "outputs": [],
   "source": [
    "%matplotlib inline\n",
    "from sklearn.neighbors import NearestNeighbors, KDTree\n",
    "\n",
    "from mcmatch import analyze\n",
    "from mcmatch.db.pg_database import PgFunDB\n",
    "from mcmatch.util import extract_funname, signature_to_fname_heuristic\n",
    "from mcmatch.feature import all_features, textlength_features, counter_sum_features, counter_features, relative_counter_features, relative_counter_sum_features\n",
    "from mcmatch.feature import cyclo_feature\n",
    "from mcmatch.feature.aggregator import FeatureAggregator\n",
    "from sklearn import preprocessing\n",
    "import matplotlib.pyplot as plt\n",
    "import numpy as np\n",
    "from itertools import product\n",
    "from metric_learn import LMNN\n",
    "import timeit"
   ]
  },
  {
   "cell_type": "code",
   "execution_count": 2,
   "metadata": {
    "collapsed": true
   },
   "outputs": [],
   "source": [
    "def run_test(k, mtr_n, norm, tfm, output_function):\n",
    "    global mtm\n",
    "    global fdb\n",
    "    line = '%d;%s;%r;%s;' % (k, mtr_n, tfm, norm)\n",
    "    \n",
    "    mtr_o = mtm[mtr_n]\n",
    "    used_features = FeatureAggregator(mtr_o.values())\n",
    "\n",
    "    di = analyze.KNearestNeighbors(fdb, used_features, training_repositories=train_set, transform=tfm,\n",
    "                                   k=k, norm=norm)\n",
    "\n",
    "    test_info, distances, train_info = di.test(fdb, in_repositories=['t-dietlibc'])\n",
    "    \n",
    "    #train_info = map(lambda z: z[1], train_info)\n",
    "    test_info = map(lambda z: signature_to_fname_heuristic(z[1]), test_info)\n",
    "    \n",
    "    totalup = 0\n",
    "    totaldown = 0\n",
    "    totalnf = 0\n",
    "    for idx, v in enumerate(test_info):\n",
    "        #print \"[%4d] %30s\" % (idx, v)\n",
    "        upcount = 0\n",
    "        if not di.has_function(v):\n",
    "            totalnf += 1\n",
    "            continue\n",
    "        \n",
    "        for trainidx, trainv in enumerate(train_info[idx]):\n",
    "            #print \" %4d ~%5f [%50s]\" % (trainidx,\n",
    "            #                            distances[idx][trainidx],\n",
    "            #                            signature_to_fname_heuristic(trainv[1]))\n",
    "            if signature_to_fname_heuristic(trainv[1]) == v:\n",
    "                upcount += 1\n",
    "        if upcount:\n",
    "            #print \"woop,\", v\n",
    "            totalup += 1\n",
    "        else:\n",
    "            totaldown += 1\n",
    "        \n",
    "    line += \"%d;%d;%5f%%\" % (totalup, totaldown,\n",
    "                                                    totalup*100.0/(totalup+totaldown))\n",
    "    output_function(line)"
   ]
  },
  {
   "cell_type": "code",
   "execution_count": 8,
   "metadata": {
    "collapsed": false,
    "scrolled": true
   },
   "outputs": [
    {
     "name": "stdout",
     "output_type": "stream",
     "text": [
      "k;feature;tranformation_mode;norm;in_knn;not_in_knn;percent\n",
      "5;all;0;euclidean;34;385;8.114558%\n",
      "6.04579806328\n",
      "5;all;1;euclidean;4;415;0.954654%\n",
      "5.92357587814\n",
      "5;all;2;euclidean;0;419;0.000000%\n",
      "7.14539790154\n",
      "5;all;4;euclidean;0;419;0.000000%\n",
      "24.4634330273\n",
      "5;all;0;cityblock;39;380;9.307876%\n",
      "6.14201402664\n",
      "5;all;1;cityblock;3;416;0.715990%\n",
      "6.11756706238\n",
      "5;all;2;cityblock;0;419;0.000000%\n",
      "7.37689900398\n",
      "5;all;4;cityblock;0;419;0.000000%\n",
      "24.1733560562\n",
      "5;all;0;cosine;31;388;7.398568%\n",
      "7.77216887474\n",
      "5;all;1;cosine;4;415;0.954654%\n",
      "7.76878213882\n",
      "5;all;2;cosine;0;419;0.000000%\n",
      "9.08852982521\n",
      "5;all;4;cosine;0;419;0.000000%\n",
      "25.1514749527\n",
      "25;all;0;euclidean;59;360;14.081146%\n",
      "6.00383210182\n",
      "25;all;1;euclidean;9;410;2.147971%\n",
      "5.98672294617\n",
      "25;all;2;euclidean;0;419;0.000000%\n",
      "7.69231820107\n",
      "25;all;4;euclidean;0;419;0.000000%\n",
      "24.7314100266\n",
      "25;all;0;cityblock;71;348;16.945107%\n",
      "6.27079296112\n",
      "25;all;1;cityblock;7;412;1.670644%\n",
      "6.21936988831\n",
      "25;all;2;cityblock;3;416;0.715990%\n",
      "7.33002400398\n",
      "25;all;4;cityblock;3;416;0.715990%\n",
      "23.2626819611\n",
      "25;all;0;cosine;53;366;12.649165%\n",
      "7.77080011368\n",
      "25;all;1;cosine;13;406;3.102625%\n",
      "7.7921359539\n",
      "25;all;2;cosine;3;416;0.715990%\n",
      "8.87304091454\n",
      "25;all;4;cosine;0;419;0.000000%\n",
      "25.6189901829\n"
     ]
    }
   ],
   "source": [
    "fdb = PgFunDB()\n",
    "mtm = {\n",
    "    'all' : all_features,\n",
    "#    'textlength' : textlength_features,\n",
    "#    'counter': counter_features,\n",
    "#    'counter_sum': counter_sum_features,\n",
    "#    'rel_counter': relative_counter_features,\n",
    "#    'rel_counter_sum' : relative_counter_sum_features,\n",
    "#    'cyclo' : cyclo_feature,\n",
    "#    'textlen+rel_counter_sum' : dict(\n",
    "#          list(textlength_features.items())\n",
    "#        + list(relative_counter_sum_features.items()))\n",
    "}\n",
    "\n",
    "#for m in counter_features:\n",
    "#    mtm['counter_' + m] = {'m': counter_features[m]}\n",
    "#for m in relative_counter_features:\n",
    "#    mtm['rel_counter_' + m] = {'m' : relative_counter_features[m]}\n",
    "\n",
    "norms = [ 'euclidean', 'cityblock', 'cosine' ]\n",
    "    #'cityblock', 'euclidean', 'cosine']\n",
    "\n",
    "transform_modes = [ 0, 1, 2, 4 ]\n",
    "\n",
    "train_set = ['t-glibc', 'musl-1.1.6']\n",
    "#train_set = ['t-musl']\n",
    "\n",
    "#ks = [1,5,25,50]\n",
    "ks = [ 5, 25 ]\n",
    "\n",
    "outfile = open(\"shell-knn-timeit.out.csv\", \"w\")\n",
    "def doublewrap(line):\n",
    "    #outfile.write(line + \"\\n\")\n",
    "    #outfile.flush()\n",
    "    print line\n",
    "\n",
    "doublewrap(\"k;feature;tranformation_mode;norm;in_knn;not_in_knn;percent\")\n",
    "for k, mtr_n, norm, tfm in product(ks, mtm, norms, transform_modes):\n",
    "    print timeit.timeit(lambda: run_test(k, mtr_n, norm, tfm, doublewrap), number=1)\n",
    "    #training_infos = di.get_trainingset_infos()\n",
    "\n",
    "    #em = analyze.DistanceInfo.make_equivalence_map(testset_infos, training_infos)\n",
    "\n",
    "    #good, bad, other = 0, 0, 0\n",
    "    #for i in range(0, len(em)):\n",
    "    #    res = analyze.DistanceInfo.get_partition_sizes(pairwise_d[i], None, em[i])\n",
    "    #    for el in res:\n",
    "    #        if el[0] < el[2]:\n",
    "    #            good += 1\n",
    "    #        elif el[0] > el[2]:\n",
    "    #            bad += 1\n",
    "    #try:\n",
    "    #    print good, bad, other, 1.0 * good/bad\n",
    "    #except ZeroDivisionError, e:\n",
    "    #    # zomg x/0\n",
    "    #    print good, bad, other, \"---\"\n",
    "\n",
    "\n",
    "    #di.make_aggregate_graph(pairwise_d, testset_infos, em, title=label)\n",
    "    #plt.savefig(\"glibc_dietlibc_default_aggr.pdf\")\n",
    "    #plt.close()\n",
    "outfile.close()\n"
   ]
  },
  {
   "cell_type": "code",
   "execution_count": null,
   "metadata": {
    "collapsed": false
   },
   "outputs": [],
   "source": []
  },
  {
   "cell_type": "code",
   "execution_count": null,
   "metadata": {
    "collapsed": false
   },
   "outputs": [],
   "source": []
  },
  {
   "cell_type": "code",
   "execution_count": null,
   "metadata": {
    "collapsed": false
   },
   "outputs": [],
   "source": []
  },
  {
   "cell_type": "code",
   "execution_count": null,
   "metadata": {
    "collapsed": false
   },
   "outputs": [],
   "source": []
  },
  {
   "cell_type": "code",
   "execution_count": null,
   "metadata": {
    "collapsed": false
   },
   "outputs": [],
   "source": []
  },
  {
   "cell_type": "code",
   "execution_count": null,
   "metadata": {
    "collapsed": false
   },
   "outputs": [],
   "source": []
  },
  {
   "cell_type": "code",
   "execution_count": null,
   "metadata": {
    "collapsed": false
   },
   "outputs": [],
   "source": []
  },
  {
   "cell_type": "code",
   "execution_count": null,
   "metadata": {
    "collapsed": false
   },
   "outputs": [],
   "source": []
  }
 ],
 "metadata": {
  "kernelspec": {
   "display_name": "Python 2",
   "language": "python",
   "name": "python2"
  },
  "language_info": {
   "codemirror_mode": {
    "name": "ipython",
    "version": 2
   },
   "file_extension": ".py",
   "mimetype": "text/x-python",
   "name": "python",
   "nbconvert_exporter": "python",
   "pygments_lexer": "ipython2",
   "version": "2.7.9"
  }
 },
 "nbformat": 4,
 "nbformat_minor": 0
}
