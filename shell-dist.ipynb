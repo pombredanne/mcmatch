{
 "cells": [
  {
   "cell_type": "code",
   "execution_count": 5,
   "metadata": {
    "collapsed": false
   },
   "outputs": [],
   "source": [
    "%matplotlib inline\n",
    "from sklearn.neighbors import NearestNeighbors, KDTree\n",
    "\n",
    "from mcmatch import cluster\n",
    "from mcmatch.db.pg_database import PgFunDB\n",
    "from mcmatch.util import extract_funname, signature_to_fname_heuristic\n",
    "from mcmatch.feature import all_features, textlength_features, counter_sum_features, counter_features, relative_counter_features, relative_counter_sum_features\n",
    "from mcmatch.feature import cyclo_feature\n",
    "from mcmatch.feature.aggregator import FeatureAggregator\n",
    "from sklearn import preprocessing\n",
    "import matplotlib.pyplot as plt\n",
    "import numpy as np\n",
    "from itertools import product\n",
    "import pprint\n",
    "import timeit"
   ]
  },
  {
   "cell_type": "code",
   "execution_count": 6,
   "metadata": {
    "collapsed": true
   },
   "outputs": [],
   "source": [
    "def run_test(mtr_n, tfm, norm, doublewrap):\n",
    "    global mtm\n",
    "    line = '%s;%r;%s;' % (mtr_n, tfm, norm)\n",
    "    #print \"***\", label\n",
    "    mtr_o = mtm[mtr_n]\n",
    "    used_features = FeatureAggregator(mtr_o.values())\n",
    "\n",
    "    di = cluster.DistanceInfo(fdb, used_features, training_repositories=train_set, transform=tfm, norm=norm)\n",
    "    #print di.train_data.shape\n",
    "    pairwise_d, testset_infos = di.test(fdb, in_repositories=['t-dietlibc'])\n",
    "    #print pairwise_d.shape\n",
    "    training_infos = di.get_trainingset_infos()\n",
    "\n",
    "    em = cluster.DistanceInfo.make_equivalence_map(testset_infos, training_infos,\n",
    "                                                  key=lambda z: signature_to_fname_heuristic(z[1]))\n",
    "\n",
    "    #print pairwise_d.shape\n",
    "    #print di.train_data.shape\n",
    "    \n",
    "    good, bad, other = 0, 0, 0\n",
    "    \n",
    "    ks = []\n",
    "    for i in range(0, len(em)):\n",
    "        closests = [] # Yes?\n",
    "        #pprint.pprint(em[i])\n",
    "        \n",
    "        #print \">\", testset_infos[i]\n",
    "        #print \">\", di.test_data[i]\n",
    "        #for eq in em[i]:\n",
    "        #    print \"<\", di.train_data[eq], training_infos[eq]\n",
    "        res = cluster.DistanceInfo.get_partition_sizes(pairwise_d[i], None, em[i])\n",
    "        for el in res:\n",
    "            closests.append(el[0])    \n",
    "            if el[0] < el[2]:\n",
    "                good += 1\n",
    "            elif el[0] > el[2]:\n",
    "                bad += 1\n",
    "            else:\n",
    "                other += 1\n",
    "        if (len(closests)):\n",
    "            ks.append(min(closests))\n",
    "    try:\n",
    "        line += \";\".join(map(str, [good, bad, other, len(ks), 1.0*sum(ks)/len(ks), np.median(ks), np.std(ks)]))\n",
    "    except ZeroDivisionError, e:\n",
    "        # zomg x/0\n",
    "        line += \";\".join(map(str, [good, bad, other, len(ks), \"NaN\", np.median(ks), np.std(ks)]))\n",
    "    doublewrap(line)\n",
    "\n",
    "    #di.make_aggregate_graph(pairwise_d, testset_infos, em, title=label)\n",
    "    #plt.savefig(\"glibc_dietlibc_default_aggr.pdf\")\n",
    "    #plt.close()\n",
    "    del di.train_data\n",
    "    del di.trainingset_idx_to_ftid\n",
    "    del pairwise_d\n",
    "    del testset_infos\n",
    "    del training_infos\n",
    "    del em\n",
    "    del di\n",
    "    #gc.collect()"
   ]
  },
  {
   "cell_type": "code",
   "execution_count": 7,
   "metadata": {
    "collapsed": false,
    "scrolled": true
   },
   "outputs": [
    {
     "name": "stdout",
     "output_type": "stream",
     "text": [
      "feature;tranformation_mode;norm;better_than_avg;worse_than_avg;other;num_fns_in_both_sets;mean_k;median_k;stddev_k\n",
      "all;0;cityblock;2828;1308;0;419;3442.92840095;1034.0;4689.96208234\n",
      "36.6887021065\n",
      "all;1;cityblock;2825;1311;0;419;3041.56563246;862.0;4553.559855\n",
      "34.2806880474\n",
      "all;2;cityblock;2805;1331;0;419;3361.98806683;950.0;4638.26693854\n",
      "35.9522540569\n",
      "all;4;cityblock;2805;1331;0;419;3362.00238663;950.0;4638.25769151\n",
      "52.1849730015\n",
      "all;0;euclidean;2820;1316;0;419;3429.52505967;1061.0;4643.23611034\n",
      "34.0597109795\n",
      "all;1;euclidean;2477;1659;0;419;3209.19570406;856.0;4651.61717663\n",
      "33.917402029\n",
      "all;2;euclidean;2820;1316;0;419;3430.5202864;1061.0;4642.86369704\n",
      "41.9563589096\n",
      "all;4;euclidean;2820;1316;0;419;3430.32458234;1061.0;4642.85082569\n",
      "51.5741598606\n",
      "all;0;cosine;2665;1471;0;419;3071.94033413;1173.0;4065.5129111\n",
      "33.7857909203\n",
      "all;1;cosine;3075;1061;0;419;2718.71837709;759.0;3902.76758749\n",
      "33.8562469482\n",
      "all;2;cosine;2815;1321;0;419;3415.58472554;1184.0;4617.38177051\n",
      "40.0717999935\n",
      "all;4;cosine;2815;1321;0;419;3415.48210024;1184.0;4617.42443024\n",
      "53.0908260345\n"
     ]
    }
   ],
   "source": [
    "fdb = PgFunDB()\n",
    "mtm = {\n",
    "    'all' : all_features,\n",
    "#    'textlength' : textlength_features,\n",
    "#    'counter': counter_features,\n",
    "#    'counter_sum': counter_sum_features,\n",
    "#    'rel_counter': relative_counter_features,\n",
    "#    'rel_counter_sum' : relative_counter_sum_features,\n",
    "#    'cyclo' : cyclo_feature,\n",
    "#    'textlen+rel_counter_sum' : dict(\n",
    "#          list(textlength_features.items())\n",
    "#        + list(relative_counter_sum_features.items()))\n",
    "}\n",
    "\n",
    "#for m in counter_features:\n",
    "#    mtm['counter_' + m] = {'m': counter_features[m]}\n",
    "#for m in relative_counter_features:\n",
    "#    mtm['rel_counter_' + m] = {'m' : relative_counter_features[m]}\n",
    "\n",
    "norms = ['cityblock', 'euclidean', 'cosine']\n",
    "\n",
    "transform_modes = [0, 1, 2, 4]\n",
    "\n",
    "train_set = ['t-glibc', 'musl-1.1.6']\n",
    "\n",
    "outfile = open(\"shell-dist.out.csv\", \"w\")\n",
    "def doublewrap(line):\n",
    "    #outfile.write(line + \"\\n\")\n",
    "    #outfile.flush()\n",
    "    print line\n",
    "\n",
    "doublewrap(\"feature;tranformation_mode;norm;better_than_avg;worse_than_avg;other;num_fns_in_both_sets;mean_k;median_k;stddev_k\")\n",
    "for mtr_n, norm, tfm in product(mtm, norms, transform_modes):\n",
    "    print timeit.timeit(lambda: run_test(mtr_n, tfm, norm, doublewrap), number=1)"
   ]
  },
  {
   "cell_type": "code",
   "execution_count": null,
   "metadata": {
    "collapsed": false
   },
   "outputs": [],
   "source": []
  },
  {
   "cell_type": "code",
   "execution_count": null,
   "metadata": {
    "collapsed": false
   },
   "outputs": [],
   "source": []
  },
  {
   "cell_type": "code",
   "execution_count": null,
   "metadata": {
    "collapsed": false
   },
   "outputs": [],
   "source": []
  },
  {
   "cell_type": "code",
   "execution_count": null,
   "metadata": {
    "collapsed": false
   },
   "outputs": [],
   "source": []
  },
  {
   "cell_type": "code",
   "execution_count": null,
   "metadata": {
    "collapsed": false
   },
   "outputs": [],
   "source": []
  },
  {
   "cell_type": "code",
   "execution_count": null,
   "metadata": {
    "collapsed": false
   },
   "outputs": [],
   "source": []
  },
  {
   "cell_type": "code",
   "execution_count": null,
   "metadata": {
    "collapsed": false
   },
   "outputs": [],
   "source": []
  },
  {
   "cell_type": "code",
   "execution_count": null,
   "metadata": {
    "collapsed": false
   },
   "outputs": [],
   "source": []
  }
 ],
 "metadata": {
  "kernelspec": {
   "display_name": "Python 2",
   "language": "python",
   "name": "python2"
  },
  "language_info": {
   "codemirror_mode": {
    "name": "ipython",
    "version": 2
   },
   "file_extension": ".py",
   "mimetype": "text/x-python",
   "name": "python",
   "nbconvert_exporter": "python",
   "pygments_lexer": "ipython2",
   "version": "2.7.9"
  }
 },
 "nbformat": 4,
 "nbformat_minor": 0
}
