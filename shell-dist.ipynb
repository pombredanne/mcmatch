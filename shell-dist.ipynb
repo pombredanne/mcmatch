{
 "cells": [
  {
   "cell_type": "code",
   "execution_count": 3,
   "metadata": {
    "collapsed": false
   },
   "outputs": [],
   "source": [
    "%matplotlib inline\n",
    "from sklearn.neighbors import NearestNeighbors, KDTree\n",
    "\n",
    "from mcmatch import cluster\n",
    "from mcmatch.db.pg_database import PgFunDB\n",
    "from mcmatch.util import extract_funname, signature_to_fname_heuristic\n",
    "from mcmatch.metric import all_metrics, textlength_metrics, counter_sum_metrics, counter_metrics, relative_counter_metrics, relative_counter_sum_metrics\n",
    "from mcmatch.metric import cyclo_metric\n",
    "from mcmatch.metric.aggregator import MetricAggregator\n",
    "from sklearn import preprocessing\n",
    "import matplotlib.pyplot as plt\n",
    "import numpy as np\n",
    "from itertools import product\n",
    "import pprint\n"
   ]
  },
  {
   "cell_type": "code",
   "execution_count": 4,
   "metadata": {
    "collapsed": false,
    "scrolled": true
   },
   "outputs": [
    {
     "name": "stdout",
     "output_type": "stream",
     "text": [
      "metric;tranformation_mode;norm;better_than_avg;worse_than_avg;other;num_fns_in_both_sets;mean_k;median_k;stddev_k\n",
      "all;0;cityblock;2828;1308;0;419;3442.92840095;1034.0;4689.96208234\n",
      "all;0;euclidean;2820;1316;0;419;3429.52505967;1061.0;4643.23611034\n",
      "all;0;cosine;2665;1471;0;419;3071.94033413;1173.0;4065.5129111\n",
      "counter;0;cityblock;3016;1120;0;419;3126.28639618;373.0;5086.09234204\n",
      "counter;0;euclidean;3014;1122;0;419;3303.55131265;400.0;5167.71293999\n",
      "counter;0;cosine;2739;1199;198;419;2186.42720764;645.0;3391.63064763\n",
      "counter_logical;0;cityblock;2462;1674;0;419;2214.28162291;0.0;4774.91742416\n",
      "counter_logical;0;euclidean;2487;1649;0;419;2250.82100239;0.0;4785.69548981\n",
      "counter_logical;0;cosine;919;903;2314;419;768.957040573;0.0;1970.33727606\n",
      "rel_counter_r_jumps;0;cityblock;2528;1608;0;419;2884.08591885;696.0;4324.51626909\n",
      "rel_counter_r_jumps;0;euclidean;2478;1658;0;419;3173.29594272;971.0;4433.58149974\n",
      "rel_counter_r_jumps;0;cosine;1780;1097;1259;419;2176.86873508;390.0;3239.28827143\n",
      "rel_counter_r_expensive;0;cityblock;4046;90;0;419;236.293556086;0.0;2125.25616532\n",
      "rel_counter_r_expensive;0;euclidean;4046;90;0;419;236.976133652;0.0;2128.90583108\n",
      "rel_counter_r_expensive;0;cosine;40;108;3988;419;3.45107398568;0.0;24.9384802499\n",
      "rel_counter_r_arith;0;cityblock;2458;1678;0;419;2535.13365155;370.0;4759.05137368\n",
      "rel_counter_r_arith;0;euclidean;2328;1808;0;419;2324.76133652;381.0;4146.53998217\n",
      "rel_counter_r_arith;0;cosine;2095;1383;658;419;1705.50596659;0.0;3142.9278943\n",
      "cyclo;0;cityblock;2731;1405;0;419;3334.1575179;694.0;4699.63572488\n",
      "cyclo;0;euclidean;2740;1396;0;419;3301.88066826;783.0;4711.3092146\n",
      "cyclo;0;cosine;1845;1032;1259;419;2422.72315036;511.0;3686.04604956\n",
      "rel_counter_sum;0;cityblock;2689;1447;0;419;2607.9451074;811.0;3947.55854754\n",
      "rel_counter_sum;0;euclidean;2533;1603;0;419;2840.29116945;849.0;4152.27219462\n",
      "rel_counter_sum;0;cosine;2635;1303;198;419;2694.90214797;998.0;3573.54699781\n",
      "counter_sum;0;cityblock;3062;1074;0;419;3168.62052506;471.0;4974.71123079\n",
      "counter_sum;0;euclidean;3059;1077;0;419;3429.23150358;675.0;5099.55250237\n",
      "counter_sum;0;cosine;2635;1303;198;419;2661.40095465;996.0;3571.13425509\n",
      "rel_counter_r_logical;0;cityblock;2369;1767;0;419;2287.60859189;0.0;4721.94951442\n",
      "rel_counter_r_logical;0;euclidean;2236;1900;0;419;2399.43198091;1.0;4773.55455407\n",
      "rel_counter_r_logical;0;cosine;919;903;2314;419;772.599045346;0.0;1973.97129164\n",
      "counter_jumps;0;cityblock;2903;1233;0;419;2928.55131265;492.0;4755.88569649\n",
      "counter_jumps;0;euclidean;2937;1199;0;419;3171.53699284;478.0;4934.01308589\n",
      "counter_jumps;0;cosine;1782;1095;1259;419;2154.85680191;390.0;3221.34839221\n",
      "counter_calls;0;cityblock;2771;1365;0;419;2638.17661098;0.0;4300.47816593\n",
      "counter_calls;0;euclidean;2771;1365;0;419;2638.17661098;0.0;4300.47816593\n",
      "counter_calls;0;cosine;2346;754;1036;419;428.553699284;0.0;2304.98838909\n",
      "textlen+rel_counter_sum;0;cityblock;3086;1050;0;419;3642.78042959;1512.0;4761.56712681\n",
      "textlen+rel_counter_sum;0;euclidean;3086;1050;0;419;3650.01193317;1469.0;4761.53197328\n",
      "textlen+rel_counter_sum;0;cosine;2135;2001;0;419;3154.84486874;1004.0;4229.20067063\n",
      "rel_counter;0;cityblock;2616;1520;0;419;2393.91408115;663.0;3803.01137648\n",
      "rel_counter;0;euclidean;2379;1757;0;419;2561.18138425;779.0;3883.3296825\n",
      "rel_counter;0;cosine;2738;1200;198;419;2210.26968974;671.0;3390.04634635\n",
      "textlength;0;cityblock;3075;1061;0;419;3546.57756563;1308.0;4741.56504435\n",
      "textlength;0;euclidean;3075;1061;0;419;3546.57756563;1308.0;4741.56504435\n",
      "textlength;0;cosine;0;0;4136;419;0.0;0.0;0.0\n",
      "rel_counter_r_calls;0;cityblock;2877;1259;0;419;2405.99045346;845.0;3365.45177098\n",
      "rel_counter_r_calls;0;euclidean;2877;1259;0;419;2406.05966587;845.0;3365.49840823\n",
      "rel_counter_r_calls;0;cosine;2346;754;1036;419;428.553699284;0.0;2304.98838909\n",
      "counter_arithmetic;0;cityblock;2864;1272;0;419;2236.849642;1.0;4699.09813302\n",
      "counter_arithmetic;0;euclidean;2890;1246;0;419;2305.88544153;1.0;4687.48156057\n",
      "counter_arithmetic;0;cosine;2106;1372;658;419;1623.86634845;0.0;3122.48551268\n",
      "counter_expensive;0;cityblock;4076;60;0;419;141.131264916;0.0;1635.00029251\n",
      "counter_expensive;0;euclidean;4076;60;0;419;141.164677804;0.0;1635.00085148\n",
      "counter_expensive;0;cosine;40;108;3988;419;3.45107398568;0.0;24.9384802499\n"
     ]
    }
   ],
   "source": [
    "fdb = PgFunDB()\n",
    "mtm = {\n",
    "    'all' : all_metrics,\n",
    "    'textlength' : textlength_metrics,\n",
    "    'counter': counter_metrics,\n",
    "    'counter_sum': counter_sum_metrics,\n",
    "    'rel_counter': relative_counter_metrics,\n",
    "    'rel_counter_sum' : relative_counter_sum_metrics,\n",
    "    'cyclo' : cyclo_metric,\n",
    "    'textlen+rel_counter_sum' : dict(\n",
    "          list(textlength_metrics.items())\n",
    "        + list(relative_counter_sum_metrics.items()))\n",
    "}\n",
    "\n",
    "for m in counter_metrics:\n",
    "    mtm['counter_' + m] = {'m': counter_metrics[m]}\n",
    "for m in relative_counter_metrics:\n",
    "    mtm['rel_counter_' + m] = {'m' : relative_counter_metrics[m]}\n",
    "\n",
    "norms = ['cityblock', 'euclidean', 'cosine']\n",
    "\n",
    "transform_modes = [0]\n",
    "\n",
    "train_set = ['t-glibc', 'musl-1.1.6']\n",
    "\n",
    "outfile = open(\"shell-dist.out.csv\", \"w\")\n",
    "def doublewrap(line):\n",
    "    outfile.write(line + \"\\n\")\n",
    "    outfile.flush()\n",
    "    print line\n",
    "\n",
    "doublewrap(\"metric;tranformation_mode;norm;better_than_avg;worse_than_avg;other;num_fns_in_both_sets;mean_k;median_k;stddev_k\")\n",
    "for mtr_n, norm, tfm in product(mtm, norms, transform_modes):\n",
    "    line = '%s;%r;%s;' % (mtr_n, tfm, norm)\n",
    "    #print \"***\", label\n",
    "    mtr_o = mtm[mtr_n]\n",
    "    used_metrics = MetricAggregator(mtr_o.values())\n",
    "\n",
    "    di = cluster.DistanceInfo(fdb, used_metrics, training_repositories=train_set, transform=tfm, norm=norm)\n",
    "    #print di.train_data.shape\n",
    "    pairwise_d, testset_infos = di.test(fdb, in_repositories=['t-dietlibc'])\n",
    "    #print pairwise_d.shape\n",
    "    training_infos = di.get_trainingset_infos()\n",
    "\n",
    "    em = cluster.DistanceInfo.make_equivalence_map(testset_infos, training_infos,\n",
    "                                                  key=lambda z: signature_to_fname_heuristic(z[1]))\n",
    "\n",
    "    #print pairwise_d.shape\n",
    "    #print di.train_data.shape\n",
    "    \n",
    "    good, bad, other = 0, 0, 0\n",
    "    \n",
    "    ks = []\n",
    "    for i in range(0, len(em)):\n",
    "        closests = [] # Yes?\n",
    "        #pprint.pprint(em[i])\n",
    "        \n",
    "        #print \">\", testset_infos[i]\n",
    "        #print \">\", di.test_data[i]\n",
    "        #for eq in em[i]:\n",
    "        #    print \"<\", di.train_data[eq], training_infos[eq]\n",
    "        res = cluster.DistanceInfo.get_partition_sizes(pairwise_d[i], None, em[i])\n",
    "        for el in res:\n",
    "            closests.append(el[0])    \n",
    "            if el[0] < el[2]:\n",
    "                good += 1\n",
    "            elif el[0] > el[2]:\n",
    "                bad += 1\n",
    "            else:\n",
    "                other += 1\n",
    "        if (len(closests)):\n",
    "            ks.append(min(closests))\n",
    "    try:\n",
    "        line += \";\".join(map(str, [good, bad, other, len(ks), 1.0*sum(ks)/len(ks), np.median(ks), np.std(ks)]))\n",
    "    except ZeroDivisionError, e:\n",
    "        # zomg x/0\n",
    "        line += \";\".join(map(str, [good, bad, other, len(ks), \"NaN\", np.median(ks), np.std(ks)]))\n",
    "    doublewrap(line)\n",
    "\n",
    "    #di.make_aggregate_graph(pairwise_d, testset_infos, em, title=label)\n",
    "    #plt.savefig(\"glibc_dietlibc_default_aggr.pdf\")\n",
    "    #plt.close()\n",
    "    del di.train_data\n",
    "    del di.trainingset_idx_to_ftid\n",
    "    del pairwise_d\n",
    "    del testset_infos\n",
    "    del training_infos\n",
    "    del em\n",
    "    del di\n",
    "    #gc.collect()"
   ]
  },
  {
   "cell_type": "code",
   "execution_count": null,
   "metadata": {
    "collapsed": false
   },
   "outputs": [],
   "source": []
  },
  {
   "cell_type": "code",
   "execution_count": null,
   "metadata": {
    "collapsed": false
   },
   "outputs": [],
   "source": []
  },
  {
   "cell_type": "code",
   "execution_count": null,
   "metadata": {
    "collapsed": false
   },
   "outputs": [],
   "source": []
  },
  {
   "cell_type": "code",
   "execution_count": null,
   "metadata": {
    "collapsed": false
   },
   "outputs": [],
   "source": []
  },
  {
   "cell_type": "code",
   "execution_count": null,
   "metadata": {
    "collapsed": false
   },
   "outputs": [],
   "source": []
  },
  {
   "cell_type": "code",
   "execution_count": null,
   "metadata": {
    "collapsed": false
   },
   "outputs": [],
   "source": []
  },
  {
   "cell_type": "code",
   "execution_count": null,
   "metadata": {
    "collapsed": false
   },
   "outputs": [],
   "source": []
  },
  {
   "cell_type": "code",
   "execution_count": null,
   "metadata": {
    "collapsed": false
   },
   "outputs": [],
   "source": []
  }
 ],
 "metadata": {
  "kernelspec": {
   "display_name": "Python 2",
   "language": "python",
   "name": "python2"
  },
  "language_info": {
   "codemirror_mode": {
    "name": "ipython",
    "version": 2
   },
   "file_extension": ".py",
   "mimetype": "text/x-python",
   "name": "python",
   "nbconvert_exporter": "python",
   "pygments_lexer": "ipython2",
   "version": "2.7.9"
  }
 },
 "nbformat": 4,
 "nbformat_minor": 0
}
