{
 "cells": [
  {
   "cell_type": "code",
   "execution_count": 1,
   "metadata": {
    "collapsed": false
   },
   "outputs": [],
   "source": [
    "%matplotlib inline\n",
    "from sklearn.neighbors import NearestNeighbors, KDTree\n",
    "\n",
    "from mcmatch import cluster\n",
    "from mcmatch.db.pg_database import PgFunDB\n",
    "from mcmatch.util import extract_funname, signature_to_fname_heuristic\n",
    "from mcmatch.feature.counter import counter_features\n",
    "from mcmatch.feature import all_features\n",
    "from mcmatch.feature.aggregator import FeatureAggregator\n",
    "from sklearn import preprocessing\n",
    "import pprint\n",
    "import matplotlib.pyplot as plt\n",
    "import timeit\n",
    "\n",
    "metr_aggr = FeatureAggregator([all_features[m] for m in all_features])\n",
    "\n",
    "fdb = PgFunDB()\n"
   ]
  },
  {
   "cell_type": "code",
   "execution_count": null,
   "metadata": {
    "collapsed": false
   },
   "outputs": [],
   "source": []
  },
  {
   "cell_type": "code",
   "execution_count": 2,
   "metadata": {
    "collapsed": false
   },
   "outputs": [],
   "source": [
    "def print_analysis(predictions, test_fun_fids, fid_names):\n",
    "    good = 0\n",
    "    nf = 0\n",
    "    f = 0\n",
    "    for i, v in enumerate(predictions):\n",
    "        #if v == 'i2a' or v == 'dummy':\n",
    "        #    continue\n",
    "        fb = signature_to_fname_heuristic(test_fun_fids[i][1])\n",
    "        if v == fb:\n",
    "            good += 1\n",
    "            print \"**********\", i, v, fb\n",
    "        elif fb not in fid_names:\n",
    "            nf += 1\n",
    "            #print \"!!\", fb, \"not in fid_names\"\n",
    "        #print i, v, fb\n",
    "    \n",
    "    print good, \"of\", len(predictions), float(good)/len(predictions)\n",
    "    if nf != len(predictions):\n",
    "        print good, \"of\", len(predictions)-nf, float(good)/(len(predictions)-nf)"
   ]
  },
  {
   "cell_type": "code",
   "execution_count": 3,
   "metadata": {
    "collapsed": true
   },
   "outputs": [],
   "source": [
    "def run_test_(fdb, metr_aggr, clf, trainset, transformMode=0):\n",
    "    print \"start\"\n",
    "    fids, train_data = fdb.get_features_np(metr_aggr, in_repositories=trainset)\n",
    "    ppl = cluster.TransformPipeline(transformMode)\n",
    "    train_data = ppl.transform_trainingset(train_data)\n",
    "    fid_names = map(lambda z: signature_to_fname_heuristic(z[1]), fids)\n",
    "    print \"Fit\"\n",
    "    clf.fit(train_data, fid_names)\n",
    "    del train_data\n",
    "    test_fun_fids, test_fun_data = fdb.get_features_np(metr_aggr, in_repositories=['t-dietlibc'])\n",
    "    test_fun_data = ppl.transform_testset(test_fun_data)\n",
    "    predictions = clf.predict(test_fun_data)\n",
    "    print_analysis(predictions, test_fun_fids, fid_names)\n",
    "\n",
    "def run_test(fdb, metr_aggr, clf, trainset, transformMode=0):\n",
    "    print timeit.timeit(lambda: run_test_(fdb, metr_aggr, clf, trainset, transformMode), number=1)"
   ]
  },
  {
   "cell_type": "code",
   "execution_count": 4,
   "metadata": {
    "collapsed": false
   },
   "outputs": [],
   "source": [
    "trainset1 = ['glibc', 'musl-1.1.6']\n",
    "trainset2 = ['musl-1.1.6']\n",
    "#trainset = ['glibc']\n",
    "\n",
    "from sklearn import svm\n",
    "from sklearn import tree\n",
    "from sklearn import ensemble\n",
    "from sklearn.naive_bayes import GaussianNB, MultinomialNB, BernoulliNB\n",
    "from sklearn.ensemble import AdaBoostClassifier, BaggingClassifier, ExtraTreesClassifier, GradientBoostingClassifier, RandomForestClassifier\n",
    "from sklearn.neighbors import KNeighborsClassifier\n"
   ]
  },
  {
   "cell_type": "code",
   "execution_count": 5,
   "metadata": {
    "collapsed": false
   },
   "outputs": [
    {
     "name": "stdout",
     "output_type": "stream",
     "text": [
      "start\n",
      "Fit\n",
      "********** 78 ctime_r ctime_r\n",
      "********** 150 getopt_long getopt_long\n",
      "********** 342 atoi atoi\n",
      "3 of 596 0.00503355704698\n",
      "3 of 419 0.00715990453461\n",
      "355.633279085\n"
     ]
    }
   ],
   "source": [
    "run_test(fdb, metr_aggr, svm.SVC(), trainset1)"
   ]
  },
  {
   "cell_type": "code",
   "execution_count": null,
   "metadata": {
    "collapsed": false
   },
   "outputs": [
    {
     "name": "stdout",
     "output_type": "stream",
     "text": [
      "********** 187 atoi atoi\n",
      "1 of 596 0.00167785234899\n",
      "1 of 373 0.00268096514745\n"
     ]
    }
   ],
   "source": [
    "run_test(fdb, metr_aggr, svm.SVC(), trainset2)"
   ]
  },
  {
   "cell_type": "code",
   "execution_count": 6,
   "metadata": {
    "collapsed": false
   },
   "outputs": [
    {
     "name": "stdout",
     "output_type": "stream",
     "text": [
      "start\n",
      "Fit\n",
      "********** 82 get_current_dir_name get_current_dir_name\n",
      "********** 144 isalnum isalnum\n",
      "********** 189 fwrite_unlocked fwrite_unlocked\n",
      "********** 372 execlp execlp\n",
      "********** 481 dn_skipname dn_skipname\n",
      "********** 484 sigdelset sigdelset\n",
      "********** 520 getpriority getpriority\n",
      "********** 524 ftime ftime\n",
      "********** 526 cfmakeraw cfmakeraw\n",
      "********** 535 getopt getopt\n",
      "********** 537 lockf lockf\n",
      "********** 571 to64 to64\n",
      "12 of 596 0.0201342281879\n",
      "12 of 419 0.0286396181384\n",
      "39788.8826408\n"
     ]
    }
   ],
   "source": [
    "run_test(fdb, metr_aggr, svm.LinearSVC(), trainset1, 1)"
   ]
  },
  {
   "cell_type": "code",
   "execution_count": 5,
   "metadata": {
    "collapsed": false
   },
   "outputs": [
    {
     "name": "stdout",
     "output_type": "stream",
     "text": [
      "start\n",
      "Fit\n",
      "********** 187 atoi atoi\n",
      "********** 225 usleep usleep\n",
      "********** 232 wcscpy wcscpy\n",
      "********** 302 isalnum isalnum\n",
      "********** 456 isalpha isalpha\n",
      "********** 476 getservbyport getservbyport\n",
      "********** 520 getpriority getpriority\n",
      "********** 526 cfmakeraw cfmakeraw\n",
      "8 of 596 0.0134228187919\n",
      "8 of 373 0.0214477211796\n"
     ]
    }
   ],
   "source": [
    "run_test(fdb, metr_aggr, svm.LinearSVC(), trainset2)"
   ]
  },
  {
   "cell_type": "code",
   "execution_count": 6,
   "metadata": {
    "collapsed": false
   },
   "outputs": [
    {
     "name": "stdout",
     "output_type": "stream",
     "text": [
      "start\n",
      "Fit\n",
      "********** 33 siginterrupt siginterrupt\n",
      "********** 81 execl execl\n",
      "********** 82 get_current_dir_name get_current_dir_name\n",
      "********** 225 usleep usleep\n",
      "********** 302 isalnum isalnum\n",
      "********** 481 dn_skipname dn_skipname\n",
      "********** 520 getpriority getpriority\n",
      "********** 524 ftime ftime\n",
      "********** 535 getopt getopt\n",
      "********** 537 lockf lockf\n",
      "********** 571 to64 to64\n",
      "11 of 596 0.0184563758389\n",
      "11 of 373 0.029490616622\n"
     ]
    }
   ],
   "source": [
    "run_test(fdb, metr_aggr, svm.LinearSVC(), trainset2, 1)"
   ]
  },
  {
   "cell_type": "code",
   "execution_count": 7,
   "metadata": {
    "collapsed": false
   },
   "outputs": [
    {
     "name": "stdout",
     "output_type": "stream",
     "text": [
      "start\n",
      "Fit\n",
      "0 of 596 0.0\n",
      "0 of 419 0.0\n",
      "4752.93290114\n"
     ]
    }
   ],
   "source": [
    "run_test(fdb, metr_aggr, svm.LinearSVC(), trainset1)"
   ]
  },
  {
   "cell_type": "code",
   "execution_count": 7,
   "metadata": {
    "collapsed": false
   },
   "outputs": [
    {
     "name": "stdout",
     "output_type": "stream",
     "text": [
      "start\n",
      "Fit\n",
      "********** 150 getopt_long getopt_long\n",
      "********** 380 usleep usleep\n",
      "********** 459 fdopendir fdopendir\n",
      "********** 501 bsearch bsearch\n",
      "4 of 596 0.00671140939597\n",
      "4 of 419 0.00954653937947\n",
      "306.691169977\n"
     ]
    }
   ],
   "source": [
    "run_test(fdb, metr_aggr, svm.SVC(), trainset1, 1)"
   ]
  },
  {
   "cell_type": "code",
   "execution_count": null,
   "metadata": {
    "collapsed": true
   },
   "outputs": [],
   "source": [
    "run_test(fdb, metr_aggr, svm.LinearSVC(), trainset2, 1)"
   ]
  },
  {
   "cell_type": "code",
   "execution_count": 12,
   "metadata": {
    "collapsed": false
   },
   "outputs": [
    {
     "name": "stdout",
     "output_type": "stream",
     "text": [
      "start\n",
      "Fit\n",
      "********** 82 get_current_dir_name get_current_dir_name\n",
      "********** 144 isalnum isalnum\n",
      "********** 200 atol atol\n",
      "********** 372 execlp execlp\n",
      "********** 481 dn_skipname dn_skipname\n",
      "********** 520 getpriority getpriority\n",
      "********** 524 ftime ftime\n",
      "********** 526 cfmakeraw cfmakeraw\n",
      "********** 535 getopt getopt\n",
      "********** 537 lockf lockf\n",
      "********** 571 to64 to64\n",
      "11 of 596 0.0184563758389\n",
      "11 of 419 0.0262529832936\n",
      "8530.30809402\n"
     ]
    }
   ],
   "source": [
    "run_test(fdb, metr_aggr, svm.LinearSVC(), trainset1, 1)"
   ]
  },
  {
   "cell_type": "code",
   "execution_count": 6,
   "metadata": {
    "collapsed": false
   },
   "outputs": [
    {
     "name": "stdout",
     "output_type": "stream",
     "text": [
      "start\n",
      "Fit\n",
      "********** 78 ctime_r ctime_r\n",
      "********** 187 atoi atoi\n",
      "********** 308 getopt_long getopt_long\n",
      "3 of 596 0.00503355704698\n",
      "3 of 419 0.00715990453461\n"
     ]
    }
   ],
   "source": [
    "run_test(fdb, metr_aggr, svm.SVC(), trainset1, 2)"
   ]
  },
  {
   "cell_type": "code",
   "execution_count": 7,
   "metadata": {
    "collapsed": false
   },
   "outputs": [
    {
     "name": "stdout",
     "output_type": "stream",
     "text": [
      "start\n",
      "Fit\n",
      "********** 187 atoi atoi\n",
      "1 of 596 0.00167785234899\n",
      "1 of 373 0.00268096514745\n"
     ]
    }
   ],
   "source": [
    "run_test(fdb, metr_aggr, svm.SVC(), trainset2, 2)"
   ]
  },
  {
   "cell_type": "code",
   "execution_count": 8,
   "metadata": {
    "collapsed": false
   },
   "outputs": [
    {
     "name": "stdout",
     "output_type": "stream",
     "text": [
      "start\n",
      "Fit\n",
      "********** 2 isblank isblank\n",
      "********** 58 memrchr memrchr\n",
      "********** 81 execl execl\n",
      "********** 82 get_current_dir_name get_current_dir_name\n",
      "********** 152 iconv_open iconv_open\n",
      "********** 185 flbf flbf\n",
      "********** 187 atoi atoi\n",
      "********** 206 mkfifo mkfifo\n",
      "********** 302 isalnum isalnum\n",
      "********** 319 md5crypt md5crypt\n",
      "********** 355 abs abs\n",
      "********** 379 execle execle\n",
      "********** 411 isblank isblank\n",
      "********** 456 isalpha isalpha\n",
      "********** 526 cfmakeraw cfmakeraw\n",
      "********** 550 wmemcpy wmemcpy\n",
      "16 of 596 0.0268456375839\n",
      "16 of 373 0.0428954423592\n"
     ]
    }
   ],
   "source": [
    "run_test(fdb, metr_aggr, tree.DecisionTreeClassifier(criterion=\"gini\"), trainset2)"
   ]
  },
  {
   "cell_type": "code",
   "execution_count": null,
   "metadata": {
    "collapsed": false
   },
   "outputs": [],
   "source": [
    "run_test(fdb, metr_aggr, tree.DecisionTreeClassifier(criterion=\"gini\"), trainset2, 1)"
   ]
  },
  {
   "cell_type": "code",
   "execution_count": 8,
   "metadata": {
    "collapsed": false
   },
   "outputs": [
    {
     "name": "stdout",
     "output_type": "stream",
     "text": [
      "start\n",
      "Fit\n",
      "********** 2 isblank isblank\n",
      "********** 59 strdup strdup\n",
      "********** 144 isalnum isalnum\n",
      "********** 155 dirname dirname\n",
      "********** 197 abs abs\n",
      "********** 200 atol atol\n",
      "********** 221 execle execle\n",
      "********** 253 isblank isblank\n",
      "********** 340 flbf flbf\n",
      "********** 361 mkfifo mkfifo\n",
      "********** 456 isalpha isalpha\n",
      "********** 490 fgetpos fgetpos\n",
      "********** 501 bsearch bsearch\n",
      "********** 520 getpriority getpriority\n",
      "********** 526 cfmakeraw cfmakeraw\n",
      "********** 537 lockf lockf\n",
      "********** 549 wcswidth wcswidth\n",
      "********** 550 wmemcpy wmemcpy\n",
      "********** 571 to64 to64\n",
      "19 of 596 0.0318791946309\n",
      "19 of 419 0.0453460620525\n",
      "28.862694025\n"
     ]
    }
   ],
   "source": [
    "run_test(fdb, metr_aggr, tree.DecisionTreeClassifier(criterion=\"gini\"), trainset1)"
   ]
  },
  {
   "cell_type": "code",
   "execution_count": 9,
   "metadata": {
    "collapsed": false
   },
   "outputs": [
    {
     "name": "stdout",
     "output_type": "stream",
     "text": [
      "start\n",
      "Fit\n",
      "********** 2 isblank isblank\n",
      "********** 144 isalnum isalnum\n",
      "********** 155 dirname dirname\n",
      "********** 197 abs abs\n",
      "********** 200 atol atol\n",
      "********** 221 execle execle\n",
      "********** 253 isblank isblank\n",
      "********** 340 flbf flbf\n",
      "********** 361 mkfifo mkfifo\n",
      "********** 456 isalpha isalpha\n",
      "********** 490 fgetpos fgetpos\n",
      "********** 501 bsearch bsearch\n",
      "********** 520 getpriority getpriority\n",
      "********** 526 cfmakeraw cfmakeraw\n",
      "********** 537 lockf lockf\n",
      "********** 550 wmemcpy wmemcpy\n",
      "********** 571 to64 to64\n",
      "17 of 596 0.0285234899329\n",
      "17 of 419 0.0405727923628\n",
      "26.9783201218\n"
     ]
    }
   ],
   "source": [
    "run_test(fdb, metr_aggr, tree.DecisionTreeClassifier(criterion=\"gini\"), trainset1, 1)"
   ]
  },
  {
   "cell_type": "code",
   "execution_count": 12,
   "metadata": {
    "collapsed": false
   },
   "outputs": [
    {
     "name": "stdout",
     "output_type": "stream",
     "text": [
      "start\n",
      "Fit\n",
      "********** 2 isblank isblank\n",
      "********** 20 getprotobynumber getprotobynumber\n",
      "********** 58 memrchr memrchr\n",
      "********** 185 flbf flbf\n",
      "********** 206 mkfifo mkfifo\n",
      "********** 302 isalnum isalnum\n",
      "********** 313 dirname dirname\n",
      "********** 355 abs abs\n",
      "********** 411 isblank isblank\n",
      "********** 456 isalpha isalpha\n",
      "********** 526 cfmakeraw cfmakeraw\n",
      "********** 532 strptime strptime\n",
      "********** 535 getopt getopt\n",
      "********** 548 mbsinit mbsinit\n",
      "14 of 596 0.0234899328859\n",
      "14 of 373 0.0375335120643\n"
     ]
    }
   ],
   "source": [
    "run_test(fdb, metr_aggr, tree.DecisionTreeClassifier(criterion=\"entropy\"), trainset2)"
   ]
  },
  {
   "cell_type": "code",
   "execution_count": 13,
   "metadata": {
    "collapsed": false
   },
   "outputs": [
    {
     "name": "stdout",
     "output_type": "stream",
     "text": [
      "start\n",
      "Fit\n",
      "********** 2 isblank isblank\n",
      "********** 58 memrchr memrchr\n",
      "********** 185 flbf flbf\n",
      "********** 206 mkfifo mkfifo\n",
      "********** 236 wmemset wmemset\n",
      "********** 302 isalnum isalnum\n",
      "********** 319 md5crypt md5crypt\n",
      "********** 355 abs abs\n",
      "********** 411 isblank isblank\n",
      "********** 456 isalpha isalpha\n",
      "********** 526 cfmakeraw cfmakeraw\n",
      "********** 532 strptime strptime\n",
      "********** 535 getopt getopt\n",
      "********** 548 mbsinit mbsinit\n",
      "********** 571 to64 to64\n",
      "15 of 596 0.0251677852349\n",
      "15 of 373 0.0402144772118\n"
     ]
    }
   ],
   "source": [
    "run_test(fdb, metr_aggr, tree.DecisionTreeClassifier(criterion=\"entropy\"), trainset2, 1)"
   ]
  },
  {
   "cell_type": "code",
   "execution_count": 10,
   "metadata": {
    "collapsed": false
   },
   "outputs": [
    {
     "name": "stdout",
     "output_type": "stream",
     "text": [
      "start\n",
      "Fit\n",
      "********** 2 isblank isblank\n",
      "********** 58 memrchr memrchr\n",
      "********** 59 strdup strdup\n",
      "********** 60 strndup strndup\n",
      "********** 144 isalnum isalnum\n",
      "********** 155 dirname dirname\n",
      "********** 161 md5crypt md5crypt\n",
      "********** 178 res_mkquery res_mkquery\n",
      "********** 197 abs abs\n",
      "********** 253 isblank isblank\n",
      "********** 340 flbf flbf\n",
      "********** 361 mkfifo mkfifo\n",
      "********** 456 isalpha isalpha\n",
      "********** 526 cfmakeraw cfmakeraw\n",
      "********** 571 to64 to64\n",
      "15 of 596 0.0251677852349\n",
      "15 of 419 0.035799522673\n",
      "57.2534070015\n"
     ]
    }
   ],
   "source": [
    "run_test(fdb, metr_aggr, tree.DecisionTreeClassifier(criterion=\"entropy\"), trainset1)"
   ]
  },
  {
   "cell_type": "code",
   "execution_count": 11,
   "metadata": {
    "collapsed": false
   },
   "outputs": [
    {
     "name": "stdout",
     "output_type": "stream",
     "text": [
      "start\n",
      "Fit\n",
      "********** 2 isblank isblank\n",
      "********** 20 getprotobynumber getprotobynumber\n",
      "********** 58 memrchr memrchr\n",
      "********** 59 strdup strdup\n",
      "********** 144 isalnum isalnum\n",
      "********** 155 dirname dirname\n",
      "********** 161 md5crypt md5crypt\n",
      "********** 178 res_mkquery res_mkquery\n",
      "********** 197 abs abs\n",
      "********** 213 getaddrinfo getaddrinfo\n",
      "********** 253 isblank isblank\n",
      "********** 340 flbf flbf\n",
      "********** 361 mkfifo mkfifo\n",
      "********** 456 isalpha isalpha\n",
      "********** 526 cfmakeraw cfmakeraw\n",
      "********** 532 strptime strptime\n",
      "********** 571 to64 to64\n",
      "17 of 596 0.0285234899329\n",
      "17 of 419 0.0405727923628\n",
      "51.8522019386\n"
     ]
    }
   ],
   "source": [
    "run_test(fdb, metr_aggr, tree.DecisionTreeClassifier(criterion=\"entropy\"), trainset1, 1)"
   ]
  },
  {
   "cell_type": "code",
   "execution_count": null,
   "metadata": {
    "collapsed": true
   },
   "outputs": [],
   "source": []
  },
  {
   "cell_type": "code",
   "execution_count": 6,
   "metadata": {
    "collapsed": false
   },
   "outputs": [
    {
     "name": "stdout",
     "output_type": "stream",
     "text": [
      "start\n",
      "Fit\n",
      "********** 2 isblank isblank\n",
      "********** 31 sigaddset sigaddset\n",
      "********** 59 strdup strdup\n",
      "********** 70 adjtime adjtime\n",
      "********** 81 execl execl\n",
      "********** 144 isalnum isalnum\n",
      "********** 155 dirname dirname\n",
      "********** 178 res_mkquery res_mkquery\n",
      "********** 197 abs abs\n",
      "********** 253 isblank isblank\n",
      "********** 307 iconv_open iconv_open\n",
      "********** 456 isalpha isalpha\n",
      "********** 484 sigdelset sigdelset\n",
      "********** 501 bsearch bsearch\n",
      "********** 520 getpriority getpriority\n",
      "********** 526 cfmakeraw cfmakeraw\n",
      "16 of 596 0.0268456375839\n",
      "16 of 419 0.0381861575179\n",
      "16.8397681713\n"
     ]
    }
   ],
   "source": [
    "run_test(fdb, metr_aggr, RandomForestClassifier(), trainset1)"
   ]
  },
  {
   "cell_type": "code",
   "execution_count": 19,
   "metadata": {
    "collapsed": false
   },
   "outputs": [
    {
     "name": "stdout",
     "output_type": "stream",
     "text": [
      "start\n",
      "Fit\n",
      "********** 2 isblank isblank\n",
      "********** 31 sigaddset sigaddset\n",
      "********** 59 strdup strdup\n",
      "********** 187 atoi atoi\n",
      "********** 206 mkfifo mkfifo\n",
      "********** 302 isalnum isalnum\n",
      "********** 313 dirname dirname\n",
      "********** 379 execle execle\n",
      "********** 411 isblank isblank\n",
      "********** 436 iconv iconv\n",
      "********** 456 isalpha isalpha\n",
      "********** 481 dn_skipname dn_skipname\n",
      "********** 484 sigdelset sigdelset\n",
      "********** 501 bsearch bsearch\n",
      "********** 520 getpriority getpriority\n",
      "********** 526 cfmakeraw cfmakeraw\n",
      "********** 535 getopt getopt\n",
      "********** 537 lockf lockf\n",
      "********** 548 mbsinit mbsinit\n",
      "19 of 596 0.0318791946309\n",
      "19 of 373 0.0509383378016\n"
     ]
    }
   ],
   "source": [
    "run_test(fdb, metr_aggr, RandomForestClassifier(), trainset2)"
   ]
  },
  {
   "cell_type": "code",
   "execution_count": 11,
   "metadata": {
    "collapsed": false
   },
   "outputs": [
    {
     "name": "stdout",
     "output_type": "stream",
     "text": [
      "start\n",
      "Fit\n",
      "0 of 596 0.0\n",
      "0 of 419 0.0\n",
      "359.227745056\n"
     ]
    }
   ],
   "source": [
    "run_test(fdb, metr_aggr, AdaBoostClassifier(n_estimators=100), trainset1)"
   ]
  },
  {
   "cell_type": "code",
   "execution_count": null,
   "metadata": {
    "collapsed": false
   },
   "outputs": [],
   "source": [
    "\n",
    "run_test(fdb, metr_aggr, GradientBoostingClassifier(), trainset1)"
   ]
  },
  {
   "cell_type": "code",
   "execution_count": 5,
   "metadata": {
    "collapsed": false
   },
   "outputs": [
    {
     "name": "stdout",
     "output_type": "stream",
     "text": [
      "start\n",
      "Fit\n",
      "********** 2 isblank isblank\n",
      "********** 59 strdup strdup\n",
      "********** 144 isalnum isalnum\n",
      "********** 155 dirname dirname\n",
      "********** 161 md5crypt md5crypt\n",
      "********** 221 execle execle\n",
      "********** 253 isblank isblank\n",
      "********** 292 getgrouplist getgrouplist\n",
      "********** 342 atoi atoi\n",
      "********** 361 mkfifo mkfifo\n",
      "********** 456 isalpha isalpha\n",
      "********** 481 dn_skipname dn_skipname\n",
      "********** 484 sigdelset sigdelset\n",
      "********** 490 fgetpos fgetpos\n",
      "********** 501 bsearch bsearch\n",
      "********** 520 getpriority getpriority\n",
      "********** 526 cfmakeraw cfmakeraw\n",
      "********** 535 getopt getopt\n",
      "********** 571 to64 to64\n",
      "19 of 596 0.0318791946309\n",
      "19 of 419 0.0453460620525\n",
      "183.511810064\n"
     ]
    }
   ],
   "source": [
    "run_test(fdb, metr_aggr, BaggingClassifier(), trainset1)"
   ]
  },
  {
   "cell_type": "code",
   "execution_count": null,
   "metadata": {
    "collapsed": false
   },
   "outputs": [
    {
     "name": "stdout",
     "output_type": "stream",
     "text": [
      "start\n",
      "Fit\n",
      "********** 2 isblank isblank\n",
      "********** 59 strdup strdup\n",
      "********** 152 iconv_open iconv_open\n",
      "********** 187 atoi atoi\n",
      "********** 206 mkfifo mkfifo\n",
      "********** 277 if_nameindex if_nameindex\n",
      "********** 302 isalnum isalnum\n",
      "********** 313 dirname dirname\n",
      "********** 319 md5crypt md5crypt\n",
      "********** 359 labs labs\n",
      "********** 377 ctime ctime\n",
      "********** 379 execle execle\n",
      "********** 411 isblank isblank\n",
      "********** 456 isalpha isalpha\n",
      "********** 501 bsearch bsearch\n",
      "********** 526 cfmakeraw cfmakeraw\n",
      "********** 537 lockf lockf\n",
      "********** 549 wcswidth wcswidth\n",
      "********** 571 to64 to64\n",
      "19 of 596 0.0318791946309\n",
      "19 of 373 0.0509383378016\n"
     ]
    }
   ],
   "source": [
    "run_test(fdb, metr_aggr, BaggingClassifier(), trainset2)"
   ]
  },
  {
   "cell_type": "code",
   "execution_count": null,
   "metadata": {
    "collapsed": false
   },
   "outputs": [
    {
     "name": "stdout",
     "output_type": "stream",
     "text": [
      "start\n",
      "Fit"
     ]
    }
   ],
   "source": [
    "run_test(fdb, metr_aggr, ExtraTreesClassifier(), trainset1)"
   ]
  },
  {
   "cell_type": "code",
   "execution_count": null,
   "metadata": {
    "collapsed": true
   },
   "outputs": [],
   "source": [
    "run_test(fdb, metr_aggr, ExtraTreesClassifier(), trainset2)"
   ]
  },
  {
   "cell_type": "code",
   "execution_count": null,
   "metadata": {
    "collapsed": false
   },
   "outputs": [
    {
     "name": "stdout",
     "output_type": "stream",
     "text": [
      "start\n",
      "Fit"
     ]
    }
   ],
   "source": [
    "run_test(fdb, metr_aggr, GradientBoostingClassifier(), trainset1)"
   ]
  },
  {
   "cell_type": "code",
   "execution_count": null,
   "metadata": {
    "collapsed": true
   },
   "outputs": [],
   "source": [
    "run_test(fdb, metr_aggr, GradientBoostingClassifier(), trainset2)"
   ]
  },
  {
   "cell_type": "code",
   "execution_count": 8,
   "metadata": {
    "collapsed": false,
    "scrolled": true
   },
   "outputs": [
    {
     "name": "stdout",
     "output_type": "stream",
     "text": [
      "start\n",
      "Fit\n",
      "********** 2 isblank isblank\n",
      "********** 13 mq_send mq_send\n",
      "********** 31 sigaddset sigaddset\n",
      "********** 59 strdup strdup\n",
      "********** 70 adjtime adjtime\n",
      "********** 71 cfsetospeed cfsetospeed\n",
      "********** 81 execl execl\n",
      "********** 144 isalnum isalnum\n",
      "********** 155 dirname dirname\n",
      "********** 219 ctime ctime\n",
      "********** 253 isblank isblank\n",
      "********** 307 iconv_open iconv_open\n",
      "********** 340 flbf flbf\n",
      "********** 342 atoi atoi\n",
      "********** 361 mkfifo mkfifo\n",
      "********** 456 isalpha isalpha\n",
      "********** 484 sigdelset sigdelset\n",
      "********** 501 bsearch bsearch\n",
      "********** 520 getpriority getpriority\n",
      "********** 526 cfmakeraw cfmakeraw\n",
      "********** 535 getopt getopt\n",
      "********** 537 lockf lockf\n",
      "********** 549 wcswidth wcswidth\n",
      "********** 571 to64 to64\n",
      "24 of 596 0.0402684563758\n",
      "24 of 419 0.0572792362768\n",
      "23.8014822006\n"
     ]
    }
   ],
   "source": [
    "run_test(fdb, metr_aggr, RandomForestClassifier(n_estimators=15), trainset1)"
   ]
  },
  {
   "cell_type": "code",
   "execution_count": 5,
   "metadata": {
    "collapsed": false
   },
   "outputs": [
    {
     "name": "stdout",
     "output_type": "stream",
     "text": [
      "start\n",
      "Fit\n",
      "********** 2 isblank isblank\n",
      "********** 31 sigaddset sigaddset\n",
      "********** 59 strdup strdup\n",
      "********** 152 iconv_open iconv_open\n",
      "********** 158 mq_receive mq_receive\n",
      "********** 187 atoi atoi\n",
      "********** 206 mkfifo mkfifo\n",
      "********** 302 isalnum isalnum\n",
      "********** 313 dirname dirname\n",
      "********** 338 freadable freadable\n",
      "********** 358 atol atol\n",
      "********** 411 isblank isblank\n",
      "********** 436 iconv iconv\n",
      "********** 456 isalpha isalpha\n",
      "********** 484 sigdelset sigdelset\n",
      "********** 490 fgetpos fgetpos\n",
      "********** 501 bsearch bsearch\n",
      "********** 520 getpriority getpriority\n",
      "********** 526 cfmakeraw cfmakeraw\n",
      "********** 535 getopt getopt\n",
      "********** 537 lockf lockf\n",
      "********** 571 to64 to64\n",
      "22 of 596 0.0369127516779\n",
      "22 of 373 0.058981233244\n"
     ]
    }
   ],
   "source": [
    "run_test(fdb, metr_aggr, RandomForestClassifier(n_estimators=15), trainset2)"
   ]
  },
  {
   "cell_type": "code",
   "execution_count": 6,
   "metadata": {
    "collapsed": false
   },
   "outputs": [
    {
     "name": "stdout",
     "output_type": "stream",
     "text": [
      "start\n",
      "Fit\n",
      "********** 2 isblank isblank\n",
      "********** 13 mq_send mq_send\n",
      "********** 31 sigaddset sigaddset\n",
      "********** 59 strdup strdup\n",
      "********** 152 iconv_open iconv_open\n",
      "********** 187 atoi atoi\n",
      "********** 206 mkfifo mkfifo\n",
      "********** 302 isalnum isalnum\n",
      "********** 313 dirname dirname\n",
      "********** 319 md5crypt md5crypt\n",
      "********** 336 res_mkquery res_mkquery\n",
      "********** 411 isblank isblank\n",
      "********** 456 isalpha isalpha\n",
      "********** 484 sigdelset sigdelset\n",
      "********** 490 fgetpos fgetpos\n",
      "********** 501 bsearch bsearch\n",
      "********** 519 bzero bzero\n",
      "********** 520 getpriority getpriority\n",
      "********** 526 cfmakeraw cfmakeraw\n",
      "********** 535 getopt getopt\n",
      "********** 537 lockf lockf\n",
      "********** 548 mbsinit mbsinit\n",
      "********** 549 wcswidth wcswidth\n",
      "********** 550 wmemcpy wmemcpy\n",
      "********** 571 to64 to64\n",
      "25 of 596 0.0419463087248\n",
      "25 of 373 0.0670241286863\n"
     ]
    }
   ],
   "source": [
    "run_test(fdb, metr_aggr, RandomForestClassifier(n_estimators=16), trainset2)"
   ]
  },
  {
   "cell_type": "code",
   "execution_count": 7,
   "metadata": {
    "collapsed": false
   },
   "outputs": [
    {
     "name": "stdout",
     "output_type": "stream",
     "text": [
      "start\n",
      "Fit\n",
      "********** 2 isblank isblank\n",
      "********** 31 sigaddset sigaddset\n",
      "********** 59 strdup strdup\n",
      "********** 81 execl execl\n",
      "********** 144 opendir opendir\n",
      "********** 152 iconv_open iconv_open\n",
      "********** 173 sigemptyset sigemptyset\n",
      "********** 187 atoi atoi\n",
      "********** 206 mkfifo mkfifo\n",
      "********** 217 execlp execlp\n",
      "********** 302 isalnum isalnum\n",
      "********** 313 dirname dirname\n",
      "********** 338 freadable freadable\n",
      "********** 359 labs labs\n",
      "********** 379 execle execle\n",
      "********** 411 isblank isblank\n",
      "********** 436 iconv iconv\n",
      "********** 456 isalpha isalpha\n",
      "********** 484 sigdelset sigdelset\n",
      "********** 501 bsearch bsearch\n",
      "********** 526 cfmakeraw cfmakeraw\n",
      "********** 535 getopt getopt\n",
      "********** 549 wcswidth wcswidth\n",
      "********** 550 wmemcpy wmemcpy\n",
      "********** 571 to64 to64\n",
      "25 of 596 0.0419463087248\n",
      "25 of 373 0.0670241286863\n"
     ]
    }
   ],
   "source": [
    "run_test(fdb, metr_aggr, RandomForestClassifier(n_estimators=17), trainset2)"
   ]
  },
  {
   "cell_type": "code",
   "execution_count": 8,
   "metadata": {
    "collapsed": false
   },
   "outputs": [
    {
     "name": "stdout",
     "output_type": "stream",
     "text": [
      "start\n",
      "Fit\n",
      "********** 2 isblank isblank\n",
      "********** 31 sigaddset sigaddset\n",
      "********** 59 strdup strdup\n",
      "********** 81 execl execl\n",
      "********** 152 iconv_open iconv_open\n",
      "********** 206 mkfifo mkfifo\n",
      "********** 213 gmtime gmtime\n",
      "********** 302 isalnum isalnum\n",
      "********** 313 dirname dirname\n",
      "********** 349 putchar putchar\n",
      "********** 358 atol atol\n",
      "********** 411 isblank isblank\n",
      "********** 436 iconv iconv\n",
      "********** 456 isalpha isalpha\n",
      "********** 481 dn_skipname dn_skipname\n",
      "********** 484 sigdelset sigdelset\n",
      "********** 490 fgetpos fgetpos\n",
      "********** 501 bsearch bsearch\n",
      "********** 520 getpriority getpriority\n",
      "********** 526 cfmakeraw cfmakeraw\n",
      "********** 535 getopt getopt\n",
      "********** 537 lockf lockf\n",
      "********** 548 mbsinit mbsinit\n",
      "********** 549 wcswidth wcswidth\n",
      "********** 550 wmemcpy wmemcpy\n",
      "********** 571 to64 to64\n",
      "26 of 596 0.0436241610738\n",
      "26 of 373 0.0697050938338\n"
     ]
    }
   ],
   "source": [
    "run_test(fdb, metr_aggr, RandomForestClassifier(n_estimators=18), trainset2)"
   ]
  },
  {
   "cell_type": "code",
   "execution_count": 9,
   "metadata": {
    "collapsed": false
   },
   "outputs": [
    {
     "name": "stdout",
     "output_type": "stream",
     "text": [
      "start\n",
      "Fit\n",
      "********** 2 isblank isblank\n",
      "********** 31 sigaddset sigaddset\n",
      "********** 59 strdup strdup\n",
      "********** 82 get_current_dir_name get_current_dir_name\n",
      "********** 152 iconv_open iconv_open\n",
      "********** 206 mkfifo mkfifo\n",
      "********** 302 isalnum isalnum\n",
      "********** 313 dirname dirname\n",
      "********** 359 labs labs\n",
      "********** 379 execle execle\n",
      "********** 411 isblank isblank\n",
      "********** 456 isalpha isalpha\n",
      "********** 481 dn_skipname dn_skipname\n",
      "********** 484 sigdelset sigdelset\n",
      "********** 501 bsearch bsearch\n",
      "********** 526 cfmakeraw cfmakeraw\n",
      "********** 535 getopt getopt\n",
      "********** 537 lockf lockf\n",
      "********** 548 mbsinit mbsinit\n",
      "********** 549 wcswidth wcswidth\n",
      "********** 571 to64 to64\n",
      "21 of 596 0.0352348993289\n",
      "21 of 373 0.0563002680965\n"
     ]
    }
   ],
   "source": [
    "run_test(fdb, metr_aggr, RandomForestClassifier(n_estimators=19), trainset2)"
   ]
  },
  {
   "cell_type": "code",
   "execution_count": 10,
   "metadata": {
    "collapsed": false
   },
   "outputs": [
    {
     "name": "stdout",
     "output_type": "stream",
     "text": [
      "start\n",
      "Fit\n",
      "********** 2 isblank isblank\n",
      "********** 31 sigaddset sigaddset\n",
      "********** 59 strdup strdup\n",
      "********** 152 iconv_open iconv_open\n",
      "********** 180 fwritable fwritable\n",
      "********** 206 mkfifo mkfifo\n",
      "********** 217 execlp execlp\n",
      "********** 302 isalnum isalnum\n",
      "********** 313 dirname dirname\n",
      "********** 319 md5crypt md5crypt\n",
      "********** 336 res_mkquery res_mkquery\n",
      "********** 355 abs abs\n",
      "********** 358 atol atol\n",
      "********** 379 execle execle\n",
      "********** 411 isblank isblank\n",
      "********** 436 iconv iconv\n",
      "********** 456 isalpha isalpha\n",
      "********** 484 sigdelset sigdelset\n",
      "********** 501 bsearch bsearch\n",
      "********** 526 cfmakeraw cfmakeraw\n",
      "********** 537 lockf lockf\n",
      "********** 571 to64 to64\n",
      "22 of 596 0.0369127516779\n",
      "22 of 373 0.058981233244\n"
     ]
    }
   ],
   "source": [
    "run_test(fdb, metr_aggr, RandomForestClassifier(n_estimators=20), trainset2)"
   ]
  },
  {
   "cell_type": "code",
   "execution_count": 9,
   "metadata": {
    "collapsed": false,
    "scrolled": true
   },
   "outputs": [
    {
     "name": "stdout",
     "output_type": "stream",
     "text": [
      "start\n",
      "Fit\n",
      "********** 200 atol atol\n",
      "********** 201 labs labs\n",
      "********** 219 ctime ctime\n",
      "********** 456 isalpha isalpha\n",
      "********** 532 strptime strptime\n",
      "5 of 596 0.00838926174497\n",
      "5 of 419 0.0119331742243\n",
      "10.5274610519\n"
     ]
    }
   ],
   "source": [
    "run_test(fdb, metr_aggr, BaggingClassifier(KNeighborsClassifier()), trainset1)"
   ]
  },
  {
   "cell_type": "code",
   "execution_count": 13,
   "metadata": {
    "collapsed": false
   },
   "outputs": [
    {
     "name": "stdout",
     "output_type": "stream",
     "text": [
      "start\n",
      "Fit\n",
      "********** 122 ldiv ldiv\n",
      "********** 185 flbf flbf\n",
      "********** 490 fgetpos fgetpos\n",
      "********** 523 fstatvfs fstatvfs\n",
      "4 of 596 0.00671140939597\n",
      "4 of 373 0.0107238605898\n"
     ]
    }
   ],
   "source": [
    "run_test(fdb, metr_aggr, BaggingClassifier(KNeighborsClassifier()), trainset2)"
   ]
  },
  {
   "cell_type": "code",
   "execution_count": null,
   "metadata": {
    "collapsed": true
   },
   "outputs": [],
   "source": []
  }
 ],
 "metadata": {
  "kernelspec": {
   "display_name": "Python 2",
   "language": "python",
   "name": "python2"
  },
  "language_info": {
   "codemirror_mode": {
    "name": "ipython",
    "version": 2
   },
   "file_extension": ".py",
   "mimetype": "text/x-python",
   "name": "python",
   "nbconvert_exporter": "python",
   "pygments_lexer": "ipython2",
   "version": "2.7.9"
  }
 },
 "nbformat": 4,
 "nbformat_minor": 0
}
