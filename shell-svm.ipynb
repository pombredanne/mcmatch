{
 "cells": [
  {
   "cell_type": "code",
   "execution_count": 2,
   "metadata": {
    "collapsed": false
   },
   "outputs": [],
   "source": [
    "%matplotlib inline\n",
    "from sklearn.neighbors import NearestNeighbors, KDTree\n",
    "\n",
    "from mcmatch import cluster\n",
    "from mcmatch.db.pg_database import PgFunDB\n",
    "from mcmatch.util import extract_funname, signature_to_fname_heuristic\n",
    "from mcmatch.metric.counter import counter_metrics\n",
    "from mcmatch.metric import all_metrics\n",
    "from mcmatch.metric.aggregator import MetricAggregator\n",
    "from sklearn import preprocessing\n",
    "import pprint\n",
    "import matplotlib.pyplot as plt\n",
    "\n",
    "metr_aggr = MetricAggregator([all_metrics[m] for m in all_metrics])\n",
    "\n",
    "fdb = PgFunDB()\n"
   ]
  },
  {
   "cell_type": "code",
   "execution_count": null,
   "metadata": {
    "collapsed": false
   },
   "outputs": [],
   "source": []
  },
  {
   "cell_type": "code",
   "execution_count": 3,
   "metadata": {
    "collapsed": false
   },
   "outputs": [],
   "source": [
    "def print_analysis(predictions, test_fun_fids, fid_names):\n",
    "    good = 0\n",
    "    nf = 0\n",
    "    f = 0\n",
    "    for i, v in enumerate(predictions):\n",
    "        #if v == 'i2a' or v == 'dummy':\n",
    "        #    continue\n",
    "        fb = signature_to_fname_heuristic(test_fun_fids[i][1])\n",
    "        if v == fb:\n",
    "            good += 1\n",
    "            print \"**********\", i, v, fb\n",
    "        elif fb not in fid_names:\n",
    "            nf += 1\n",
    "            #print \"!!\", fb, \"not in fid_names\"\n",
    "        #print i, v, fb\n",
    "    \n",
    "    print good, \"of\", len(predictions), float(good)/len(predictions)\n",
    "    if nf != len(predictions):\n",
    "        print good, \"of\", len(predictions)-nf, float(good)/(len(predictions)-nf)"
   ]
  },
  {
   "cell_type": "code",
   "execution_count": 4,
   "metadata": {
    "collapsed": true
   },
   "outputs": [],
   "source": [
    "def run_test(fdb, metr_aggr, clf, trainset, transformMode=0):\n",
    "    print \"start\"\n",
    "    fids, train_data = fdb.get_metrics_np(metr_aggr, in_repositories=trainset)\n",
    "    ppl = cluster.TransformPipeline(transformMode)\n",
    "    train_data = ppl.transform_trainingset(train_data)\n",
    "    fid_names = map(lambda z: signature_to_fname_heuristic(z[1]), fids)\n",
    "    print \"Fit\"\n",
    "    clf.fit(train_data, fid_names)\n",
    "    del train_data\n",
    "    test_fun_fids, test_fun_data = fdb.get_metrics_np(metr_aggr, in_repositories=['t-dietlibc'])\n",
    "    test_fun_data = ppl.transform_testset(test_fun_data)\n",
    "    predictions = clf.predict(test_fun_data)\n",
    "    print_analysis(predictions, test_fun_fids, fid_names)\n"
   ]
  },
  {
   "cell_type": "code",
   "execution_count": 5,
   "metadata": {
    "collapsed": false
   },
   "outputs": [],
   "source": [
    "trainset1 = ['glibc', 'musl-1.1.6']\n",
    "trainset2 = ['musl-1.1.6']\n",
    "#trainset = ['glibc']\n",
    "\n",
    "from sklearn import svm\n",
    "from sklearn import tree\n",
    "from sklearn import ensemble\n",
    "from sklearn.naive_bayes import GaussianNB, MultinomialNB, BernoulliNB\n",
    "from sklearn.ensemble import AdaBoostClassifier, BaggingClassifier, ExtraTreesClassifier, GradientBoostingClassifier, RandomForestClassifier\n",
    "from sklearn.neighbors import KNeighborsClassifier\n"
   ]
  },
  {
   "cell_type": "code",
   "execution_count": 82,
   "metadata": {
    "collapsed": false
   },
   "outputs": [
    {
     "name": "stdout",
     "output_type": "stream",
     "text": [
      "********** 78 ctime_r ctime_r\n",
      "********** 187 atoi atoi\n",
      "********** 308 getopt_long getopt_long\n",
      "3 of 596 0.00503355704698\n",
      "3 of 419 0.00715990453461\n"
     ]
    }
   ],
   "source": [
    "run_test(fdb, metr_aggr, svm.SVC(), trainset1)"
   ]
  },
  {
   "cell_type": "code",
   "execution_count": null,
   "metadata": {
    "collapsed": false
   },
   "outputs": [
    {
     "name": "stdout",
     "output_type": "stream",
     "text": [
      "********** 187 atoi atoi\n",
      "1 of 596 0.00167785234899\n",
      "1 of 373 0.00268096514745\n"
     ]
    }
   ],
   "source": [
    "run_test(fdb, metr_aggr, svm.SVC(), trainset2)"
   ]
  },
  {
   "cell_type": "code",
   "execution_count": 7,
   "metadata": {
    "collapsed": false
   },
   "outputs": [
    {
     "name": "stdout",
     "output_type": "stream",
     "text": [
      "start\n",
      "Fit\n",
      "********** 82 get_current_dir_name get_current_dir_name\n",
      "********** 217 execlp execlp\n",
      "********** 302 isalnum isalnum\n",
      "********** 481 dn_skipname dn_skipname\n",
      "********** 484 sigdelset sigdelset\n",
      "********** 520 getpriority getpriority\n",
      "********** 524 ftime ftime\n",
      "********** 526 cfmakeraw cfmakeraw\n",
      "********** 535 getopt getopt\n",
      "********** 537 lockf lockf\n",
      "********** 571 to64 to64\n",
      "11 of 596 0.0184563758389\n",
      "11 of 419 0.0262529832936\n"
     ]
    }
   ],
   "source": [
    "run_test(fdb, metr_aggr, svm.LinearSVC(), trainset1, 1)"
   ]
  },
  {
   "cell_type": "code",
   "execution_count": 5,
   "metadata": {
    "collapsed": false
   },
   "outputs": [
    {
     "name": "stdout",
     "output_type": "stream",
     "text": [
      "start\n",
      "Fit\n",
      "********** 187 atoi atoi\n",
      "********** 225 usleep usleep\n",
      "********** 232 wcscpy wcscpy\n",
      "********** 302 isalnum isalnum\n",
      "********** 456 isalpha isalpha\n",
      "********** 476 getservbyport getservbyport\n",
      "********** 520 getpriority getpriority\n",
      "********** 526 cfmakeraw cfmakeraw\n",
      "8 of 596 0.0134228187919\n",
      "8 of 373 0.0214477211796\n"
     ]
    }
   ],
   "source": [
    "run_test(fdb, metr_aggr, svm.LinearSVC(), trainset2)"
   ]
  },
  {
   "cell_type": "code",
   "execution_count": 6,
   "metadata": {
    "collapsed": false
   },
   "outputs": [
    {
     "name": "stdout",
     "output_type": "stream",
     "text": [
      "start\n",
      "Fit\n",
      "********** 33 siginterrupt siginterrupt\n",
      "********** 81 execl execl\n",
      "********** 82 get_current_dir_name get_current_dir_name\n",
      "********** 225 usleep usleep\n",
      "********** 302 isalnum isalnum\n",
      "********** 481 dn_skipname dn_skipname\n",
      "********** 520 getpriority getpriority\n",
      "********** 524 ftime ftime\n",
      "********** 535 getopt getopt\n",
      "********** 537 lockf lockf\n",
      "********** 571 to64 to64\n",
      "11 of 596 0.0184563758389\n",
      "11 of 373 0.029490616622\n"
     ]
    }
   ],
   "source": [
    "run_test(fdb, metr_aggr, svm.LinearSVC(), trainset2, 1)"
   ]
  },
  {
   "cell_type": "code",
   "execution_count": 5,
   "metadata": {
    "collapsed": false
   },
   "outputs": [
    {
     "name": "stdout",
     "output_type": "stream",
     "text": [
      "start\n",
      "Fit\n",
      "********** 225 usleep usleep\n",
      "********** 308 getopt_long getopt_long\n",
      "********** 501 bsearch bsearch\n",
      "3 of 596 0.00503355704698\n",
      "3 of 373 0.00804289544236\n"
     ]
    }
   ],
   "source": [
    "run_test(fdb, metr_aggr, svm.SVC(), trainset2, 1)"
   ]
  },
  {
   "cell_type": "code",
   "execution_count": 6,
   "metadata": {
    "collapsed": false
   },
   "outputs": [
    {
     "name": "stdout",
     "output_type": "stream",
     "text": [
      "start\n",
      "Fit\n",
      "********** 225 usleep usleep\n",
      "********** 308 getopt_long getopt_long\n",
      "********** 459 fdopendir fdopendir\n",
      "********** 501 bsearch bsearch\n",
      "4 of 596 0.00671140939597\n",
      "4 of 419 0.00954653937947\n"
     ]
    }
   ],
   "source": [
    "run_test(fdb, metr_aggr, svm.SVC(), trainset1, 1)"
   ]
  },
  {
   "cell_type": "code",
   "execution_count": null,
   "metadata": {
    "collapsed": true
   },
   "outputs": [],
   "source": [
    "run_test(fdb, metr_aggr, svm.LinearSVC(), trainset2, 1)"
   ]
  },
  {
   "cell_type": "code",
   "execution_count": null,
   "metadata": {
    "collapsed": true
   },
   "outputs": [],
   "source": [
    "run_test(fdb, metr_aggr, svm.LinearSVC(), trainset1, 1)"
   ]
  },
  {
   "cell_type": "code",
   "execution_count": 6,
   "metadata": {
    "collapsed": false
   },
   "outputs": [
    {
     "name": "stdout",
     "output_type": "stream",
     "text": [
      "start\n",
      "Fit\n",
      "********** 78 ctime_r ctime_r\n",
      "********** 187 atoi atoi\n",
      "********** 308 getopt_long getopt_long\n",
      "3 of 596 0.00503355704698\n",
      "3 of 419 0.00715990453461\n"
     ]
    }
   ],
   "source": [
    "run_test(fdb, metr_aggr, svm.SVC(), trainset1, 2)"
   ]
  },
  {
   "cell_type": "code",
   "execution_count": 7,
   "metadata": {
    "collapsed": false
   },
   "outputs": [
    {
     "name": "stdout",
     "output_type": "stream",
     "text": [
      "start\n",
      "Fit\n",
      "********** 187 atoi atoi\n",
      "1 of 596 0.00167785234899\n",
      "1 of 373 0.00268096514745\n"
     ]
    }
   ],
   "source": [
    "run_test(fdb, metr_aggr, svm.SVC(), trainset2, 2)"
   ]
  },
  {
   "cell_type": "code",
   "execution_count": 8,
   "metadata": {
    "collapsed": false
   },
   "outputs": [
    {
     "name": "stdout",
     "output_type": "stream",
     "text": [
      "start\n",
      "Fit\n",
      "********** 2 isblank isblank\n",
      "********** 58 memrchr memrchr\n",
      "********** 81 execl execl\n",
      "********** 82 get_current_dir_name get_current_dir_name\n",
      "********** 152 iconv_open iconv_open\n",
      "********** 185 flbf flbf\n",
      "********** 187 atoi atoi\n",
      "********** 206 mkfifo mkfifo\n",
      "********** 302 isalnum isalnum\n",
      "********** 319 md5crypt md5crypt\n",
      "********** 355 abs abs\n",
      "********** 379 execle execle\n",
      "********** 411 isblank isblank\n",
      "********** 456 isalpha isalpha\n",
      "********** 526 cfmakeraw cfmakeraw\n",
      "********** 550 wmemcpy wmemcpy\n",
      "16 of 596 0.0268456375839\n",
      "16 of 373 0.0428954423592\n"
     ]
    }
   ],
   "source": [
    "run_test(fdb, metr_aggr, tree.DecisionTreeClassifier(criterion=\"gini\"), trainset2)"
   ]
  },
  {
   "cell_type": "code",
   "execution_count": 9,
   "metadata": {
    "collapsed": false
   },
   "outputs": [
    {
     "name": "stdout",
     "output_type": "stream",
     "text": [
      "start\n",
      "Fit\n",
      "********** 2 isblank isblank\n",
      "********** 58 memrchr memrchr\n",
      "********** 81 execl execl\n",
      "********** 82 get_current_dir_name get_current_dir_name\n",
      "********** 152 iconv_open iconv_open\n",
      "********** 185 flbf flbf\n",
      "********** 187 atoi atoi\n",
      "********** 206 mkfifo mkfifo\n",
      "********** 302 isalnum isalnum\n",
      "********** 319 md5crypt md5crypt\n",
      "********** 355 abs abs\n",
      "********** 411 isblank isblank\n",
      "********** 456 isalpha isalpha\n",
      "********** 526 cfmakeraw cfmakeraw\n",
      "********** 550 wmemcpy wmemcpy\n",
      "15 of 596 0.0251677852349\n",
      "15 of 373 0.0402144772118\n"
     ]
    }
   ],
   "source": [
    "run_test(fdb, metr_aggr, tree.DecisionTreeClassifier(criterion=\"gini\"), trainset2, 1)"
   ]
  },
  {
   "cell_type": "code",
   "execution_count": 10,
   "metadata": {
    "collapsed": false
   },
   "outputs": [
    {
     "name": "stdout",
     "output_type": "stream",
     "text": [
      "start\n",
      "Fit\n",
      "********** 2 isblank isblank\n",
      "********** 59 strdup strdup\n",
      "********** 185 flbf flbf\n",
      "********** 206 mkfifo mkfifo\n",
      "********** 302 isalnum isalnum\n",
      "********** 313 dirname dirname\n",
      "********** 355 abs abs\n",
      "********** 358 atol atol\n",
      "********** 379 execle execle\n",
      "********** 411 isblank isblank\n",
      "********** 456 isalpha isalpha\n",
      "********** 490 fgetpos fgetpos\n",
      "********** 501 bsearch bsearch\n",
      "********** 526 cfmakeraw cfmakeraw\n",
      "********** 537 lockf lockf\n",
      "********** 550 wmemcpy wmemcpy\n",
      "********** 571 to64 to64\n",
      "17 of 596 0.0285234899329\n",
      "17 of 419 0.0405727923628\n"
     ]
    }
   ],
   "source": [
    "run_test(fdb, metr_aggr, tree.DecisionTreeClassifier(criterion=\"gini\"), trainset1)"
   ]
  },
  {
   "cell_type": "code",
   "execution_count": 11,
   "metadata": {
    "collapsed": false
   },
   "outputs": [
    {
     "name": "stdout",
     "output_type": "stream",
     "text": [
      "start\n",
      "Fit\n",
      "********** 2 isblank isblank\n",
      "********** 59 strdup strdup\n",
      "********** 185 flbf flbf\n",
      "********** 206 mkfifo mkfifo\n",
      "********** 302 isalnum isalnum\n",
      "********** 313 dirname dirname\n",
      "********** 355 abs abs\n",
      "********** 358 atol atol\n",
      "********** 379 execle execle\n",
      "********** 411 isblank isblank\n",
      "********** 456 isalpha isalpha\n",
      "********** 490 fgetpos fgetpos\n",
      "********** 501 bsearch bsearch\n",
      "********** 520 getpriority getpriority\n",
      "********** 526 cfmakeraw cfmakeraw\n",
      "********** 537 lockf lockf\n",
      "********** 571 to64 to64\n",
      "17 of 596 0.0285234899329\n",
      "17 of 419 0.0405727923628\n"
     ]
    }
   ],
   "source": [
    "run_test(fdb, metr_aggr, tree.DecisionTreeClassifier(criterion=\"gini\"), trainset1, 1)"
   ]
  },
  {
   "cell_type": "code",
   "execution_count": 12,
   "metadata": {
    "collapsed": false
   },
   "outputs": [
    {
     "name": "stdout",
     "output_type": "stream",
     "text": [
      "start\n",
      "Fit\n",
      "********** 2 isblank isblank\n",
      "********** 20 getprotobynumber getprotobynumber\n",
      "********** 58 memrchr memrchr\n",
      "********** 185 flbf flbf\n",
      "********** 206 mkfifo mkfifo\n",
      "********** 302 isalnum isalnum\n",
      "********** 313 dirname dirname\n",
      "********** 355 abs abs\n",
      "********** 411 isblank isblank\n",
      "********** 456 isalpha isalpha\n",
      "********** 526 cfmakeraw cfmakeraw\n",
      "********** 532 strptime strptime\n",
      "********** 535 getopt getopt\n",
      "********** 548 mbsinit mbsinit\n",
      "14 of 596 0.0234899328859\n",
      "14 of 373 0.0375335120643\n"
     ]
    }
   ],
   "source": [
    "run_test(fdb, metr_aggr, tree.DecisionTreeClassifier(criterion=\"entropy\"), trainset2)"
   ]
  },
  {
   "cell_type": "code",
   "execution_count": 13,
   "metadata": {
    "collapsed": false
   },
   "outputs": [
    {
     "name": "stdout",
     "output_type": "stream",
     "text": [
      "start\n",
      "Fit\n",
      "********** 2 isblank isblank\n",
      "********** 58 memrchr memrchr\n",
      "********** 185 flbf flbf\n",
      "********** 206 mkfifo mkfifo\n",
      "********** 236 wmemset wmemset\n",
      "********** 302 isalnum isalnum\n",
      "********** 319 md5crypt md5crypt\n",
      "********** 355 abs abs\n",
      "********** 411 isblank isblank\n",
      "********** 456 isalpha isalpha\n",
      "********** 526 cfmakeraw cfmakeraw\n",
      "********** 532 strptime strptime\n",
      "********** 535 getopt getopt\n",
      "********** 548 mbsinit mbsinit\n",
      "********** 571 to64 to64\n",
      "15 of 596 0.0251677852349\n",
      "15 of 373 0.0402144772118\n"
     ]
    }
   ],
   "source": [
    "run_test(fdb, metr_aggr, tree.DecisionTreeClassifier(criterion=\"entropy\"), trainset2, 1)"
   ]
  },
  {
   "cell_type": "code",
   "execution_count": 14,
   "metadata": {
    "collapsed": false
   },
   "outputs": [
    {
     "name": "stdout",
     "output_type": "stream",
     "text": [
      "start\n",
      "Fit\n",
      "********** 2 isblank isblank\n",
      "********** 58 memrchr memrchr\n",
      "********** 59 strdup strdup\n",
      "********** 185 flbf flbf\n",
      "********** 206 mkfifo mkfifo\n",
      "********** 302 isalnum isalnum\n",
      "********** 313 dirname dirname\n",
      "********** 319 md5crypt md5crypt\n",
      "********** 355 abs abs\n",
      "********** 382 getusershell getusershell\n",
      "********** 411 isblank isblank\n",
      "********** 456 isalpha isalpha\n",
      "********** 526 cfmakeraw cfmakeraw\n",
      "********** 532 strptime strptime\n",
      "********** 571 to64 to64\n",
      "15 of 596 0.0251677852349\n",
      "15 of 419 0.035799522673\n"
     ]
    }
   ],
   "source": [
    "run_test(fdb, metr_aggr, tree.DecisionTreeClassifier(criterion=\"entropy\"), trainset1)"
   ]
  },
  {
   "cell_type": "code",
   "execution_count": 15,
   "metadata": {
    "collapsed": false
   },
   "outputs": [
    {
     "name": "stdout",
     "output_type": "stream",
     "text": [
      "start\n",
      "Fit\n",
      "********** 2 isblank isblank\n",
      "********** 58 memrchr memrchr\n",
      "********** 59 strdup strdup\n",
      "********** 185 flbf flbf\n",
      "********** 206 mkfifo mkfifo\n",
      "********** 236 wmemset wmemset\n",
      "********** 302 isalnum isalnum\n",
      "********** 313 dirname dirname\n",
      "********** 319 md5crypt md5crypt\n",
      "********** 336 res_mkquery res_mkquery\n",
      "********** 355 abs abs\n",
      "********** 411 isblank isblank\n",
      "********** 456 isalpha isalpha\n",
      "********** 526 cfmakeraw cfmakeraw\n",
      "********** 571 to64 to64\n",
      "15 of 596 0.0251677852349\n",
      "15 of 419 0.035799522673\n"
     ]
    }
   ],
   "source": [
    "run_test(fdb, metr_aggr, tree.DecisionTreeClassifier(criterion=\"entropy\"), trainset1, 1)"
   ]
  },
  {
   "cell_type": "code",
   "execution_count": null,
   "metadata": {
    "collapsed": true
   },
   "outputs": [],
   "source": []
  },
  {
   "cell_type": "code",
   "execution_count": 18,
   "metadata": {
    "collapsed": false
   },
   "outputs": [
    {
     "name": "stdout",
     "output_type": "stream",
     "text": [
      "start\n",
      "Fit\n",
      "********** 2 isblank isblank\n",
      "********** 31 sigaddset sigaddset\n",
      "********** 43 vasprintf vasprintf\n",
      "********** 152 iconv_open iconv_open\n",
      "********** 185 flbf flbf\n",
      "********** 187 atoi atoi\n",
      "********** 206 mkfifo mkfifo\n",
      "********** 217 execlp execlp\n",
      "********** 302 isalnum isalnum\n",
      "********** 313 dirname dirname\n",
      "********** 411 isblank isblank\n",
      "********** 456 isalpha isalpha\n",
      "********** 458 dirfd dirfd\n",
      "********** 484 sigdelset sigdelset\n",
      "********** 490 fgetpos fgetpos\n",
      "********** 501 bsearch bsearch\n",
      "********** 520 getpriority getpriority\n",
      "********** 526 cfmakeraw cfmakeraw\n",
      "********** 535 getopt getopt\n",
      "********** 537 lockf lockf\n",
      "********** 548 mbsinit mbsinit\n",
      "********** 571 to64 to64\n",
      "22 of 596 0.0369127516779\n",
      "22 of 419 0.0525059665871\n"
     ]
    }
   ],
   "source": [
    "run_test(fdb, metr_aggr, RandomForestClassifier(), trainset1)"
   ]
  },
  {
   "cell_type": "code",
   "execution_count": 19,
   "metadata": {
    "collapsed": false
   },
   "outputs": [
    {
     "name": "stdout",
     "output_type": "stream",
     "text": [
      "start\n",
      "Fit\n",
      "********** 2 isblank isblank\n",
      "********** 31 sigaddset sigaddset\n",
      "********** 59 strdup strdup\n",
      "********** 187 atoi atoi\n",
      "********** 206 mkfifo mkfifo\n",
      "********** 302 isalnum isalnum\n",
      "********** 313 dirname dirname\n",
      "********** 379 execle execle\n",
      "********** 411 isblank isblank\n",
      "********** 436 iconv iconv\n",
      "********** 456 isalpha isalpha\n",
      "********** 481 dn_skipname dn_skipname\n",
      "********** 484 sigdelset sigdelset\n",
      "********** 501 bsearch bsearch\n",
      "********** 520 getpriority getpriority\n",
      "********** 526 cfmakeraw cfmakeraw\n",
      "********** 535 getopt getopt\n",
      "********** 537 lockf lockf\n",
      "********** 548 mbsinit mbsinit\n",
      "19 of 596 0.0318791946309\n",
      "19 of 373 0.0509383378016\n"
     ]
    }
   ],
   "source": [
    "run_test(fdb, metr_aggr, RandomForestClassifier(), trainset2)"
   ]
  },
  {
   "cell_type": "code",
   "execution_count": 6,
   "metadata": {
    "collapsed": false
   },
   "outputs": [
    {
     "name": "stdout",
     "output_type": "stream",
     "text": [
      "start\n",
      "Fit\n",
      "0 of 596 0.0\n",
      "0 of 419 0.0\n"
     ]
    }
   ],
   "source": [
    "run_test(fdb, metr_aggr, AdaBoostClassifier(n_estimators=100), trainset1)"
   ]
  },
  {
   "cell_type": "code",
   "execution_count": 7,
   "metadata": {
    "collapsed": false
   },
   "outputs": [
    {
     "name": "stdout",
     "output_type": "stream",
     "text": [
      "start\n",
      "Fit\n"
     ]
    },
    {
     "ename": "KeyboardInterrupt",
     "evalue": "",
     "output_type": "error",
     "traceback": [
      "\u001b[1;31m---------------------------------------------------------------------------\u001b[0m",
      "\u001b[1;31mKeyboardInterrupt\u001b[0m                         Traceback (most recent call last)",
      "\u001b[1;32m<ipython-input-7-7d0f3fd1ef85>\u001b[0m in \u001b[0;36m<module>\u001b[1;34m()\u001b[0m\n\u001b[0;32m      1\u001b[0m \u001b[1;33m\u001b[0m\u001b[0m\n\u001b[1;32m----> 2\u001b[1;33m \u001b[0mrun_test\u001b[0m\u001b[1;33m(\u001b[0m\u001b[0mfdb\u001b[0m\u001b[1;33m,\u001b[0m \u001b[0mmetr_aggr\u001b[0m\u001b[1;33m,\u001b[0m \u001b[0mGradientBoostingClassifier\u001b[0m\u001b[1;33m(\u001b[0m\u001b[1;33m)\u001b[0m\u001b[1;33m,\u001b[0m \u001b[0mtrainset1\u001b[0m\u001b[1;33m)\u001b[0m\u001b[1;33m\u001b[0m\u001b[0m\n\u001b[0m",
      "\u001b[1;32m<ipython-input-4-1b3de497a996>\u001b[0m in \u001b[0;36mrun_test\u001b[1;34m(fdb, metr_aggr, clf, trainset, transformMode)\u001b[0m\n\u001b[0;32m      6\u001b[0m     \u001b[0mfid_names\u001b[0m \u001b[1;33m=\u001b[0m \u001b[0mmap\u001b[0m\u001b[1;33m(\u001b[0m\u001b[1;32mlambda\u001b[0m \u001b[0mz\u001b[0m\u001b[1;33m:\u001b[0m \u001b[0msignature_to_fname_heuristic\u001b[0m\u001b[1;33m(\u001b[0m\u001b[0mz\u001b[0m\u001b[1;33m[\u001b[0m\u001b[1;36m1\u001b[0m\u001b[1;33m]\u001b[0m\u001b[1;33m)\u001b[0m\u001b[1;33m,\u001b[0m \u001b[0mfids\u001b[0m\u001b[1;33m)\u001b[0m\u001b[1;33m\u001b[0m\u001b[0m\n\u001b[0;32m      7\u001b[0m     \u001b[1;32mprint\u001b[0m \u001b[1;34m\"Fit\"\u001b[0m\u001b[1;33m\u001b[0m\u001b[0m\n\u001b[1;32m----> 8\u001b[1;33m     \u001b[0mclf\u001b[0m\u001b[1;33m.\u001b[0m\u001b[0mfit\u001b[0m\u001b[1;33m(\u001b[0m\u001b[0mtrain_data\u001b[0m\u001b[1;33m,\u001b[0m \u001b[0mfid_names\u001b[0m\u001b[1;33m)\u001b[0m\u001b[1;33m\u001b[0m\u001b[0m\n\u001b[0m\u001b[0;32m      9\u001b[0m     \u001b[1;32mdel\u001b[0m \u001b[0mtrain_data\u001b[0m\u001b[1;33m\u001b[0m\u001b[0m\n\u001b[0;32m     10\u001b[0m     \u001b[0mtest_fun_fids\u001b[0m\u001b[1;33m,\u001b[0m \u001b[0mtest_fun_data\u001b[0m \u001b[1;33m=\u001b[0m \u001b[0mfdb\u001b[0m\u001b[1;33m.\u001b[0m\u001b[0mget_metrics_np\u001b[0m\u001b[1;33m(\u001b[0m\u001b[0mmetr_aggr\u001b[0m\u001b[1;33m,\u001b[0m \u001b[0min_repositories\u001b[0m\u001b[1;33m=\u001b[0m\u001b[1;33m[\u001b[0m\u001b[1;34m't-dietlibc'\u001b[0m\u001b[1;33m]\u001b[0m\u001b[1;33m)\u001b[0m\u001b[1;33m\u001b[0m\u001b[0m\n",
      "\u001b[1;32m/usr/lib/python2.7/site-packages/sklearn/ensemble/gradient_boosting.pyc\u001b[0m in \u001b[0;36mfit\u001b[1;34m(self, X, y, sample_weight, monitor)\u001b[0m\n\u001b[0;32m    978\u001b[0m         \u001b[1;31m# fit the boosting stages\u001b[0m\u001b[1;33m\u001b[0m\u001b[1;33m\u001b[0m\u001b[0m\n\u001b[0;32m    979\u001b[0m         n_stages = self._fit_stages(X, y, y_pred, sample_weight, random_state,\n\u001b[1;32m--> 980\u001b[1;33m                                     begin_at_stage, monitor)\n\u001b[0m\u001b[0;32m    981\u001b[0m         \u001b[1;31m# change shape of arrays after fit (early-stopping or additional ests)\u001b[0m\u001b[1;33m\u001b[0m\u001b[1;33m\u001b[0m\u001b[0m\n\u001b[0;32m    982\u001b[0m         \u001b[1;32mif\u001b[0m \u001b[0mn_stages\u001b[0m \u001b[1;33m!=\u001b[0m \u001b[0mself\u001b[0m\u001b[1;33m.\u001b[0m\u001b[0mestimators_\u001b[0m\u001b[1;33m.\u001b[0m\u001b[0mshape\u001b[0m\u001b[1;33m[\u001b[0m\u001b[1;36m0\u001b[0m\u001b[1;33m]\u001b[0m\u001b[1;33m:\u001b[0m\u001b[1;33m\u001b[0m\u001b[0m\n",
      "\u001b[1;32m/usr/lib/python2.7/site-packages/sklearn/ensemble/gradient_boosting.pyc\u001b[0m in \u001b[0;36m_fit_stages\u001b[1;34m(self, X, y, y_pred, sample_weight, random_state, begin_at_stage, monitor)\u001b[0m\n\u001b[0;32m   1038\u001b[0m             y_pred = self._fit_stage(i, X, y, y_pred, sample_weight,\n\u001b[0;32m   1039\u001b[0m                                      \u001b[0msample_mask\u001b[0m\u001b[1;33m,\u001b[0m \u001b[0mcriterion\u001b[0m\u001b[1;33m,\u001b[0m \u001b[0msplitter\u001b[0m\u001b[1;33m,\u001b[0m\u001b[1;33m\u001b[0m\u001b[0m\n\u001b[1;32m-> 1040\u001b[1;33m                                      random_state)\n\u001b[0m\u001b[0;32m   1041\u001b[0m \u001b[1;33m\u001b[0m\u001b[0m\n\u001b[0;32m   1042\u001b[0m             \u001b[1;31m# track deviance (= loss)\u001b[0m\u001b[1;33m\u001b[0m\u001b[1;33m\u001b[0m\u001b[0m\n",
      "\u001b[1;32m/usr/lib/python2.7/site-packages/sklearn/ensemble/gradient_boosting.pyc\u001b[0m in \u001b[0;36m_fit_stage\u001b[1;34m(self, i, X, y, y_pred, sample_weight, sample_mask, criterion, splitter, random_state)\u001b[0m\n\u001b[0;32m    745\u001b[0m \u001b[1;33m\u001b[0m\u001b[0m\n\u001b[0;32m    746\u001b[0m             residual = loss.negative_gradient(y, y_pred, k=k,\n\u001b[1;32m--> 747\u001b[1;33m                                               sample_weight=sample_weight)\n\u001b[0m\u001b[0;32m    748\u001b[0m \u001b[1;33m\u001b[0m\u001b[0m\n\u001b[0;32m    749\u001b[0m             \u001b[1;31m# induce regression tree on residuals\u001b[0m\u001b[1;33m\u001b[0m\u001b[1;33m\u001b[0m\u001b[0m\n",
      "\u001b[1;32m/usr/lib/python2.7/site-packages/sklearn/ensemble/gradient_boosting.pyc\u001b[0m in \u001b[0;36mnegative_gradient\u001b[1;34m(self, y, pred, k, **kwargs)\u001b[0m\n\u001b[0;32m    549\u001b[0m         \u001b[1;34m\"\"\"Compute negative gradient for the ``k``-th class. \"\"\"\u001b[0m\u001b[1;33m\u001b[0m\u001b[0m\n\u001b[0;32m    550\u001b[0m         return y - np.nan_to_num(np.exp(pred[:, k] -\n\u001b[1;32m--> 551\u001b[1;33m                                         logsumexp(pred, axis=1)))\n\u001b[0m\u001b[0;32m    552\u001b[0m \u001b[1;33m\u001b[0m\u001b[0m\n\u001b[0;32m    553\u001b[0m     def _update_terminal_region(self, tree, terminal_regions, leaf, X, y,\n",
      "\u001b[1;32m/usr/lib/python2.7/site-packages/sklearn/utils/extmath.pyc\u001b[0m in \u001b[0;36mlogsumexp\u001b[1;34m(arr, axis)\u001b[0m\n\u001b[0;32m    335\u001b[0m     \u001b[1;31m# the less errors\u001b[0m\u001b[1;33m\u001b[0m\u001b[1;33m\u001b[0m\u001b[0m\n\u001b[0;32m    336\u001b[0m     \u001b[0mvmax\u001b[0m \u001b[1;33m=\u001b[0m \u001b[0marr\u001b[0m\u001b[1;33m.\u001b[0m\u001b[0mmax\u001b[0m\u001b[1;33m(\u001b[0m\u001b[0maxis\u001b[0m\u001b[1;33m=\u001b[0m\u001b[1;36m0\u001b[0m\u001b[1;33m)\u001b[0m\u001b[1;33m\u001b[0m\u001b[0m\n\u001b[1;32m--> 337\u001b[1;33m     \u001b[0mout\u001b[0m \u001b[1;33m=\u001b[0m \u001b[0mnp\u001b[0m\u001b[1;33m.\u001b[0m\u001b[0mlog\u001b[0m\u001b[1;33m(\u001b[0m\u001b[0mnp\u001b[0m\u001b[1;33m.\u001b[0m\u001b[0msum\u001b[0m\u001b[1;33m(\u001b[0m\u001b[0mnp\u001b[0m\u001b[1;33m.\u001b[0m\u001b[0mexp\u001b[0m\u001b[1;33m(\u001b[0m\u001b[0marr\u001b[0m \u001b[1;33m-\u001b[0m \u001b[0mvmax\u001b[0m\u001b[1;33m)\u001b[0m\u001b[1;33m,\u001b[0m \u001b[0maxis\u001b[0m\u001b[1;33m=\u001b[0m\u001b[1;36m0\u001b[0m\u001b[1;33m)\u001b[0m\u001b[1;33m)\u001b[0m\u001b[1;33m\u001b[0m\u001b[0m\n\u001b[0m\u001b[0;32m    338\u001b[0m     \u001b[0mout\u001b[0m \u001b[1;33m+=\u001b[0m \u001b[0mvmax\u001b[0m\u001b[1;33m\u001b[0m\u001b[0m\n\u001b[0;32m    339\u001b[0m     \u001b[1;32mreturn\u001b[0m \u001b[0mout\u001b[0m\u001b[1;33m\u001b[0m\u001b[0m\n",
      "\u001b[1;31mKeyboardInterrupt\u001b[0m: "
     ]
    }
   ],
   "source": [
    "\n",
    "run_test(fdb, metr_aggr, GradientBoostingClassifier(), trainset1)"
   ]
  },
  {
   "cell_type": "code",
   "execution_count": 22,
   "metadata": {
    "collapsed": false
   },
   "outputs": [
    {
     "name": "stdout",
     "output_type": "stream",
     "text": [
      "start\n",
      "Fit\n",
      "********** 2 isblank isblank\n",
      "********** 31 sigaddset sigaddset\n",
      "********** 59 strdup strdup\n",
      "********** 152 iconv_open iconv_open\n",
      "********** 180 fwritable fwritable\n",
      "********** 206 mkfifo mkfifo\n",
      "********** 217 execlp execlp\n",
      "********** 302 isalnum isalnum\n",
      "********** 313 dirname dirname\n",
      "********** 398 iswdigit iswdigit\n",
      "********** 411 isblank isblank\n",
      "********** 456 isalpha isalpha\n",
      "********** 481 dn_skipname dn_skipname\n",
      "********** 484 sigdelset sigdelset\n",
      "********** 490 fgetpos fgetpos\n",
      "********** 501 bsearch bsearch\n",
      "********** 520 getpriority getpriority\n",
      "********** 526 cfmakeraw cfmakeraw\n",
      "********** 535 getopt getopt\n",
      "********** 537 lockf lockf\n",
      "********** 549 wcswidth wcswidth\n",
      "********** 571 to64 to64\n",
      "22 of 596 0.0369127516779\n",
      "22 of 419 0.0525059665871\n"
     ]
    }
   ],
   "source": [
    "run_test(fdb, metr_aggr, BaggingClassifier(), trainset1)"
   ]
  },
  {
   "cell_type": "code",
   "execution_count": null,
   "metadata": {
    "collapsed": false
   },
   "outputs": [
    {
     "name": "stdout",
     "output_type": "stream",
     "text": [
      "start\n",
      "Fit\n",
      "********** 2 isblank isblank\n",
      "********** 59 strdup strdup\n",
      "********** 152 iconv_open iconv_open\n",
      "********** 187 atoi atoi\n",
      "********** 206 mkfifo mkfifo\n",
      "********** 277 if_nameindex if_nameindex\n",
      "********** 302 isalnum isalnum\n",
      "********** 313 dirname dirname\n",
      "********** 319 md5crypt md5crypt\n",
      "********** 359 labs labs\n",
      "********** 377 ctime ctime\n",
      "********** 379 execle execle\n",
      "********** 411 isblank isblank\n",
      "********** 456 isalpha isalpha\n",
      "********** 501 bsearch bsearch\n",
      "********** 526 cfmakeraw cfmakeraw\n",
      "********** 537 lockf lockf\n",
      "********** 549 wcswidth wcswidth\n",
      "********** 571 to64 to64\n",
      "19 of 596 0.0318791946309\n",
      "19 of 373 0.0509383378016\n"
     ]
    }
   ],
   "source": [
    "run_test(fdb, metr_aggr, BaggingClassifier(), trainset2)"
   ]
  },
  {
   "cell_type": "code",
   "execution_count": null,
   "metadata": {
    "collapsed": false
   },
   "outputs": [
    {
     "name": "stdout",
     "output_type": "stream",
     "text": [
      "start\n",
      "Fit"
     ]
    }
   ],
   "source": [
    "run_test(fdb, metr_aggr, ExtraTreesClassifier(), trainset1)"
   ]
  },
  {
   "cell_type": "code",
   "execution_count": null,
   "metadata": {
    "collapsed": true
   },
   "outputs": [],
   "source": [
    "run_test(fdb, metr_aggr, ExtraTreesClassifier(), trainset2)"
   ]
  },
  {
   "cell_type": "code",
   "execution_count": null,
   "metadata": {
    "collapsed": false
   },
   "outputs": [
    {
     "name": "stdout",
     "output_type": "stream",
     "text": [
      "start\n",
      "Fit"
     ]
    }
   ],
   "source": [
    "run_test(fdb, metr_aggr, GradientBoostingClassifier(), trainset1)"
   ]
  },
  {
   "cell_type": "code",
   "execution_count": null,
   "metadata": {
    "collapsed": true
   },
   "outputs": [],
   "source": [
    "run_test(fdb, metr_aggr, GradientBoostingClassifier(), trainset2)"
   ]
  },
  {
   "cell_type": "code",
   "execution_count": null,
   "metadata": {
    "collapsed": false
   },
   "outputs": [
    {
     "name": "stdout",
     "output_type": "stream",
     "text": [
      "start\n",
      "Fit"
     ]
    }
   ],
   "source": [
    "run_test(fdb, metr_aggr, RandomForestClassifier(n_estimators=15), trainset1)"
   ]
  },
  {
   "cell_type": "code",
   "execution_count": 5,
   "metadata": {
    "collapsed": false
   },
   "outputs": [
    {
     "name": "stdout",
     "output_type": "stream",
     "text": [
      "start\n",
      "Fit\n",
      "********** 2 isblank isblank\n",
      "********** 31 sigaddset sigaddset\n",
      "********** 59 strdup strdup\n",
      "********** 152 iconv_open iconv_open\n",
      "********** 158 mq_receive mq_receive\n",
      "********** 187 atoi atoi\n",
      "********** 206 mkfifo mkfifo\n",
      "********** 302 isalnum isalnum\n",
      "********** 313 dirname dirname\n",
      "********** 338 freadable freadable\n",
      "********** 358 atol atol\n",
      "********** 411 isblank isblank\n",
      "********** 436 iconv iconv\n",
      "********** 456 isalpha isalpha\n",
      "********** 484 sigdelset sigdelset\n",
      "********** 490 fgetpos fgetpos\n",
      "********** 501 bsearch bsearch\n",
      "********** 520 getpriority getpriority\n",
      "********** 526 cfmakeraw cfmakeraw\n",
      "********** 535 getopt getopt\n",
      "********** 537 lockf lockf\n",
      "********** 571 to64 to64\n",
      "22 of 596 0.0369127516779\n",
      "22 of 373 0.058981233244\n"
     ]
    }
   ],
   "source": [
    "run_test(fdb, metr_aggr, RandomForestClassifier(n_estimators=15), trainset2)"
   ]
  },
  {
   "cell_type": "code",
   "execution_count": 6,
   "metadata": {
    "collapsed": false
   },
   "outputs": [
    {
     "name": "stdout",
     "output_type": "stream",
     "text": [
      "start\n",
      "Fit\n",
      "********** 2 isblank isblank\n",
      "********** 13 mq_send mq_send\n",
      "********** 31 sigaddset sigaddset\n",
      "********** 59 strdup strdup\n",
      "********** 152 iconv_open iconv_open\n",
      "********** 187 atoi atoi\n",
      "********** 206 mkfifo mkfifo\n",
      "********** 302 isalnum isalnum\n",
      "********** 313 dirname dirname\n",
      "********** 319 md5crypt md5crypt\n",
      "********** 336 res_mkquery res_mkquery\n",
      "********** 411 isblank isblank\n",
      "********** 456 isalpha isalpha\n",
      "********** 484 sigdelset sigdelset\n",
      "********** 490 fgetpos fgetpos\n",
      "********** 501 bsearch bsearch\n",
      "********** 519 bzero bzero\n",
      "********** 520 getpriority getpriority\n",
      "********** 526 cfmakeraw cfmakeraw\n",
      "********** 535 getopt getopt\n",
      "********** 537 lockf lockf\n",
      "********** 548 mbsinit mbsinit\n",
      "********** 549 wcswidth wcswidth\n",
      "********** 550 wmemcpy wmemcpy\n",
      "********** 571 to64 to64\n",
      "25 of 596 0.0419463087248\n",
      "25 of 373 0.0670241286863\n"
     ]
    }
   ],
   "source": [
    "run_test(fdb, metr_aggr, RandomForestClassifier(n_estimators=16), trainset2)"
   ]
  },
  {
   "cell_type": "code",
   "execution_count": 7,
   "metadata": {
    "collapsed": false
   },
   "outputs": [
    {
     "name": "stdout",
     "output_type": "stream",
     "text": [
      "start\n",
      "Fit\n",
      "********** 2 isblank isblank\n",
      "********** 31 sigaddset sigaddset\n",
      "********** 59 strdup strdup\n",
      "********** 81 execl execl\n",
      "********** 144 opendir opendir\n",
      "********** 152 iconv_open iconv_open\n",
      "********** 173 sigemptyset sigemptyset\n",
      "********** 187 atoi atoi\n",
      "********** 206 mkfifo mkfifo\n",
      "********** 217 execlp execlp\n",
      "********** 302 isalnum isalnum\n",
      "********** 313 dirname dirname\n",
      "********** 338 freadable freadable\n",
      "********** 359 labs labs\n",
      "********** 379 execle execle\n",
      "********** 411 isblank isblank\n",
      "********** 436 iconv iconv\n",
      "********** 456 isalpha isalpha\n",
      "********** 484 sigdelset sigdelset\n",
      "********** 501 bsearch bsearch\n",
      "********** 526 cfmakeraw cfmakeraw\n",
      "********** 535 getopt getopt\n",
      "********** 549 wcswidth wcswidth\n",
      "********** 550 wmemcpy wmemcpy\n",
      "********** 571 to64 to64\n",
      "25 of 596 0.0419463087248\n",
      "25 of 373 0.0670241286863\n"
     ]
    }
   ],
   "source": [
    "run_test(fdb, metr_aggr, RandomForestClassifier(n_estimators=17), trainset2)"
   ]
  },
  {
   "cell_type": "code",
   "execution_count": 8,
   "metadata": {
    "collapsed": false
   },
   "outputs": [
    {
     "name": "stdout",
     "output_type": "stream",
     "text": [
      "start\n",
      "Fit\n",
      "********** 2 isblank isblank\n",
      "********** 31 sigaddset sigaddset\n",
      "********** 59 strdup strdup\n",
      "********** 81 execl execl\n",
      "********** 152 iconv_open iconv_open\n",
      "********** 206 mkfifo mkfifo\n",
      "********** 213 gmtime gmtime\n",
      "********** 302 isalnum isalnum\n",
      "********** 313 dirname dirname\n",
      "********** 349 putchar putchar\n",
      "********** 358 atol atol\n",
      "********** 411 isblank isblank\n",
      "********** 436 iconv iconv\n",
      "********** 456 isalpha isalpha\n",
      "********** 481 dn_skipname dn_skipname\n",
      "********** 484 sigdelset sigdelset\n",
      "********** 490 fgetpos fgetpos\n",
      "********** 501 bsearch bsearch\n",
      "********** 520 getpriority getpriority\n",
      "********** 526 cfmakeraw cfmakeraw\n",
      "********** 535 getopt getopt\n",
      "********** 537 lockf lockf\n",
      "********** 548 mbsinit mbsinit\n",
      "********** 549 wcswidth wcswidth\n",
      "********** 550 wmemcpy wmemcpy\n",
      "********** 571 to64 to64\n",
      "26 of 596 0.0436241610738\n",
      "26 of 373 0.0697050938338\n"
     ]
    }
   ],
   "source": [
    "run_test(fdb, metr_aggr, RandomForestClassifier(n_estimators=18), trainset2)"
   ]
  },
  {
   "cell_type": "code",
   "execution_count": 9,
   "metadata": {
    "collapsed": false
   },
   "outputs": [
    {
     "name": "stdout",
     "output_type": "stream",
     "text": [
      "start\n",
      "Fit\n",
      "********** 2 isblank isblank\n",
      "********** 31 sigaddset sigaddset\n",
      "********** 59 strdup strdup\n",
      "********** 82 get_current_dir_name get_current_dir_name\n",
      "********** 152 iconv_open iconv_open\n",
      "********** 206 mkfifo mkfifo\n",
      "********** 302 isalnum isalnum\n",
      "********** 313 dirname dirname\n",
      "********** 359 labs labs\n",
      "********** 379 execle execle\n",
      "********** 411 isblank isblank\n",
      "********** 456 isalpha isalpha\n",
      "********** 481 dn_skipname dn_skipname\n",
      "********** 484 sigdelset sigdelset\n",
      "********** 501 bsearch bsearch\n",
      "********** 526 cfmakeraw cfmakeraw\n",
      "********** 535 getopt getopt\n",
      "********** 537 lockf lockf\n",
      "********** 548 mbsinit mbsinit\n",
      "********** 549 wcswidth wcswidth\n",
      "********** 571 to64 to64\n",
      "21 of 596 0.0352348993289\n",
      "21 of 373 0.0563002680965\n"
     ]
    }
   ],
   "source": [
    "run_test(fdb, metr_aggr, RandomForestClassifier(n_estimators=19), trainset2)"
   ]
  },
  {
   "cell_type": "code",
   "execution_count": 10,
   "metadata": {
    "collapsed": false
   },
   "outputs": [
    {
     "name": "stdout",
     "output_type": "stream",
     "text": [
      "start\n",
      "Fit\n",
      "********** 2 isblank isblank\n",
      "********** 31 sigaddset sigaddset\n",
      "********** 59 strdup strdup\n",
      "********** 152 iconv_open iconv_open\n",
      "********** 180 fwritable fwritable\n",
      "********** 206 mkfifo mkfifo\n",
      "********** 217 execlp execlp\n",
      "********** 302 isalnum isalnum\n",
      "********** 313 dirname dirname\n",
      "********** 319 md5crypt md5crypt\n",
      "********** 336 res_mkquery res_mkquery\n",
      "********** 355 abs abs\n",
      "********** 358 atol atol\n",
      "********** 379 execle execle\n",
      "********** 411 isblank isblank\n",
      "********** 436 iconv iconv\n",
      "********** 456 isalpha isalpha\n",
      "********** 484 sigdelset sigdelset\n",
      "********** 501 bsearch bsearch\n",
      "********** 526 cfmakeraw cfmakeraw\n",
      "********** 537 lockf lockf\n",
      "********** 571 to64 to64\n",
      "22 of 596 0.0369127516779\n",
      "22 of 373 0.058981233244\n"
     ]
    }
   ],
   "source": [
    "run_test(fdb, metr_aggr, RandomForestClassifier(n_estimators=20), trainset2)"
   ]
  },
  {
   "cell_type": "code",
   "execution_count": 12,
   "metadata": {
    "collapsed": false
   },
   "outputs": [
    {
     "name": "stdout",
     "output_type": "stream",
     "text": [
      "start\n",
      "Fit\n",
      "********** 2 isblank isblank\n",
      "********** 81 execl execl\n",
      "********** 122 ldiv ldiv\n",
      "********** 187 atoi atoi\n",
      "********** 338 freadable freadable\n",
      "********** 359 labs labs\n",
      "********** 377 ctime ctime\n",
      "********** 411 isblank isblank\n",
      "********** 490 fgetpos fgetpos\n",
      "********** 519 bzero bzero\n",
      "********** 526 cfmakeraw cfmakeraw\n",
      "11 of 596 0.0184563758389\n",
      "11 of 419 0.0262529832936\n"
     ]
    }
   ],
   "source": [
    "run_test(fdb, metr_aggr, BaggingClassifier(KNeighborsClassifier()), trainset1)"
   ]
  },
  {
   "cell_type": "code",
   "execution_count": 13,
   "metadata": {
    "collapsed": false
   },
   "outputs": [
    {
     "name": "stdout",
     "output_type": "stream",
     "text": [
      "start\n",
      "Fit\n",
      "********** 122 ldiv ldiv\n",
      "********** 185 flbf flbf\n",
      "********** 490 fgetpos fgetpos\n",
      "********** 523 fstatvfs fstatvfs\n",
      "4 of 596 0.00671140939597\n",
      "4 of 373 0.0107238605898\n"
     ]
    }
   ],
   "source": [
    "run_test(fdb, metr_aggr, BaggingClassifier(KNeighborsClassifier()), trainset2)"
   ]
  },
  {
   "cell_type": "code",
   "execution_count": null,
   "metadata": {
    "collapsed": true
   },
   "outputs": [],
   "source": []
  }
 ],
 "metadata": {
  "kernelspec": {
   "display_name": "Python 2",
   "language": "python",
   "name": "python2"
  },
  "language_info": {
   "codemirror_mode": {
    "name": "ipython",
    "version": 2
   },
   "file_extension": ".py",
   "mimetype": "text/x-python",
   "name": "python",
   "nbconvert_exporter": "python",
   "pygments_lexer": "ipython2",
   "version": "2.7.9"
  }
 },
 "nbformat": 4,
 "nbformat_minor": 0
}
